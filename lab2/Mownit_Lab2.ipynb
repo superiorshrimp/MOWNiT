{
 "cells": [
  {
   "cell_type": "code",
   "execution_count": null,
   "metadata": {},
   "outputs": [],
   "source": []
  },
  {
   "cell_type": "markdown",
   "metadata": {},
   "source": [
    "# MOwNiT\n",
    "## Laboratorium 2\n",
    "### Analiza danych - DataFrames"
   ]
  },
  {
   "cell_type": "markdown",
   "metadata": {},
   "source": [
    "- Zaawansowany pakiet do działania na tabelkach nxm danych \n",
    "- Podobne do pandas DataFrames w Pythonie albo data.frame w R\n",
    "- Specjalistyczne funkcje do statystyki\n",
    "- W przypadku własnej instalacji należy zaistalować pakiet:\n",
    "\n",
    "```julia\n",
    "Pkg.add(\"DataFrames\")\n",
    "```\n",
    "\n",
    "- DataFrame to rodzaj bazy danych in-memory\n",
    "- Składa się z kolumn, do których odwołujemy się używając symboli\n",
    "- Każda z kolumn może przechowywać inny typ (inaczej niż w dwuwymiarowych tablicach )\n",
    "- od wersji 0.11 każda z kolumn jest typu Array{T,1} gdzie T jest okreslonym typem danych (np. Float64)\n",
    "- strona pakietu: https://github.com/JuliaStats/DataFrames.jl\n",
    "- dokumentacja najnowszej wersji: https://juliadata.github.io/DataFrames.jl/stable/index.html\n",
    "\n",
    "\n",
    "\n"
   ]
  },
  {
   "cell_type": "code",
   "execution_count": 1,
   "metadata": {},
   "outputs": [],
   "source": [
    "# za pierwszym razem instalujemy\n",
    "# using Pkg\n",
    "# Pkg.add(\"DataFrames\")"
   ]
  },
  {
   "cell_type": "code",
   "execution_count": 2,
   "metadata": {},
   "outputs": [],
   "source": [
    "using DataFrames"
   ]
  },
  {
   "cell_type": "markdown",
   "metadata": {},
   "source": [
    "Tworzenie DataFrame"
   ]
  },
  {
   "cell_type": "code",
   "execution_count": 3,
   "metadata": {},
   "outputs": [
    {
     "name": "stdout",
     "output_type": "stream",
     "text": [
      "\u001b[1m4×3 DataFrame\u001b[0m\n",
      "\u001b[1m Row \u001b[0m│\u001b[1m MojaKolumna \u001b[0m\u001b[1m x2       \u001b[0m\u001b[1m Col3  \u001b[0m\n",
      "\u001b[1m     \u001b[0m│\u001b[90m Int64       \u001b[0m\u001b[90m Float64  \u001b[0m\u001b[90m Bool  \u001b[0m\n",
      "─────┼──────────────────────────────\n",
      "   1 │           1   4.0       true\n",
      "   2 │           2   3.14159  false\n",
      "   3 │           3   1.41421   true\n",
      "   4 │           4  42.0      false"
     ]
    }
   ],
   "source": [
    "df1 = DataFrame()\n",
    "df1.MojaKolumna = 1:4\n",
    "df1.x2 = [4, pi, sqrt(2), 42]\n",
    "df1.Col3 = [true, false, true, false]\n",
    "show(df1)"
   ]
  },
  {
   "cell_type": "markdown",
   "metadata": {},
   "source": [
    "Indeksowanie - różnica `!` i `:`:\n",
    "- `!` nie tworzy kopii (zwraca referencje do tablicy)\n",
    "- `:` zwraca kopię tablicy"
   ]
  },
  {
   "cell_type": "code",
   "execution_count": 4,
   "metadata": {},
   "outputs": [
    {
     "name": "stdout",
     "output_type": "stream",
     "text": [
      "[4.0, 3.141592653589793, 1.4142135623730951, 42.0]\n",
      "[-2.0, 3.141592653589793, 1.4142135623730951, 42.0]\n",
      "\u001b[1m4×3 DataFrame\u001b[0m\n",
      "\u001b[1m Row \u001b[0m│\u001b[1m MojaKolumna \u001b[0m\u001b[1m x2       \u001b[0m\u001b[1m Col3  \u001b[0m\n",
      "\u001b[1m     \u001b[0m│\u001b[90m Int64       \u001b[0m\u001b[90m Float64  \u001b[0m\u001b[90m Bool  \u001b[0m\n",
      "─────┼──────────────────────────────\n",
      "   1 │           1  -2.0       true\n",
      "   2 │           2   3.14159  false\n",
      "   3 │           3   1.41421   true\n",
      "   4 │           4  42.0      false"
     ]
    }
   ],
   "source": [
    "# przykład dla !, referencja\n",
    "kol2ref = df1[!, 2]\n",
    "println(kol2ref)\n",
    "kol2ref[1] = -2 \n",
    "println(kol2ref)\n",
    "show(df1)\n",
    "# wartość w df1 również zmieniona"
   ]
  },
  {
   "cell_type": "code",
   "execution_count": 5,
   "metadata": {},
   "outputs": [
    {
     "name": "stdout",
     "output_type": "stream",
     "text": [
      "[-2.0, 3.141592653589793, 1.4142135623730951, 42.0]\n",
      "[-99.0, 3.141592653589793, 1.4142135623730951, 42.0]\n",
      "\u001b[1m4×3 DataFrame\u001b[0m\n",
      "\u001b[1m Row \u001b[0m│\u001b[1m MojaKolumna \u001b[0m\u001b[1m x2       \u001b[0m\u001b[1m Col3  \u001b[0m\n",
      "\u001b[1m     \u001b[0m│\u001b[90m Int64       \u001b[0m\u001b[90m Float64  \u001b[0m\u001b[90m Bool  \u001b[0m\n",
      "─────┼──────────────────────────────\n",
      "   1 │           1  -2.0       true\n",
      "   2 │           2   3.14159  false\n",
      "   3 │           3   1.41421   true\n",
      "   4 │           4  42.0      false"
     ]
    }
   ],
   "source": [
    "# przykład dla :, kopia\n",
    "kol2kopia = df1[:, 2]\n",
    "println(kol2kopia)\n",
    "kol2kopia[1] = -99\n",
    "println(kol2kopia)\n",
    "show(df1)\n",
    "# wartość w df1 niezmieniona, dalej -2 zamiast -99"
   ]
  },
  {
   "cell_type": "code",
   "execution_count": 6,
   "metadata": {},
   "outputs": [
    {
     "data": {
      "text/html": [
       "<div class=\"data-frame\"><p>4 rows × 3 columns</p><table class=\"data-frame\"><thead><tr><th></th><th>MojaKolumna</th><th>x2</th><th>Col3</th></tr><tr><th></th><th title=\"Int64\">Int64</th><th title=\"Float64\">Float64</th><th title=\"Bool\">Bool</th></tr></thead><tbody><tr><th>1</th><td>1</td><td>-2.0</td><td>1</td></tr><tr><th>2</th><td>2</td><td>3.14159</td><td>0</td></tr><tr><th>3</th><td>3</td><td>1.41421</td><td>1</td></tr><tr><th>4</th><td>4</td><td>42.0</td><td>0</td></tr></tbody></table></div>"
      ],
      "text/latex": [
       "\\begin{tabular}{r|ccc}\n",
       "\t& MojaKolumna & x2 & Col3\\\\\n",
       "\t\\hline\n",
       "\t& Int64 & Float64 & Bool\\\\\n",
       "\t\\hline\n",
       "\t1 & 1 & -2.0 & 1 \\\\\n",
       "\t2 & 2 & 3.14159 & 0 \\\\\n",
       "\t3 & 3 & 1.41421 & 1 \\\\\n",
       "\t4 & 4 & 42.0 & 0 \\\\\n",
       "\\end{tabular}\n"
      ],
      "text/plain": [
       "\u001b[1m4×3 DataFrame\u001b[0m\n",
       "\u001b[1m Row \u001b[0m│\u001b[1m MojaKolumna \u001b[0m\u001b[1m x2       \u001b[0m\u001b[1m Col3  \u001b[0m\n",
       "\u001b[1m     \u001b[0m│\u001b[90m Int64       \u001b[0m\u001b[90m Float64  \u001b[0m\u001b[90m Bool  \u001b[0m\n",
       "─────┼──────────────────────────────\n",
       "   1 │           1  -2.0       true\n",
       "   2 │           2   3.14159  false\n",
       "   3 │           3   1.41421   true\n",
       "   4 │           4  42.0      false"
      ]
     },
     "execution_count": 6,
     "metadata": {},
     "output_type": "execute_result"
    }
   ],
   "source": [
    "df1"
   ]
  },
  {
   "cell_type": "code",
   "execution_count": 7,
   "metadata": {},
   "outputs": [
    {
     "data": {
      "text/plain": [
       "Vector{Bool} (alias for Array{Bool, 1})"
      ]
     },
     "execution_count": 7,
     "metadata": {},
     "output_type": "execute_result"
    }
   ],
   "source": [
    "typeof(df1.Col3)"
   ]
  },
  {
   "cell_type": "code",
   "execution_count": 8,
   "metadata": {},
   "outputs": [
    {
     "data": {
      "text/html": [
       "<div class=\"data-frame\"><p>10 rows × 3 columns</p><table class=\"data-frame\"><thead><tr><th></th><th>MojaKolumna</th><th>Col2</th><th>Col3</th></tr><tr><th></th><th title=\"Int64\">Int64</th><th title=\"Float64\">Float64</th><th title=\"Bool\">Bool</th></tr></thead><tbody><tr><th>1</th><td>1</td><td>2.0</td><td>1</td></tr><tr><th>2</th><td>2</td><td>3.14159</td><td>1</td></tr><tr><th>3</th><td>3</td><td>1.41421</td><td>0</td></tr><tr><th>4</th><td>4</td><td>3.0</td><td>1</td></tr><tr><th>5</th><td>5</td><td>4.0</td><td>0</td></tr><tr><th>6</th><td>6</td><td>2.0</td><td>1</td></tr><tr><th>7</th><td>7</td><td>3.14159</td><td>1</td></tr><tr><th>8</th><td>8</td><td>1.41421</td><td>0</td></tr><tr><th>9</th><td>9</td><td>3.0</td><td>1</td></tr><tr><th>10</th><td>10</td><td>4.0</td><td>0</td></tr></tbody></table></div>"
      ],
      "text/latex": [
       "\\begin{tabular}{r|ccc}\n",
       "\t& MojaKolumna & Col2 & Col3\\\\\n",
       "\t\\hline\n",
       "\t& Int64 & Float64 & Bool\\\\\n",
       "\t\\hline\n",
       "\t1 & 1 & 2.0 & 1 \\\\\n",
       "\t2 & 2 & 3.14159 & 1 \\\\\n",
       "\t3 & 3 & 1.41421 & 0 \\\\\n",
       "\t4 & 4 & 3.0 & 1 \\\\\n",
       "\t5 & 5 & 4.0 & 0 \\\\\n",
       "\t6 & 6 & 2.0 & 1 \\\\\n",
       "\t7 & 7 & 3.14159 & 1 \\\\\n",
       "\t8 & 8 & 1.41421 & 0 \\\\\n",
       "\t9 & 9 & 3.0 & 1 \\\\\n",
       "\t10 & 10 & 4.0 & 0 \\\\\n",
       "\\end{tabular}\n"
      ],
      "text/plain": [
       "\u001b[1m10×3 DataFrame\u001b[0m\n",
       "\u001b[1m Row \u001b[0m│\u001b[1m MojaKolumna \u001b[0m\u001b[1m Col2    \u001b[0m\u001b[1m Col3  \u001b[0m\n",
       "\u001b[1m     \u001b[0m│\u001b[90m Int64       \u001b[0m\u001b[90m Float64 \u001b[0m\u001b[90m Bool  \u001b[0m\n",
       "─────┼─────────────────────────────\n",
       "   1 │           1  2.0       true\n",
       "   2 │           2  3.14159   true\n",
       "   3 │           3  1.41421  false\n",
       "   4 │           4  3.0       true\n",
       "   5 │           5  4.0      false\n",
       "   6 │           6  2.0       true\n",
       "   7 │           7  3.14159   true\n",
       "   8 │           8  1.41421  false\n",
       "   9 │           9  3.0       true\n",
       "  10 │          10  4.0      false"
      ]
     },
     "execution_count": 8,
     "metadata": {},
     "output_type": "execute_result"
    }
   ],
   "source": [
    "# możemy też utworzyć DataFrame używając konstruktora\n",
    "df2 = DataFrame(\n",
    "    MojaKolumna=1:10,\n",
    "    Col2=[2,pi, sqrt(2), 3, 4,2,pi, sqrt(2), 3, 4], \n",
    "    Col3=[true,true,false,true,false,true,true,false,true,false]\n",
    ")"
   ]
  },
  {
   "cell_type": "code",
   "execution_count": 9,
   "metadata": {},
   "outputs": [
    {
     "data": {
      "text/plain": [
       "(10, 3)"
      ]
     },
     "execution_count": 9,
     "metadata": {},
     "output_type": "execute_result"
    }
   ],
   "source": [
    "# wymiar (wiersze, kolumny)\n",
    "size(df2)"
   ]
  },
  {
   "cell_type": "code",
   "execution_count": 10,
   "metadata": {},
   "outputs": [
    {
     "data": {
      "text/plain": [
       "10"
      ]
     },
     "execution_count": 10,
     "metadata": {},
     "output_type": "execute_result"
    }
   ],
   "source": [
    "# ilosc wierszy\n",
    "size(df2, 1) "
   ]
  },
  {
   "cell_type": "code",
   "execution_count": 11,
   "metadata": {},
   "outputs": [
    {
     "data": {
      "text/plain": [
       "3"
      ]
     },
     "execution_count": 11,
     "metadata": {},
     "output_type": "execute_result"
    }
   ],
   "source": [
    "# ilosc kolumn\n",
    "size(df2, 2) "
   ]
  },
  {
   "cell_type": "code",
   "execution_count": 12,
   "metadata": {},
   "outputs": [
    {
     "name": "stdout",
     "output_type": "stream",
     "text": [
      "[2.0, 3.141592653589793, 1.4142135623730951, 3.0, 4.0, 2.0, 3.141592653589793, 1.4142135623730951, 3.0, 4.0]"
     ]
    }
   ],
   "source": [
    "# można odwoływać się po indeksie\n",
    "show(df2[:,2])"
   ]
  },
  {
   "cell_type": "code",
   "execution_count": 13,
   "metadata": {},
   "outputs": [
    {
     "name": "stdout",
     "output_type": "stream",
     "text": [
      "[2.0, 3.141592653589793, 1.4142135623730951, 3.0, 4.0, 2.0, 3.141592653589793, 1.4142135623730951, 3.0, 4.0]"
     ]
    }
   ],
   "source": [
    "# albo po symbolu kolumny\n",
    "show(df2[!,:Col2])"
   ]
  },
  {
   "cell_type": "code",
   "execution_count": 14,
   "metadata": {},
   "outputs": [
    {
     "name": "stdout",
     "output_type": "stream",
     "text": [
      "\u001b[1mDataFrameRow\u001b[0m\n",
      "\u001b[1m Row \u001b[0m│\u001b[1m MojaKolumna \u001b[0m\u001b[1m Col2    \u001b[0m\u001b[1m Col3  \u001b[0m\n",
      "\u001b[1m     \u001b[0m│\u001b[90m Int64       \u001b[0m\u001b[90m Float64 \u001b[0m\u001b[90m Bool  \u001b[0m\n",
      "─────┼─────────────────────────────\n",
      "   3 │           3  1.41421  false"
     ]
    }
   ],
   "source": [
    "# wiersze lub podzbiory wierszy i kolumn uzyskujemy poprzez operator (:). Wynikiem jest nowy DataFrame\n",
    "show(df2[3,:])"
   ]
  },
  {
   "cell_type": "code",
   "execution_count": 15,
   "metadata": {},
   "outputs": [
    {
     "data": {
      "text/html": [
       "<div class=\"data-frame\"><p>2 rows × 3 columns</p><table class=\"data-frame\"><thead><tr><th></th><th>MojaKolumna</th><th>Col2</th><th>Col3</th></tr><tr><th></th><th title=\"Int64\">Int64</th><th title=\"Float64\">Float64</th><th title=\"Bool\">Bool</th></tr></thead><tbody><tr><th>1</th><td>2</td><td>3.14159</td><td>1</td></tr><tr><th>2</th><td>3</td><td>1.41421</td><td>0</td></tr></tbody></table></div>"
      ],
      "text/latex": [
       "\\begin{tabular}{r|ccc}\n",
       "\t& MojaKolumna & Col2 & Col3\\\\\n",
       "\t\\hline\n",
       "\t& Int64 & Float64 & Bool\\\\\n",
       "\t\\hline\n",
       "\t1 & 2 & 3.14159 & 1 \\\\\n",
       "\t2 & 3 & 1.41421 & 0 \\\\\n",
       "\\end{tabular}\n"
      ],
      "text/plain": [
       "\u001b[1m2×3 DataFrame\u001b[0m\n",
       "\u001b[1m Row \u001b[0m│\u001b[1m MojaKolumna \u001b[0m\u001b[1m Col2    \u001b[0m\u001b[1m Col3  \u001b[0m\n",
       "\u001b[1m     \u001b[0m│\u001b[90m Int64       \u001b[0m\u001b[90m Float64 \u001b[0m\u001b[90m Bool  \u001b[0m\n",
       "─────┼─────────────────────────────\n",
       "   1 │           2  3.14159   true\n",
       "   2 │           3  1.41421  false"
      ]
     },
     "execution_count": 15,
     "metadata": {},
     "output_type": "execute_result"
    }
   ],
   "source": [
    "# drugi i trzeci wiersz\n",
    "df2[2:3, :]"
   ]
  },
  {
   "cell_type": "code",
   "execution_count": 16,
   "metadata": {},
   "outputs": [
    {
     "data": {
      "text/plain": [
       "2-element Vector{Float64}:\n",
       " 3.141592653589793\n",
       " 1.4142135623730951"
      ]
     },
     "execution_count": 16,
     "metadata": {},
     "output_type": "execute_result"
    }
   ],
   "source": [
    "# druga kolumna drugiego i trzeciego wiersza\n",
    "df2[2:3, :Col2]"
   ]
  },
  {
   "cell_type": "code",
   "execution_count": 17,
   "metadata": {},
   "outputs": [
    {
     "data": {
      "text/html": [
       "<div class=\"data-frame\"><p>2 rows × 2 columns</p><table class=\"data-frame\"><thead><tr><th></th><th>Col2</th><th>Col3</th></tr><tr><th></th><th title=\"Float64\">Float64</th><th title=\"Bool\">Bool</th></tr></thead><tbody><tr><th>1</th><td>3.14159</td><td>1</td></tr><tr><th>2</th><td>1.41421</td><td>0</td></tr></tbody></table></div>"
      ],
      "text/latex": [
       "\\begin{tabular}{r|cc}\n",
       "\t& Col2 & Col3\\\\\n",
       "\t\\hline\n",
       "\t& Float64 & Bool\\\\\n",
       "\t\\hline\n",
       "\t1 & 3.14159 & 1 \\\\\n",
       "\t2 & 1.41421 & 0 \\\\\n",
       "\\end{tabular}\n"
      ],
      "text/plain": [
       "\u001b[1m2×2 DataFrame\u001b[0m\n",
       "\u001b[1m Row \u001b[0m│\u001b[1m Col2    \u001b[0m\u001b[1m Col3  \u001b[0m\n",
       "\u001b[1m     \u001b[0m│\u001b[90m Float64 \u001b[0m\u001b[90m Bool  \u001b[0m\n",
       "─────┼────────────────\n",
       "   1 │ 3.14159   true\n",
       "   2 │ 1.41421  false"
      ]
     },
     "execution_count": 17,
     "metadata": {},
     "output_type": "execute_result"
    }
   ],
   "source": [
    "# druga i trzecia kolumna drugiego i trzeciego wiersza\n",
    "df2[2:3,[:Col2, :Col3]]"
   ]
  },
  {
   "cell_type": "code",
   "execution_count": 18,
   "metadata": {},
   "outputs": [
    {
     "data": {
      "text/html": [
       "<div class=\"data-frame\"><p>6 rows × 3 columns</p><table class=\"data-frame\"><thead><tr><th></th><th>MojaKolumna</th><th>Col2</th><th>Col3</th></tr><tr><th></th><th title=\"Int64\">Int64</th><th title=\"Float64\">Float64</th><th title=\"Bool\">Bool</th></tr></thead><tbody><tr><th>1</th><td>1</td><td>2.0</td><td>1</td></tr><tr><th>2</th><td>2</td><td>3.14159</td><td>1</td></tr><tr><th>3</th><td>3</td><td>1.41421</td><td>0</td></tr><tr><th>4</th><td>4</td><td>3.0</td><td>1</td></tr><tr><th>5</th><td>5</td><td>4.0</td><td>0</td></tr><tr><th>6</th><td>6</td><td>2.0</td><td>1</td></tr></tbody></table></div>"
      ],
      "text/latex": [
       "\\begin{tabular}{r|ccc}\n",
       "\t& MojaKolumna & Col2 & Col3\\\\\n",
       "\t\\hline\n",
       "\t& Int64 & Float64 & Bool\\\\\n",
       "\t\\hline\n",
       "\t1 & 1 & 2.0 & 1 \\\\\n",
       "\t2 & 2 & 3.14159 & 1 \\\\\n",
       "\t3 & 3 & 1.41421 & 0 \\\\\n",
       "\t4 & 4 & 3.0 & 1 \\\\\n",
       "\t5 & 5 & 4.0 & 0 \\\\\n",
       "\t6 & 6 & 2.0 & 1 \\\\\n",
       "\\end{tabular}\n"
      ],
      "text/plain": [
       "\u001b[1m6×3 DataFrame\u001b[0m\n",
       "\u001b[1m Row \u001b[0m│\u001b[1m MojaKolumna \u001b[0m\u001b[1m Col2    \u001b[0m\u001b[1m Col3  \u001b[0m\n",
       "\u001b[1m     \u001b[0m│\u001b[90m Int64       \u001b[0m\u001b[90m Float64 \u001b[0m\u001b[90m Bool  \u001b[0m\n",
       "─────┼─────────────────────────────\n",
       "   1 │           1  2.0       true\n",
       "   2 │           2  3.14159   true\n",
       "   3 │           3  1.41421  false\n",
       "   4 │           4  3.0       true\n",
       "   5 │           5  4.0      false\n",
       "   6 │           6  2.0       true"
      ]
     },
     "execution_count": 18,
     "metadata": {},
     "output_type": "execute_result"
    }
   ],
   "source": [
    "# pierwsze sześć wierszy\n",
    "DataFrames.first(df2, 6)"
   ]
  },
  {
   "cell_type": "code",
   "execution_count": 19,
   "metadata": {},
   "outputs": [
    {
     "data": {
      "text/html": [
       "<div class=\"data-frame\"><p>6 rows × 3 columns</p><table class=\"data-frame\"><thead><tr><th></th><th>MojaKolumna</th><th>Col2</th><th>Col3</th></tr><tr><th></th><th title=\"Int64\">Int64</th><th title=\"Float64\">Float64</th><th title=\"Bool\">Bool</th></tr></thead><tbody><tr><th>1</th><td>5</td><td>4.0</td><td>0</td></tr><tr><th>2</th><td>6</td><td>2.0</td><td>1</td></tr><tr><th>3</th><td>7</td><td>3.14159</td><td>1</td></tr><tr><th>4</th><td>8</td><td>1.41421</td><td>0</td></tr><tr><th>5</th><td>9</td><td>3.0</td><td>1</td></tr><tr><th>6</th><td>10</td><td>4.0</td><td>0</td></tr></tbody></table></div>"
      ],
      "text/latex": [
       "\\begin{tabular}{r|ccc}\n",
       "\t& MojaKolumna & Col2 & Col3\\\\\n",
       "\t\\hline\n",
       "\t& Int64 & Float64 & Bool\\\\\n",
       "\t\\hline\n",
       "\t1 & 5 & 4.0 & 0 \\\\\n",
       "\t2 & 6 & 2.0 & 1 \\\\\n",
       "\t3 & 7 & 3.14159 & 1 \\\\\n",
       "\t4 & 8 & 1.41421 & 0 \\\\\n",
       "\t5 & 9 & 3.0 & 1 \\\\\n",
       "\t6 & 10 & 4.0 & 0 \\\\\n",
       "\\end{tabular}\n"
      ],
      "text/plain": [
       "\u001b[1m6×3 DataFrame\u001b[0m\n",
       "\u001b[1m Row \u001b[0m│\u001b[1m MojaKolumna \u001b[0m\u001b[1m Col2    \u001b[0m\u001b[1m Col3  \u001b[0m\n",
       "\u001b[1m     \u001b[0m│\u001b[90m Int64       \u001b[0m\u001b[90m Float64 \u001b[0m\u001b[90m Bool  \u001b[0m\n",
       "─────┼─────────────────────────────\n",
       "   1 │           5  4.0      false\n",
       "   2 │           6  2.0       true\n",
       "   3 │           7  3.14159   true\n",
       "   4 │           8  1.41421  false\n",
       "   5 │           9  3.0       true\n",
       "   6 │          10  4.0      false"
      ]
     },
     "execution_count": 19,
     "metadata": {},
     "output_type": "execute_result"
    }
   ],
   "source": [
    "# ostatnie sześć wierszy\n",
    "DataFrames.last(df2, 6)"
   ]
  },
  {
   "cell_type": "code",
   "execution_count": 20,
   "metadata": {},
   "outputs": [
    {
     "data": {
      "text/plain": [
       "3-element Vector{String}:\n",
       " \"MojaKolumna\"\n",
       " \"Col2\"\n",
       " \"Col3\""
      ]
     },
     "execution_count": 20,
     "metadata": {},
     "output_type": "execute_result"
    }
   ],
   "source": [
    "# nazwy kolumn\n",
    "names(df2)"
   ]
  },
  {
   "cell_type": "code",
   "execution_count": 21,
   "metadata": {},
   "outputs": [
    {
     "data": {
      "text/plain": [
       "3-element Vector{DataType}:\n",
       " Int64\n",
       " Float64\n",
       " Bool"
      ]
     },
     "execution_count": 21,
     "metadata": {},
     "output_type": "execute_result"
    }
   ],
   "source": [
    "# typy kolumn\n",
    "eltype.(eachcol(df2))"
   ]
  },
  {
   "cell_type": "code",
   "execution_count": 22,
   "metadata": {},
   "outputs": [
    {
     "data": {
      "text/html": [
       "<div class=\"data-frame\"><p>3 rows × 7 columns</p><table class=\"data-frame\"><thead><tr><th></th><th>variable</th><th>mean</th><th>min</th><th>median</th><th>max</th><th>nmissing</th><th>eltype</th></tr><tr><th></th><th title=\"Symbol\">Symbol</th><th title=\"Float64\">Float64</th><th title=\"Real\">Real</th><th title=\"Float64\">Float64</th><th title=\"Real\">Real</th><th title=\"Int64\">Int64</th><th title=\"DataType\">DataType</th></tr></thead><tbody><tr><th>1</th><td>MojaKolumna</td><td>5.5</td><td>1</td><td>5.5</td><td>10</td><td>0</td><td>Int64</td></tr><tr><th>2</th><td>Col2</td><td>2.71116</td><td>1.41421</td><td>3.0</td><td>4.0</td><td>0</td><td>Float64</td></tr><tr><th>3</th><td>Col3</td><td>0.6</td><td>0</td><td>1.0</td><td>1</td><td>0</td><td>Bool</td></tr></tbody></table></div>"
      ],
      "text/latex": [
       "\\begin{tabular}{r|ccccccc}\n",
       "\t& variable & mean & min & median & max & nmissing & eltype\\\\\n",
       "\t\\hline\n",
       "\t& Symbol & Float64 & Real & Float64 & Real & Int64 & DataType\\\\\n",
       "\t\\hline\n",
       "\t1 & MojaKolumna & 5.5 & 1 & 5.5 & 10 & 0 & Int64 \\\\\n",
       "\t2 & Col2 & 2.71116 & 1.41421 & 3.0 & 4.0 & 0 & Float64 \\\\\n",
       "\t3 & Col3 & 0.6 & 0 & 1.0 & 1 & 0 & Bool \\\\\n",
       "\\end{tabular}\n"
      ],
      "text/plain": [
       "\u001b[1m3×7 DataFrame\u001b[0m\n",
       "\u001b[1m Row \u001b[0m│\u001b[1m variable    \u001b[0m\u001b[1m mean    \u001b[0m\u001b[1m min         \u001b[0m\u001b[1m median  \u001b[0m\u001b[1m max    \u001b[0m\u001b[1m nmissing \u001b[0m\u001b[1m eltype   \u001b[0m\n",
       "\u001b[1m     \u001b[0m│\u001b[90m Symbol      \u001b[0m\u001b[90m Float64 \u001b[0m\u001b[90m Real        \u001b[0m\u001b[90m Float64 \u001b[0m\u001b[90m Real   \u001b[0m\u001b[90m Int64    \u001b[0m\u001b[90m DataType \u001b[0m\n",
       "─────┼────────────────────────────────────────────────────────────────────────\n",
       "   1 │ MojaKolumna  5.5          1            5.5    10           0  Int64\n",
       "   2 │ Col2         2.71116      1.41421      3.0     4.0         0  Float64\n",
       "   3 │ Col3         0.6      false            1.0  true           0  Bool"
      ]
     },
     "execution_count": 22,
     "metadata": {},
     "output_type": "execute_result"
    }
   ],
   "source": [
    "# podstawowe dane statystyczne o wartościach w kolumnie\n",
    "describe(df2)"
   ]
  },
  {
   "cell_type": "code",
   "execution_count": 23,
   "metadata": {},
   "outputs": [
    {
     "data": {
      "text/plain": [
       "2.711161243192578"
      ]
     },
     "execution_count": 23,
     "metadata": {},
     "output_type": "execute_result"
    }
   ],
   "source": [
    "using Statistics\n",
    "mean(df2.Col2)"
   ]
  },
  {
   "cell_type": "code",
   "execution_count": 24,
   "metadata": {},
   "outputs": [
    {
     "data": {
      "text/plain": [
       "0.9150284373648316"
      ]
     },
     "execution_count": 24,
     "metadata": {},
     "output_type": "execute_result"
    }
   ],
   "source": [
    "var(df2.Col2)"
   ]
  },
  {
   "cell_type": "markdown",
   "metadata": {},
   "source": [
    "### Praca z plikami CSV"
   ]
  },
  {
   "cell_type": "code",
   "execution_count": 25,
   "metadata": {},
   "outputs": [],
   "source": [
    "# using Pkg\n",
    "# Pkg.add(\"CSV\")"
   ]
  },
  {
   "cell_type": "code",
   "execution_count": 26,
   "metadata": {},
   "outputs": [],
   "source": [
    "using CSV"
   ]
  },
  {
   "cell_type": "code",
   "execution_count": 27,
   "metadata": {},
   "outputs": [
    {
     "data": {
      "text/html": [
       "<div class=\"data-frame\"><p>1,599 rows × 12 columns (omitted printing of 6 columns)</p><table class=\"data-frame\"><thead><tr><th></th><th>fixed acidity</th><th>volatile acidity</th><th>citric acid</th><th>residual sugar</th><th>chlorides</th><th>free sulfur dioxide</th></tr><tr><th></th><th title=\"Float64\">Float64</th><th title=\"Float64\">Float64</th><th title=\"Float64\">Float64</th><th title=\"Float64\">Float64</th><th title=\"Float64\">Float64</th><th title=\"Float64\">Float64</th></tr></thead><tbody><tr><th>1</th><td>7.4</td><td>0.7</td><td>0.0</td><td>1.9</td><td>0.076</td><td>11.0</td></tr><tr><th>2</th><td>7.8</td><td>0.88</td><td>0.0</td><td>2.6</td><td>0.098</td><td>25.0</td></tr><tr><th>3</th><td>7.8</td><td>0.76</td><td>0.04</td><td>2.3</td><td>0.092</td><td>15.0</td></tr><tr><th>4</th><td>11.2</td><td>0.28</td><td>0.56</td><td>1.9</td><td>0.075</td><td>17.0</td></tr><tr><th>5</th><td>7.4</td><td>0.7</td><td>0.0</td><td>1.9</td><td>0.076</td><td>11.0</td></tr><tr><th>6</th><td>7.4</td><td>0.66</td><td>0.0</td><td>1.8</td><td>0.075</td><td>13.0</td></tr><tr><th>7</th><td>7.9</td><td>0.6</td><td>0.06</td><td>1.6</td><td>0.069</td><td>15.0</td></tr><tr><th>8</th><td>7.3</td><td>0.65</td><td>0.0</td><td>1.2</td><td>0.065</td><td>15.0</td></tr><tr><th>9</th><td>7.8</td><td>0.58</td><td>0.02</td><td>2.0</td><td>0.073</td><td>9.0</td></tr><tr><th>10</th><td>7.5</td><td>0.5</td><td>0.36</td><td>6.1</td><td>0.071</td><td>17.0</td></tr><tr><th>11</th><td>6.7</td><td>0.58</td><td>0.08</td><td>1.8</td><td>0.097</td><td>15.0</td></tr><tr><th>12</th><td>7.5</td><td>0.5</td><td>0.36</td><td>6.1</td><td>0.071</td><td>17.0</td></tr><tr><th>13</th><td>5.6</td><td>0.615</td><td>0.0</td><td>1.6</td><td>0.089</td><td>16.0</td></tr><tr><th>14</th><td>7.8</td><td>0.61</td><td>0.29</td><td>1.6</td><td>0.114</td><td>9.0</td></tr><tr><th>15</th><td>8.9</td><td>0.62</td><td>0.18</td><td>3.8</td><td>0.176</td><td>52.0</td></tr><tr><th>16</th><td>8.9</td><td>0.62</td><td>0.19</td><td>3.9</td><td>0.17</td><td>51.0</td></tr><tr><th>17</th><td>8.5</td><td>0.28</td><td>0.56</td><td>1.8</td><td>0.092</td><td>35.0</td></tr><tr><th>18</th><td>8.1</td><td>0.56</td><td>0.28</td><td>1.7</td><td>0.368</td><td>16.0</td></tr><tr><th>19</th><td>7.4</td><td>0.59</td><td>0.08</td><td>4.4</td><td>0.086</td><td>6.0</td></tr><tr><th>20</th><td>7.9</td><td>0.32</td><td>0.51</td><td>1.8</td><td>0.341</td><td>17.0</td></tr><tr><th>21</th><td>8.9</td><td>0.22</td><td>0.48</td><td>1.8</td><td>0.077</td><td>29.0</td></tr><tr><th>22</th><td>7.6</td><td>0.39</td><td>0.31</td><td>2.3</td><td>0.082</td><td>23.0</td></tr><tr><th>23</th><td>7.9</td><td>0.43</td><td>0.21</td><td>1.6</td><td>0.106</td><td>10.0</td></tr><tr><th>24</th><td>8.5</td><td>0.49</td><td>0.11</td><td>2.3</td><td>0.084</td><td>9.0</td></tr><tr><th>25</th><td>6.9</td><td>0.4</td><td>0.14</td><td>2.4</td><td>0.085</td><td>21.0</td></tr><tr><th>26</th><td>6.3</td><td>0.39</td><td>0.16</td><td>1.4</td><td>0.08</td><td>11.0</td></tr><tr><th>27</th><td>7.6</td><td>0.41</td><td>0.24</td><td>1.8</td><td>0.08</td><td>4.0</td></tr><tr><th>28</th><td>7.9</td><td>0.43</td><td>0.21</td><td>1.6</td><td>0.106</td><td>10.0</td></tr><tr><th>29</th><td>7.1</td><td>0.71</td><td>0.0</td><td>1.9</td><td>0.08</td><td>14.0</td></tr><tr><th>30</th><td>7.8</td><td>0.645</td><td>0.0</td><td>2.0</td><td>0.082</td><td>8.0</td></tr><tr><th>&vellip;</th><td>&vellip;</td><td>&vellip;</td><td>&vellip;</td><td>&vellip;</td><td>&vellip;</td><td>&vellip;</td></tr></tbody></table></div>"
      ],
      "text/latex": [
       "\\begin{tabular}{r|ccccccc}\n",
       "\t& fixed acidity & volatile acidity & citric acid & residual sugar & chlorides & free sulfur dioxide & \\\\\n",
       "\t\\hline\n",
       "\t& Float64 & Float64 & Float64 & Float64 & Float64 & Float64 & \\\\\n",
       "\t\\hline\n",
       "\t1 & 7.4 & 0.7 & 0.0 & 1.9 & 0.076 & 11.0 & $\\dots$ \\\\\n",
       "\t2 & 7.8 & 0.88 & 0.0 & 2.6 & 0.098 & 25.0 & $\\dots$ \\\\\n",
       "\t3 & 7.8 & 0.76 & 0.04 & 2.3 & 0.092 & 15.0 & $\\dots$ \\\\\n",
       "\t4 & 11.2 & 0.28 & 0.56 & 1.9 & 0.075 & 17.0 & $\\dots$ \\\\\n",
       "\t5 & 7.4 & 0.7 & 0.0 & 1.9 & 0.076 & 11.0 & $\\dots$ \\\\\n",
       "\t6 & 7.4 & 0.66 & 0.0 & 1.8 & 0.075 & 13.0 & $\\dots$ \\\\\n",
       "\t7 & 7.9 & 0.6 & 0.06 & 1.6 & 0.069 & 15.0 & $\\dots$ \\\\\n",
       "\t8 & 7.3 & 0.65 & 0.0 & 1.2 & 0.065 & 15.0 & $\\dots$ \\\\\n",
       "\t9 & 7.8 & 0.58 & 0.02 & 2.0 & 0.073 & 9.0 & $\\dots$ \\\\\n",
       "\t10 & 7.5 & 0.5 & 0.36 & 6.1 & 0.071 & 17.0 & $\\dots$ \\\\\n",
       "\t11 & 6.7 & 0.58 & 0.08 & 1.8 & 0.097 & 15.0 & $\\dots$ \\\\\n",
       "\t12 & 7.5 & 0.5 & 0.36 & 6.1 & 0.071 & 17.0 & $\\dots$ \\\\\n",
       "\t13 & 5.6 & 0.615 & 0.0 & 1.6 & 0.089 & 16.0 & $\\dots$ \\\\\n",
       "\t14 & 7.8 & 0.61 & 0.29 & 1.6 & 0.114 & 9.0 & $\\dots$ \\\\\n",
       "\t15 & 8.9 & 0.62 & 0.18 & 3.8 & 0.176 & 52.0 & $\\dots$ \\\\\n",
       "\t16 & 8.9 & 0.62 & 0.19 & 3.9 & 0.17 & 51.0 & $\\dots$ \\\\\n",
       "\t17 & 8.5 & 0.28 & 0.56 & 1.8 & 0.092 & 35.0 & $\\dots$ \\\\\n",
       "\t18 & 8.1 & 0.56 & 0.28 & 1.7 & 0.368 & 16.0 & $\\dots$ \\\\\n",
       "\t19 & 7.4 & 0.59 & 0.08 & 4.4 & 0.086 & 6.0 & $\\dots$ \\\\\n",
       "\t20 & 7.9 & 0.32 & 0.51 & 1.8 & 0.341 & 17.0 & $\\dots$ \\\\\n",
       "\t21 & 8.9 & 0.22 & 0.48 & 1.8 & 0.077 & 29.0 & $\\dots$ \\\\\n",
       "\t22 & 7.6 & 0.39 & 0.31 & 2.3 & 0.082 & 23.0 & $\\dots$ \\\\\n",
       "\t23 & 7.9 & 0.43 & 0.21 & 1.6 & 0.106 & 10.0 & $\\dots$ \\\\\n",
       "\t24 & 8.5 & 0.49 & 0.11 & 2.3 & 0.084 & 9.0 & $\\dots$ \\\\\n",
       "\t25 & 6.9 & 0.4 & 0.14 & 2.4 & 0.085 & 21.0 & $\\dots$ \\\\\n",
       "\t26 & 6.3 & 0.39 & 0.16 & 1.4 & 0.08 & 11.0 & $\\dots$ \\\\\n",
       "\t27 & 7.6 & 0.41 & 0.24 & 1.8 & 0.08 & 4.0 & $\\dots$ \\\\\n",
       "\t28 & 7.9 & 0.43 & 0.21 & 1.6 & 0.106 & 10.0 & $\\dots$ \\\\\n",
       "\t29 & 7.1 & 0.71 & 0.0 & 1.9 & 0.08 & 14.0 & $\\dots$ \\\\\n",
       "\t30 & 7.8 & 0.645 & 0.0 & 2.0 & 0.082 & 8.0 & $\\dots$ \\\\\n",
       "\t$\\dots$ & $\\dots$ & $\\dots$ & $\\dots$ & $\\dots$ & $\\dots$ & $\\dots$ &  \\\\\n",
       "\\end{tabular}\n"
      ],
      "text/plain": [
       "\u001b[1m1599×12 DataFrame\u001b[0m\n",
       "\u001b[1m  Row \u001b[0m│\u001b[1m fixed acidity \u001b[0m\u001b[1m volatile acidity \u001b[0m\u001b[1m citric acid \u001b[0m\u001b[1m residual sugar \u001b[0m\u001b[1m chloride\u001b[0m ⋯\n",
       "\u001b[1m      \u001b[0m│\u001b[90m Float64       \u001b[0m\u001b[90m Float64          \u001b[0m\u001b[90m Float64     \u001b[0m\u001b[90m Float64        \u001b[0m\u001b[90m Float64 \u001b[0m ⋯\n",
       "──────┼─────────────────────────────────────────────────────────────────────────\n",
       "    1 │           7.4             0.7           0.0              1.9      0.07 ⋯\n",
       "    2 │           7.8             0.88          0.0              2.6      0.09\n",
       "    3 │           7.8             0.76          0.04             2.3      0.09\n",
       "    4 │          11.2             0.28          0.56             1.9      0.07\n",
       "    5 │           7.4             0.7           0.0              1.9      0.07 ⋯\n",
       "    6 │           7.4             0.66          0.0              1.8      0.07\n",
       "    7 │           7.9             0.6           0.06             1.6      0.06\n",
       "    8 │           7.3             0.65          0.0              1.2      0.06\n",
       "    9 │           7.8             0.58          0.02             2.0      0.07 ⋯\n",
       "   10 │           7.5             0.5           0.36             6.1      0.07\n",
       "   11 │           6.7             0.58          0.08             1.8      0.09\n",
       "  ⋮   │       ⋮               ⋮               ⋮             ⋮             ⋮    ⋱\n",
       " 1590 │           6.6             0.725         0.2              7.8      0.07\n",
       " 1591 │           6.3             0.55          0.15             1.8      0.07 ⋯\n",
       " 1592 │           5.4             0.74          0.09             1.7      0.08\n",
       " 1593 │           6.3             0.51          0.13             2.3      0.07\n",
       " 1594 │           6.8             0.62          0.08             1.9      0.06\n",
       " 1595 │           6.2             0.6           0.08             2.0      0.09 ⋯\n",
       " 1596 │           5.9             0.55          0.1              2.2      0.06\n",
       " 1597 │           6.3             0.51          0.13             2.3      0.07\n",
       " 1598 │           5.9             0.645         0.12             2.0      0.07\n",
       " 1599 │           6.0             0.31          0.47             3.6      0.06 ⋯\n",
       "\u001b[36m                                                 8 columns and 1578 rows omitted\u001b[0m"
      ]
     },
     "execution_count": 27,
     "metadata": {},
     "output_type": "execute_result"
    }
   ],
   "source": [
    "input = \"winequality.csv\"\n",
    "mydata = CSV.read(input, delim=\";\", DataFrame)"
   ]
  },
  {
   "cell_type": "code",
   "execution_count": 28,
   "metadata": {},
   "outputs": [
    {
     "data": {
      "text/html": [
       "<div class=\"data-frame\"><p>12 rows × 7 columns</p><table class=\"data-frame\"><thead><tr><th></th><th>variable</th><th>mean</th><th>min</th><th>median</th><th>max</th><th>nmissing</th><th>eltype</th></tr><tr><th></th><th title=\"Symbol\">Symbol</th><th title=\"Float64\">Float64</th><th title=\"Real\">Real</th><th title=\"Float64\">Float64</th><th title=\"Real\">Real</th><th title=\"Int64\">Int64</th><th title=\"DataType\">DataType</th></tr></thead><tbody><tr><th>1</th><td>fixed acidity</td><td>8.31964</td><td>4.6</td><td>7.9</td><td>15.9</td><td>0</td><td>Float64</td></tr><tr><th>2</th><td>volatile acidity</td><td>0.527821</td><td>0.12</td><td>0.52</td><td>1.58</td><td>0</td><td>Float64</td></tr><tr><th>3</th><td>citric acid</td><td>0.270976</td><td>0.0</td><td>0.26</td><td>1.0</td><td>0</td><td>Float64</td></tr><tr><th>4</th><td>residual sugar</td><td>2.53881</td><td>0.9</td><td>2.2</td><td>15.5</td><td>0</td><td>Float64</td></tr><tr><th>5</th><td>chlorides</td><td>0.0874665</td><td>0.012</td><td>0.079</td><td>0.611</td><td>0</td><td>Float64</td></tr><tr><th>6</th><td>free sulfur dioxide</td><td>15.8749</td><td>1.0</td><td>14.0</td><td>72.0</td><td>0</td><td>Float64</td></tr><tr><th>7</th><td>total sulfur dioxide</td><td>46.4678</td><td>6.0</td><td>38.0</td><td>289.0</td><td>0</td><td>Float64</td></tr><tr><th>8</th><td>density</td><td>0.996747</td><td>0.99007</td><td>0.99675</td><td>1.00369</td><td>0</td><td>Float64</td></tr><tr><th>9</th><td>pH</td><td>3.31111</td><td>2.74</td><td>3.31</td><td>4.01</td><td>0</td><td>Float64</td></tr><tr><th>10</th><td>sulphates</td><td>0.658149</td><td>0.33</td><td>0.62</td><td>2.0</td><td>0</td><td>Float64</td></tr><tr><th>11</th><td>alcohol</td><td>10.423</td><td>8.4</td><td>10.2</td><td>14.9</td><td>0</td><td>Float64</td></tr><tr><th>12</th><td>quality</td><td>5.63602</td><td>3</td><td>6.0</td><td>8</td><td>0</td><td>Int64</td></tr></tbody></table></div>"
      ],
      "text/latex": [
       "\\begin{tabular}{r|ccccccc}\n",
       "\t& variable & mean & min & median & max & nmissing & eltype\\\\\n",
       "\t\\hline\n",
       "\t& Symbol & Float64 & Real & Float64 & Real & Int64 & DataType\\\\\n",
       "\t\\hline\n",
       "\t1 & fixed acidity & 8.31964 & 4.6 & 7.9 & 15.9 & 0 & Float64 \\\\\n",
       "\t2 & volatile acidity & 0.527821 & 0.12 & 0.52 & 1.58 & 0 & Float64 \\\\\n",
       "\t3 & citric acid & 0.270976 & 0.0 & 0.26 & 1.0 & 0 & Float64 \\\\\n",
       "\t4 & residual sugar & 2.53881 & 0.9 & 2.2 & 15.5 & 0 & Float64 \\\\\n",
       "\t5 & chlorides & 0.0874665 & 0.012 & 0.079 & 0.611 & 0 & Float64 \\\\\n",
       "\t6 & free sulfur dioxide & 15.8749 & 1.0 & 14.0 & 72.0 & 0 & Float64 \\\\\n",
       "\t7 & total sulfur dioxide & 46.4678 & 6.0 & 38.0 & 289.0 & 0 & Float64 \\\\\n",
       "\t8 & density & 0.996747 & 0.99007 & 0.99675 & 1.00369 & 0 & Float64 \\\\\n",
       "\t9 & pH & 3.31111 & 2.74 & 3.31 & 4.01 & 0 & Float64 \\\\\n",
       "\t10 & sulphates & 0.658149 & 0.33 & 0.62 & 2.0 & 0 & Float64 \\\\\n",
       "\t11 & alcohol & 10.423 & 8.4 & 10.2 & 14.9 & 0 & Float64 \\\\\n",
       "\t12 & quality & 5.63602 & 3 & 6.0 & 8 & 0 & Int64 \\\\\n",
       "\\end{tabular}\n"
      ],
      "text/plain": [
       "\u001b[1m12×7 DataFrame\u001b[0m\n",
       "\u001b[1m Row \u001b[0m│\u001b[1m variable             \u001b[0m\u001b[1m mean       \u001b[0m\u001b[1m min     \u001b[0m\u001b[1m median   \u001b[0m\u001b[1m max       \u001b[0m\u001b[1m nmissin\u001b[0m ⋯\n",
       "\u001b[1m     \u001b[0m│\u001b[90m Symbol               \u001b[0m\u001b[90m Float64    \u001b[0m\u001b[90m Real    \u001b[0m\u001b[90m Float64  \u001b[0m\u001b[90m Real      \u001b[0m\u001b[90m Int64  \u001b[0m ⋯\n",
       "─────┼──────────────────────────────────────────────────────────────────────────\n",
       "   1 │ fixed acidity          8.31964    4.6       7.9       15.9              ⋯\n",
       "   2 │ volatile acidity       0.527821   0.12      0.52       1.58\n",
       "   3 │ citric acid            0.270976   0.0       0.26       1.0\n",
       "   4 │ residual sugar         2.53881    0.9       2.2       15.5\n",
       "   5 │ chlorides              0.0874665  0.012     0.079      0.611            ⋯\n",
       "   6 │ free sulfur dioxide   15.8749     1.0      14.0       72.0\n",
       "   7 │ total sulfur dioxide  46.4678     6.0      38.0      289.0\n",
       "   8 │ density                0.996747   0.99007   0.99675    1.00369\n",
       "   9 │ pH                     3.31111    2.74      3.31       4.01             ⋯\n",
       "  10 │ sulphates              0.658149   0.33      0.62       2.0\n",
       "  11 │ alcohol               10.423      8.4      10.2       14.9\n",
       "  12 │ quality                5.63602    3         6.0        8\n",
       "\u001b[36m                                                               2 columns omitted\u001b[0m"
      ]
     },
     "execution_count": 28,
     "metadata": {},
     "output_type": "execute_result"
    }
   ],
   "source": [
    "describe(mydata)"
   ]
  },
  {
   "cell_type": "code",
   "execution_count": 29,
   "metadata": {},
   "outputs": [
    {
     "data": {
      "text/plain": [
       "DataFrame"
      ]
     },
     "execution_count": 29,
     "metadata": {},
     "output_type": "execute_result"
    }
   ],
   "source": [
    "typeof(mydata)"
   ]
  },
  {
   "cell_type": "code",
   "execution_count": 30,
   "metadata": {},
   "outputs": [
    {
     "data": {
      "text/plain": [
       "(1599, 12)"
      ]
     },
     "execution_count": 30,
     "metadata": {},
     "output_type": "execute_result"
    }
   ],
   "source": [
    "size(mydata)"
   ]
  },
  {
   "cell_type": "code",
   "execution_count": 31,
   "metadata": {},
   "outputs": [
    {
     "data": {
      "text/html": [
       "<p><b>GroupedDataFrame with 6 groups based on key: quality</b></p><p><i>First Group (10 rows): quality = 3</i></p><div class=\"data-frame\"><table class=\"data-frame\"><thead><tr><th></th><th>fixed acidity</th><th>volatile acidity</th><th>citric acid</th><th>residual sugar</th><th>chlorides</th><th>free sulfur dioxide</th></tr><tr><th></th><th title=\"Float64\">Float64</th><th title=\"Float64\">Float64</th><th title=\"Float64\">Float64</th><th title=\"Float64\">Float64</th><th title=\"Float64\">Float64</th><th title=\"Float64\">Float64</th></tr></thead><tbody><tr><th>1</th><td>11.6</td><td>0.58</td><td>0.66</td><td>2.2</td><td>0.074</td><td>10.0</td></tr><tr><th>2</th><td>10.4</td><td>0.61</td><td>0.49</td><td>2.1</td><td>0.2</td><td>5.0</td></tr><tr><th>3</th><td>7.4</td><td>1.185</td><td>0.0</td><td>4.25</td><td>0.097</td><td>5.0</td></tr><tr><th>4</th><td>10.4</td><td>0.44</td><td>0.42</td><td>1.5</td><td>0.145</td><td>34.0</td></tr><tr><th>5</th><td>8.3</td><td>1.02</td><td>0.02</td><td>3.4</td><td>0.084</td><td>6.0</td></tr><tr><th>6</th><td>7.6</td><td>1.58</td><td>0.0</td><td>2.1</td><td>0.137</td><td>5.0</td></tr><tr><th>7</th><td>6.8</td><td>0.815</td><td>0.0</td><td>1.2</td><td>0.267</td><td>16.0</td></tr><tr><th>8</th><td>7.3</td><td>0.98</td><td>0.05</td><td>2.1</td><td>0.061</td><td>20.0</td></tr><tr><th>9</th><td>7.1</td><td>0.875</td><td>0.05</td><td>5.7</td><td>0.082</td><td>3.0</td></tr><tr><th>10</th><td>6.7</td><td>0.76</td><td>0.02</td><td>1.8</td><td>0.078</td><td>6.0</td></tr></tbody></table></div><p>&vellip;</p><p><i>Last Group (18 rows): quality = 8</i></p><div class=\"data-frame\"><table class=\"data-frame\"><thead><tr><th></th><th>fixed acidity</th><th>volatile acidity</th><th>citric acid</th><th>residual sugar</th><th>chlorides</th><th>free sulfur dioxide</th></tr><tr><th></th><th title=\"Float64\">Float64</th><th title=\"Float64\">Float64</th><th title=\"Float64\">Float64</th><th title=\"Float64\">Float64</th><th title=\"Float64\">Float64</th><th title=\"Float64\">Float64</th></tr></thead><tbody><tr><th>1</th><td>7.9</td><td>0.35</td><td>0.46</td><td>3.6</td><td>0.078</td><td>15.0</td></tr><tr><th>2</th><td>10.3</td><td>0.32</td><td>0.45</td><td>6.4</td><td>0.073</td><td>5.0</td></tr><tr><th>3</th><td>5.6</td><td>0.85</td><td>0.05</td><td>1.4</td><td>0.045</td><td>12.0</td></tr><tr><th>4</th><td>12.6</td><td>0.31</td><td>0.72</td><td>2.2</td><td>0.072</td><td>6.0</td></tr><tr><th>5</th><td>11.3</td><td>0.62</td><td>0.67</td><td>5.2</td><td>0.086</td><td>6.0</td></tr><tr><th>6</th><td>9.4</td><td>0.3</td><td>0.56</td><td>2.8</td><td>0.08</td><td>6.0</td></tr><tr><th>7</th><td>10.7</td><td>0.35</td><td>0.53</td><td>2.6</td><td>0.07</td><td>5.0</td></tr><tr><th>8</th><td>10.7</td><td>0.35</td><td>0.53</td><td>2.6</td><td>0.07</td><td>5.0</td></tr><tr><th>9</th><td>5.0</td><td>0.42</td><td>0.24</td><td>2.0</td><td>0.06</td><td>19.0</td></tr><tr><th>10</th><td>7.8</td><td>0.57</td><td>0.09</td><td>2.3</td><td>0.065</td><td>34.0</td></tr><tr><th>11</th><td>9.1</td><td>0.4</td><td>0.5</td><td>1.8</td><td>0.071</td><td>7.0</td></tr><tr><th>12</th><td>10.0</td><td>0.26</td><td>0.54</td><td>1.9</td><td>0.083</td><td>42.0</td></tr><tr><th>13</th><td>7.9</td><td>0.54</td><td>0.34</td><td>2.5</td><td>0.076</td><td>8.0</td></tr><tr><th>14</th><td>8.6</td><td>0.42</td><td>0.39</td><td>1.8</td><td>0.068</td><td>6.0</td></tr><tr><th>15</th><td>5.5</td><td>0.49</td><td>0.03</td><td>1.8</td><td>0.044</td><td>28.0</td></tr><tr><th>16</th><td>7.2</td><td>0.33</td><td>0.33</td><td>1.7</td><td>0.061</td><td>3.0</td></tr><tr><th>17</th><td>7.2</td><td>0.38</td><td>0.31</td><td>2.0</td><td>0.056</td><td>15.0</td></tr><tr><th>18</th><td>7.4</td><td>0.36</td><td>0.3</td><td>1.8</td><td>0.074</td><td>17.0</td></tr></tbody></table></div>"
      ],
      "text/latex": [
       "GroupedDataFrame with 6 groups based on key: quality\n",
       "\n",
       "First Group (10 rows): quality = 3\n",
       "\n",
       "\\begin{tabular}{r|ccccccc}\n",
       "\t& fixed acidity & volatile acidity & citric acid & residual sugar & chlorides & free sulfur dioxide & \\\\\n",
       "\t\\hline\n",
       "\t& Float64 & Float64 & Float64 & Float64 & Float64 & Float64 & \\\\\n",
       "\t\\hline\n",
       "\t1 & 11.6 & 0.58 & 0.66 & 2.2 & 0.074 & 10.0 & $\\dots$ \\\\\n",
       "\t2 & 10.4 & 0.61 & 0.49 & 2.1 & 0.2 & 5.0 & $\\dots$ \\\\\n",
       "\t3 & 7.4 & 1.185 & 0.0 & 4.25 & 0.097 & 5.0 & $\\dots$ \\\\\n",
       "\t4 & 10.4 & 0.44 & 0.42 & 1.5 & 0.145 & 34.0 & $\\dots$ \\\\\n",
       "\t5 & 8.3 & 1.02 & 0.02 & 3.4 & 0.084 & 6.0 & $\\dots$ \\\\\n",
       "\t6 & 7.6 & 1.58 & 0.0 & 2.1 & 0.137 & 5.0 & $\\dots$ \\\\\n",
       "\t7 & 6.8 & 0.815 & 0.0 & 1.2 & 0.267 & 16.0 & $\\dots$ \\\\\n",
       "\t8 & 7.3 & 0.98 & 0.05 & 2.1 & 0.061 & 20.0 & $\\dots$ \\\\\n",
       "\t9 & 7.1 & 0.875 & 0.05 & 5.7 & 0.082 & 3.0 & $\\dots$ \\\\\n",
       "\t10 & 6.7 & 0.76 & 0.02 & 1.8 & 0.078 & 6.0 & $\\dots$ \\\\\n",
       "\\end{tabular}\n",
       "\n",
       "$\\dots$\n",
       "\n",
       "Last Group (18 rows): quality = 8\n",
       "\n",
       "\\begin{tabular}{r|ccccccc}\n",
       "\t& fixed acidity & volatile acidity & citric acid & residual sugar & chlorides & free sulfur dioxide & \\\\\n",
       "\t\\hline\n",
       "\t& Float64 & Float64 & Float64 & Float64 & Float64 & Float64 & \\\\\n",
       "\t\\hline\n",
       "\t1 & 7.9 & 0.35 & 0.46 & 3.6 & 0.078 & 15.0 & $\\dots$ \\\\\n",
       "\t2 & 10.3 & 0.32 & 0.45 & 6.4 & 0.073 & 5.0 & $\\dots$ \\\\\n",
       "\t3 & 5.6 & 0.85 & 0.05 & 1.4 & 0.045 & 12.0 & $\\dots$ \\\\\n",
       "\t4 & 12.6 & 0.31 & 0.72 & 2.2 & 0.072 & 6.0 & $\\dots$ \\\\\n",
       "\t5 & 11.3 & 0.62 & 0.67 & 5.2 & 0.086 & 6.0 & $\\dots$ \\\\\n",
       "\t6 & 9.4 & 0.3 & 0.56 & 2.8 & 0.08 & 6.0 & $\\dots$ \\\\\n",
       "\t7 & 10.7 & 0.35 & 0.53 & 2.6 & 0.07 & 5.0 & $\\dots$ \\\\\n",
       "\t8 & 10.7 & 0.35 & 0.53 & 2.6 & 0.07 & 5.0 & $\\dots$ \\\\\n",
       "\t9 & 5.0 & 0.42 & 0.24 & 2.0 & 0.06 & 19.0 & $\\dots$ \\\\\n",
       "\t10 & 7.8 & 0.57 & 0.09 & 2.3 & 0.065 & 34.0 & $\\dots$ \\\\\n",
       "\t11 & 9.1 & 0.4 & 0.5 & 1.8 & 0.071 & 7.0 & $\\dots$ \\\\\n",
       "\t12 & 10.0 & 0.26 & 0.54 & 1.9 & 0.083 & 42.0 & $\\dots$ \\\\\n",
       "\t13 & 7.9 & 0.54 & 0.34 & 2.5 & 0.076 & 8.0 & $\\dots$ \\\\\n",
       "\t14 & 8.6 & 0.42 & 0.39 & 1.8 & 0.068 & 6.0 & $\\dots$ \\\\\n",
       "\t15 & 5.5 & 0.49 & 0.03 & 1.8 & 0.044 & 28.0 & $\\dots$ \\\\\n",
       "\t16 & 7.2 & 0.33 & 0.33 & 1.7 & 0.061 & 3.0 & $\\dots$ \\\\\n",
       "\t17 & 7.2 & 0.38 & 0.31 & 2.0 & 0.056 & 15.0 & $\\dots$ \\\\\n",
       "\t18 & 7.4 & 0.36 & 0.3 & 1.8 & 0.074 & 17.0 & $\\dots$ \\\\\n",
       "\\end{tabular}\n"
      ],
      "text/plain": [
       "GroupedDataFrame with 6 groups based on key: quality\n",
       "First Group (10 rows): quality = 3\n",
       "\u001b[1m Row \u001b[0m│\u001b[1m fixed acidity \u001b[0m\u001b[1m volatile acidity \u001b[0m\u001b[1m citric acid \u001b[0m\u001b[1m residual sugar \u001b[0m\u001b[1m chlorides\u001b[0m ⋯\n",
       "\u001b[1m     \u001b[0m│\u001b[90m Float64       \u001b[0m\u001b[90m Float64          \u001b[0m\u001b[90m Float64     \u001b[0m\u001b[90m Float64        \u001b[0m\u001b[90m Float64  \u001b[0m ⋯\n",
       "─────┼──────────────────────────────────────────────────────────────────────────\n",
       "   1 │          11.6             0.58          0.66            2.2       0.074 ⋯\n",
       "   2 │          10.4             0.61          0.49            2.1       0.2\n",
       "   3 │           7.4             1.185         0.0             4.25      0.097\n",
       "   4 │          10.4             0.44          0.42            1.5       0.145\n",
       "   5 │           8.3             1.02          0.02            3.4       0.084 ⋯\n",
       "   6 │           7.6             1.58          0.0             2.1       0.137\n",
       "   7 │           6.8             0.815         0.0             1.2       0.267\n",
       "   8 │           7.3             0.98          0.05            2.1       0.061\n",
       "   9 │           7.1             0.875         0.05            5.7       0.082 ⋯\n",
       "  10 │           6.7             0.76          0.02            1.8       0.078\n",
       "\u001b[36m                                                               7 columns omitted\u001b[0m\n",
       "⋮\n",
       "Last Group (18 rows): quality = 8\n",
       "\u001b[1m Row \u001b[0m│\u001b[1m fixed acidity \u001b[0m\u001b[1m volatile acidity \u001b[0m\u001b[1m citric acid \u001b[0m\u001b[1m residual sugar \u001b[0m\u001b[1m chlorides\u001b[0m ⋯\n",
       "\u001b[1m     \u001b[0m│\u001b[90m Float64       \u001b[0m\u001b[90m Float64          \u001b[0m\u001b[90m Float64     \u001b[0m\u001b[90m Float64        \u001b[0m\u001b[90m Float64  \u001b[0m ⋯\n",
       "─────┼──────────────────────────────────────────────────────────────────────────\n",
       "   1 │           7.9              0.35         0.46             3.6      0.078 ⋯\n",
       "   2 │          10.3              0.32         0.45             6.4      0.073\n",
       "   3 │           5.6              0.85         0.05             1.4      0.045\n",
       "   4 │          12.6              0.31         0.72             2.2      0.072\n",
       "   5 │          11.3              0.62         0.67             5.2      0.086 ⋯\n",
       "   6 │           9.4              0.3          0.56             2.8      0.08\n",
       "   7 │          10.7              0.35         0.53             2.6      0.07\n",
       "   8 │          10.7              0.35         0.53             2.6      0.07\n",
       "   9 │           5.0              0.42         0.24             2.0      0.06  ⋯\n",
       "  10 │           7.8              0.57         0.09             2.3      0.065\n",
       "  11 │           9.1              0.4          0.5              1.8      0.071\n",
       "  12 │          10.0              0.26         0.54             1.9      0.083\n",
       "  13 │           7.9              0.54         0.34             2.5      0.076 ⋯\n",
       "  14 │           8.6              0.42         0.39             1.8      0.068\n",
       "  15 │           5.5              0.49         0.03             1.8      0.044\n",
       "  16 │           7.2              0.33         0.33             1.7      0.061\n",
       "  17 │           7.2              0.38         0.31             2.0      0.056 ⋯\n",
       "  18 │           7.4              0.36         0.3              1.8      0.074\n",
       "\u001b[36m                                                               7 columns omitted\u001b[0m"
      ]
     },
     "execution_count": 31,
     "metadata": {},
     "output_type": "execute_result"
    }
   ],
   "source": [
    "# Dzielenie DataFrame na podgrupy i działania na nich\n",
    "\n",
    "# Split - Apply - Combine\n",
    "\n",
    "#https://dataframes.juliadata.org/stable/man/split_apply_combine/\n",
    "\n",
    "# rozdzielanie na podgrupy po jakości wina (quality)\n",
    "# Split\n",
    "\n",
    "wine_grouped = groupby(mydata, :quality)"
   ]
  },
  {
   "cell_type": "code",
   "execution_count": 32,
   "metadata": {},
   "outputs": [
    {
     "data": {
      "text/html": [
       "<div class=\"data-frame\"><p>6 rows × 2 columns</p><table class=\"data-frame\"><thead><tr><th></th><th>quality</th><th>nrow</th></tr><tr><th></th><th title=\"Int64\">Int64</th><th title=\"Int64\">Int64</th></tr></thead><tbody><tr><th>1</th><td>3</td><td>10</td></tr><tr><th>2</th><td>4</td><td>53</td></tr><tr><th>3</th><td>5</td><td>681</td></tr><tr><th>4</th><td>6</td><td>638</td></tr><tr><th>5</th><td>7</td><td>199</td></tr><tr><th>6</th><td>8</td><td>18</td></tr></tbody></table></div>"
      ],
      "text/latex": [
       "\\begin{tabular}{r|cc}\n",
       "\t& quality & nrow\\\\\n",
       "\t\\hline\n",
       "\t& Int64 & Int64\\\\\n",
       "\t\\hline\n",
       "\t1 & 3 & 10 \\\\\n",
       "\t2 & 4 & 53 \\\\\n",
       "\t3 & 5 & 681 \\\\\n",
       "\t4 & 6 & 638 \\\\\n",
       "\t5 & 7 & 199 \\\\\n",
       "\t6 & 8 & 18 \\\\\n",
       "\\end{tabular}\n"
      ],
      "text/plain": [
       "\u001b[1m6×2 DataFrame\u001b[0m\n",
       "\u001b[1m Row \u001b[0m│\u001b[1m quality \u001b[0m\u001b[1m nrow  \u001b[0m\n",
       "\u001b[1m     \u001b[0m│\u001b[90m Int64   \u001b[0m\u001b[90m Int64 \u001b[0m\n",
       "─────┼────────────────\n",
       "   1 │       3     10\n",
       "   2 │       4     53\n",
       "   3 │       5    681\n",
       "   4 │       6    638\n",
       "   5 │       7    199\n",
       "   6 │       8     18"
      ]
     },
     "execution_count": 32,
     "metadata": {},
     "output_type": "execute_result"
    }
   ],
   "source": [
    "# podsumowanie ile jest win w każdej grupie \n",
    "combine(wine_grouped, nrow)"
   ]
  },
  {
   "cell_type": "code",
   "execution_count": 33,
   "metadata": {},
   "outputs": [
    {
     "data": {
      "text/html": [
       "<div class=\"data-frame\"><p>6 rows × 2 columns</p><table class=\"data-frame\"><thead><tr><th></th><th>quality</th><th>fixed acidity_mean</th></tr><tr><th></th><th title=\"Int64\">Int64</th><th title=\"Float64\">Float64</th></tr></thead><tbody><tr><th>1</th><td>3</td><td>8.36</td></tr><tr><th>2</th><td>4</td><td>7.77925</td></tr><tr><th>3</th><td>5</td><td>8.16725</td></tr><tr><th>4</th><td>6</td><td>8.34718</td></tr><tr><th>5</th><td>7</td><td>8.87236</td></tr><tr><th>6</th><td>8</td><td>8.56667</td></tr></tbody></table></div>"
      ],
      "text/latex": [
       "\\begin{tabular}{r|cc}\n",
       "\t& quality & fixed acidity\\_mean\\\\\n",
       "\t\\hline\n",
       "\t& Int64 & Float64\\\\\n",
       "\t\\hline\n",
       "\t1 & 3 & 8.36 \\\\\n",
       "\t2 & 4 & 7.77925 \\\\\n",
       "\t3 & 5 & 8.16725 \\\\\n",
       "\t4 & 6 & 8.34718 \\\\\n",
       "\t5 & 7 & 8.87236 \\\\\n",
       "\t6 & 8 & 8.56667 \\\\\n",
       "\\end{tabular}\n"
      ],
      "text/plain": [
       "\u001b[1m6×2 DataFrame\u001b[0m\n",
       "\u001b[1m Row \u001b[0m│\u001b[1m quality \u001b[0m\u001b[1m fixed acidity_mean \u001b[0m\n",
       "\u001b[1m     \u001b[0m│\u001b[90m Int64   \u001b[0m\u001b[90m Float64            \u001b[0m\n",
       "─────┼─────────────────────────────\n",
       "   1 │       3             8.36\n",
       "   2 │       4             7.77925\n",
       "   3 │       5             8.16725\n",
       "   4 │       6             8.34718\n",
       "   5 │       7             8.87236\n",
       "   6 │       8             8.56667"
      ]
     },
     "execution_count": 33,
     "metadata": {},
     "output_type": "execute_result"
    }
   ],
   "source": [
    "combine(wine_grouped, \"fixed acidity\" => mean)"
   ]
  },
  {
   "cell_type": "code",
   "execution_count": 34,
   "metadata": {},
   "outputs": [
    {
     "data": {
      "text/html": [
       "<div class=\"data-frame\"><p>190 rows × 3 columns</p><table class=\"data-frame\"><thead><tr><th></th><th>quality</th><th>alcohol</th><th>liczba</th></tr><tr><th></th><th title=\"Int64\">Int64</th><th title=\"Float64\">Float64</th><th title=\"Int64\">Int64</th></tr></thead><tbody><tr><th>1</th><td>3</td><td>8.4</td><td>1</td></tr><tr><th>2</th><td>3</td><td>9.0</td><td>1</td></tr><tr><th>3</th><td>3</td><td>9.7</td><td>1</td></tr><tr><th>4</th><td>3</td><td>9.8</td><td>1</td></tr><tr><th>5</th><td>3</td><td>9.9</td><td>1</td></tr><tr><th>6</th><td>3</td><td>9.95</td><td>1</td></tr><tr><th>7</th><td>3</td><td>10.2</td><td>1</td></tr><tr><th>8</th><td>3</td><td>10.7</td><td>1</td></tr><tr><th>9</th><td>3</td><td>10.9</td><td>1</td></tr><tr><th>10</th><td>3</td><td>11.0</td><td>1</td></tr><tr><th>11</th><td>4</td><td>9.0</td><td>2</td></tr><tr><th>12</th><td>4</td><td>9.05</td><td>1</td></tr><tr><th>13</th><td>4</td><td>9.1</td><td>2</td></tr><tr><th>14</th><td>4</td><td>9.2</td><td>3</td></tr><tr><th>15</th><td>4</td><td>9.3</td><td>2</td></tr><tr><th>16</th><td>4</td><td>9.4</td><td>2</td></tr><tr><th>17</th><td>4</td><td>9.6</td><td>6</td></tr><tr><th>18</th><td>4</td><td>9.7</td><td>2</td></tr><tr><th>19</th><td>4</td><td>9.8</td><td>3</td></tr><tr><th>20</th><td>4</td><td>9.9</td><td>1</td></tr><tr><th>21</th><td>4</td><td>10.0</td><td>4</td></tr><tr><th>22</th><td>4</td><td>10.1</td><td>1</td></tr><tr><th>23</th><td>4</td><td>10.3</td><td>1</td></tr><tr><th>24</th><td>4</td><td>10.4</td><td>3</td></tr><tr><th>25</th><td>4</td><td>10.5</td><td>1</td></tr><tr><th>26</th><td>4</td><td>10.9</td><td>3</td></tr><tr><th>27</th><td>4</td><td>11.0</td><td>4</td></tr><tr><th>28</th><td>4</td><td>11.1</td><td>1</td></tr><tr><th>29</th><td>4</td><td>11.2</td><td>3</td></tr><tr><th>30</th><td>4</td><td>11.3</td><td>1</td></tr><tr><th>&vellip;</th><td>&vellip;</td><td>&vellip;</td><td>&vellip;</td></tr></tbody></table></div>"
      ],
      "text/latex": [
       "\\begin{tabular}{r|ccc}\n",
       "\t& quality & alcohol & liczba\\\\\n",
       "\t\\hline\n",
       "\t& Int64 & Float64 & Int64\\\\\n",
       "\t\\hline\n",
       "\t1 & 3 & 8.4 & 1 \\\\\n",
       "\t2 & 3 & 9.0 & 1 \\\\\n",
       "\t3 & 3 & 9.7 & 1 \\\\\n",
       "\t4 & 3 & 9.8 & 1 \\\\\n",
       "\t5 & 3 & 9.9 & 1 \\\\\n",
       "\t6 & 3 & 9.95 & 1 \\\\\n",
       "\t7 & 3 & 10.2 & 1 \\\\\n",
       "\t8 & 3 & 10.7 & 1 \\\\\n",
       "\t9 & 3 & 10.9 & 1 \\\\\n",
       "\t10 & 3 & 11.0 & 1 \\\\\n",
       "\t11 & 4 & 9.0 & 2 \\\\\n",
       "\t12 & 4 & 9.05 & 1 \\\\\n",
       "\t13 & 4 & 9.1 & 2 \\\\\n",
       "\t14 & 4 & 9.2 & 3 \\\\\n",
       "\t15 & 4 & 9.3 & 2 \\\\\n",
       "\t16 & 4 & 9.4 & 2 \\\\\n",
       "\t17 & 4 & 9.6 & 6 \\\\\n",
       "\t18 & 4 & 9.7 & 2 \\\\\n",
       "\t19 & 4 & 9.8 & 3 \\\\\n",
       "\t20 & 4 & 9.9 & 1 \\\\\n",
       "\t21 & 4 & 10.0 & 4 \\\\\n",
       "\t22 & 4 & 10.1 & 1 \\\\\n",
       "\t23 & 4 & 10.3 & 1 \\\\\n",
       "\t24 & 4 & 10.4 & 3 \\\\\n",
       "\t25 & 4 & 10.5 & 1 \\\\\n",
       "\t26 & 4 & 10.9 & 3 \\\\\n",
       "\t27 & 4 & 11.0 & 4 \\\\\n",
       "\t28 & 4 & 11.1 & 1 \\\\\n",
       "\t29 & 4 & 11.2 & 3 \\\\\n",
       "\t30 & 4 & 11.3 & 1 \\\\\n",
       "\t$\\dots$ & $\\dots$ & $\\dots$ & $\\dots$ \\\\\n",
       "\\end{tabular}\n"
      ],
      "text/plain": [
       "\u001b[1m190×3 DataFrame\u001b[0m\n",
       "\u001b[1m Row \u001b[0m│\u001b[1m quality \u001b[0m\u001b[1m alcohol \u001b[0m\u001b[1m liczba \u001b[0m\n",
       "\u001b[1m     \u001b[0m│\u001b[90m Int64   \u001b[0m\u001b[90m Float64 \u001b[0m\u001b[90m Int64  \u001b[0m\n",
       "─────┼──────────────────────────\n",
       "   1 │       3     8.4        1\n",
       "   2 │       3     9.0        1\n",
       "   3 │       3     9.7        1\n",
       "   4 │       3     9.8        1\n",
       "   5 │       3     9.9        1\n",
       "   6 │       3     9.95       1\n",
       "   7 │       3    10.2        1\n",
       "   8 │       3    10.7        1\n",
       "   9 │       3    10.9        1\n",
       "  10 │       3    11.0        1\n",
       "  11 │       4     9.0        2\n",
       "  ⋮  │    ⋮        ⋮       ⋮\n",
       " 181 │       8    11.7        2\n",
       " 182 │       8    11.8        1\n",
       " 183 │       8    12.5        1\n",
       " 184 │       8    12.6        1\n",
       " 185 │       8    12.7        1\n",
       " 186 │       8    12.8        1\n",
       " 187 │       8    12.9        1\n",
       " 188 │       8    13.1        1\n",
       " 189 │       8    13.4        1\n",
       " 190 │       8    14.0        2\n",
       "\u001b[36m                169 rows omitted\u001b[0m"
      ]
     },
     "execution_count": 34,
     "metadata": {},
     "output_type": "execute_result"
    }
   ],
   "source": [
    "# zliczenie liczby win o danej jakości i zawartości alkoholu, posortowane\n",
    "wine_grouped2 = sort(combine(groupby(mydata, [:quality,:alcohol]), nrow=> :liczba), [:quality,:alcohol])"
   ]
  },
  {
   "cell_type": "code",
   "execution_count": 35,
   "metadata": {},
   "outputs": [
    {
     "data": {
      "text/plain": [
       "\"dataframe1.csv\""
      ]
     },
     "execution_count": 35,
     "metadata": {},
     "output_type": "execute_result"
    }
   ],
   "source": [
    "# zapis do pliku\n",
    "CSV.write(\"dataframe1.csv\", wine_grouped2)"
   ]
  },
  {
   "cell_type": "markdown",
   "metadata": {},
   "source": [
    "\n",
    "### Graficzna reprezentacja DataFrames\n",
    "\n",
    "\n"
   ]
  },
  {
   "cell_type": "code",
   "execution_count": 36,
   "metadata": {},
   "outputs": [
    {
     "data": {
      "text/html": [
       "<div class=\"data-frame\"><p>10 rows × 5 columns</p><table class=\"data-frame\"><thead><tr><th></th><th>a</th><th>b</th><th>c</th><th>d</th><th>e</th></tr><tr><th></th><th title=\"Int64\">Int64</th><th title=\"Int64\">Int64</th><th title=\"Float64\">Float64</th><th title=\"Float64\">Float64</th><th title=\"Int64\">Int64</th></tr></thead><tbody><tr><th>1</th><td>1</td><td>2</td><td>0.0</td><td>0.0111489</td><td>1</td></tr><tr><th>2</th><td>2</td><td>4</td><td>0.693147</td><td>0.317526</td><td>0</td></tr><tr><th>3</th><td>3</td><td>6</td><td>1.09861</td><td>0.452572</td><td>1</td></tr><tr><th>4</th><td>4</td><td>8</td><td>1.38629</td><td>0.109053</td><td>0</td></tr><tr><th>5</th><td>5</td><td>10</td><td>1.60944</td><td>0.119787</td><td>1</td></tr><tr><th>6</th><td>6</td><td>12</td><td>1.79176</td><td>0.102241</td><td>0</td></tr><tr><th>7</th><td>7</td><td>14</td><td>1.94591</td><td>0.821319</td><td>1</td></tr><tr><th>8</th><td>8</td><td>16</td><td>2.07944</td><td>0.695589</td><td>0</td></tr><tr><th>9</th><td>9</td><td>18</td><td>2.19722</td><td>0.0847791</td><td>1</td></tr><tr><th>10</th><td>10</td><td>20</td><td>2.30259</td><td>0.21005</td><td>0</td></tr></tbody></table></div>"
      ],
      "text/latex": [
       "\\begin{tabular}{r|ccccc}\n",
       "\t& a & b & c & d & e\\\\\n",
       "\t\\hline\n",
       "\t& Int64 & Int64 & Float64 & Float64 & Int64\\\\\n",
       "\t\\hline\n",
       "\t1 & 1 & 2 & 0.0 & 0.0111489 & 1 \\\\\n",
       "\t2 & 2 & 4 & 0.693147 & 0.317526 & 0 \\\\\n",
       "\t3 & 3 & 6 & 1.09861 & 0.452572 & 1 \\\\\n",
       "\t4 & 4 & 8 & 1.38629 & 0.109053 & 0 \\\\\n",
       "\t5 & 5 & 10 & 1.60944 & 0.119787 & 1 \\\\\n",
       "\t6 & 6 & 12 & 1.79176 & 0.102241 & 0 \\\\\n",
       "\t7 & 7 & 14 & 1.94591 & 0.821319 & 1 \\\\\n",
       "\t8 & 8 & 16 & 2.07944 & 0.695589 & 0 \\\\\n",
       "\t9 & 9 & 18 & 2.19722 & 0.0847791 & 1 \\\\\n",
       "\t10 & 10 & 20 & 2.30259 & 0.21005 & 0 \\\\\n",
       "\\end{tabular}\n"
      ],
      "text/plain": [
       "\u001b[1m10×5 DataFrame\u001b[0m\n",
       "\u001b[1m Row \u001b[0m│\u001b[1m a     \u001b[0m\u001b[1m b     \u001b[0m\u001b[1m c        \u001b[0m\u001b[1m d         \u001b[0m\u001b[1m e     \u001b[0m\n",
       "\u001b[1m     \u001b[0m│\u001b[90m Int64 \u001b[0m\u001b[90m Int64 \u001b[0m\u001b[90m Float64  \u001b[0m\u001b[90m Float64   \u001b[0m\u001b[90m Int64 \u001b[0m\n",
       "─────┼──────────────────────────────────────────\n",
       "   1 │     1      2  0.0       0.0111489      1\n",
       "   2 │     2      4  0.693147  0.317526       0\n",
       "   3 │     3      6  1.09861   0.452572       1\n",
       "   4 │     4      8  1.38629   0.109053       0\n",
       "   5 │     5     10  1.60944   0.119787       1\n",
       "   6 │     6     12  1.79176   0.102241       0\n",
       "   7 │     7     14  1.94591   0.821319       1\n",
       "   8 │     8     16  2.07944   0.695589       0\n",
       "   9 │     9     18  2.19722   0.0847791      1\n",
       "  10 │    10     20  2.30259   0.21005        0"
      ]
     },
     "execution_count": 36,
     "metadata": {},
     "output_type": "execute_result"
    }
   ],
   "source": [
    "df = DataFrame(a = 1:10, b = map(x->2x,(1:10)), c = map(x->log(x),(1:10)), d=rand(10), e=map(x->x%2,(1:10)))"
   ]
  },
  {
   "cell_type": "code",
   "execution_count": 37,
   "metadata": {},
   "outputs": [
    {
     "data": {
      "image/svg+xml": "<?xml version=\"1.0\" encoding=\"utf-8\"?>\n<svg xmlns=\"http://www.w3.org/2000/svg\" xmlns:xlink=\"http://www.w3.org/1999/xlink\" width=\"600\" height=\"400\" viewBox=\"0 0 2400 1600\">\n<defs>\n  <clipPath id=\"clip370\">\n    <rect x=\"0\" y=\"0\" width=\"2400\" height=\"1600\"/>\n  </clipPath>\n</defs>\n<path clip-path=\"url(#clip370)\" d=\"\nM0 1600 L2400 1600 L2400 0 L0 0  Z\n  \" fill=\"#ffffff\" fill-rule=\"evenodd\" fill-opacity=\"1\"/>\n<defs>\n  <clipPath id=\"clip371\">\n    <rect x=\"480\" y=\"0\" width=\"1681\" height=\"1600\"/>\n  </clipPath>\n</defs>\n<path clip-path=\"url(#clip370)\" d=\"\nM140.696 1486.45 L2352.76 1486.45 L2352.76 47.2441 L140.696 47.2441  Z\n  \" fill=\"#ffffff\" fill-rule=\"evenodd\" fill-opacity=\"1\"/>\n<defs>\n  <clipPath id=\"clip372\">\n    <rect x=\"140\" y=\"47\" width=\"2213\" height=\"1440\"/>\n  </clipPath>\n</defs>\n<polyline clip-path=\"url(#clip372)\" style=\"stroke:#000000; stroke-linecap:butt; stroke-linejoin:round; stroke-width:2; stroke-opacity:0.1; fill:none\" points=\"\n  435.173,1486.45 435.173,47.2441 \n  \"/>\n<polyline clip-path=\"url(#clip372)\" style=\"stroke:#000000; stroke-linecap:butt; stroke-linejoin:round; stroke-width:2; stroke-opacity:0.1; fill:none\" points=\"\n  898.917,1486.45 898.917,47.2441 \n  \"/>\n<polyline clip-path=\"url(#clip372)\" style=\"stroke:#000000; stroke-linecap:butt; stroke-linejoin:round; stroke-width:2; stroke-opacity:0.1; fill:none\" points=\"\n  1362.66,1486.45 1362.66,47.2441 \n  \"/>\n<polyline clip-path=\"url(#clip372)\" style=\"stroke:#000000; stroke-linecap:butt; stroke-linejoin:round; stroke-width:2; stroke-opacity:0.1; fill:none\" points=\"\n  1826.41,1486.45 1826.41,47.2441 \n  \"/>\n<polyline clip-path=\"url(#clip372)\" style=\"stroke:#000000; stroke-linecap:butt; stroke-linejoin:round; stroke-width:2; stroke-opacity:0.1; fill:none\" points=\"\n  2290.15,1486.45 2290.15,47.2441 \n  \"/>\n<polyline clip-path=\"url(#clip370)\" style=\"stroke:#000000; stroke-linecap:butt; stroke-linejoin:round; stroke-width:4; stroke-opacity:1; fill:none\" points=\"\n  140.696,1486.45 2352.76,1486.45 \n  \"/>\n<polyline clip-path=\"url(#clip370)\" style=\"stroke:#000000; stroke-linecap:butt; stroke-linejoin:round; stroke-width:4; stroke-opacity:1; fill:none\" points=\"\n  435.173,1486.45 435.173,1467.55 \n  \"/>\n<polyline clip-path=\"url(#clip370)\" style=\"stroke:#000000; stroke-linecap:butt; stroke-linejoin:round; stroke-width:4; stroke-opacity:1; fill:none\" points=\"\n  898.917,1486.45 898.917,1467.55 \n  \"/>\n<polyline clip-path=\"url(#clip370)\" style=\"stroke:#000000; stroke-linecap:butt; stroke-linejoin:round; stroke-width:4; stroke-opacity:1; fill:none\" points=\"\n  1362.66,1486.45 1362.66,1467.55 \n  \"/>\n<polyline clip-path=\"url(#clip370)\" style=\"stroke:#000000; stroke-linecap:butt; stroke-linejoin:round; stroke-width:4; stroke-opacity:1; fill:none\" points=\"\n  1826.41,1486.45 1826.41,1467.55 \n  \"/>\n<polyline clip-path=\"url(#clip370)\" style=\"stroke:#000000; stroke-linecap:butt; stroke-linejoin:round; stroke-width:4; stroke-opacity:1; fill:none\" points=\"\n  2290.15,1486.45 2290.15,1467.55 \n  \"/>\n<path clip-path=\"url(#clip370)\" d=\"M429.826 1544.91 L446.145 1544.91 L446.145 1548.85 L424.201 1548.85 L424.201 1544.91 Q426.863 1542.16 431.446 1537.53 Q436.053 1532.88 437.233 1531.53 Q439.479 1529.01 440.358 1527.27 Q441.261 1525.51 441.261 1523.82 Q441.261 1521.07 439.317 1519.33 Q437.395 1517.6 434.294 1517.6 Q432.094 1517.6 429.641 1518.36 Q427.21 1519.13 424.432 1520.68 L424.432 1515.95 Q427.257 1514.82 429.71 1514.24 Q432.164 1513.66 434.201 1513.66 Q439.571 1513.66 442.766 1516.35 Q445.96 1519.03 445.96 1523.52 Q445.96 1525.65 445.15 1527.57 Q444.363 1529.47 442.256 1532.07 Q441.678 1532.74 438.576 1535.95 Q435.474 1539.15 429.826 1544.91 Z\" fill=\"#000000\" fill-rule=\"evenodd\" fill-opacity=\"1\" /><path clip-path=\"url(#clip370)\" d=\"M901.927 1518.36 L890.121 1536.81 L901.927 1536.81 L901.927 1518.36 M900.7 1514.29 L906.579 1514.29 L906.579 1536.81 L911.51 1536.81 L911.51 1540.7 L906.579 1540.7 L906.579 1548.85 L901.927 1548.85 L901.927 1540.7 L886.325 1540.7 L886.325 1536.19 L900.7 1514.29 Z\" fill=\"#000000\" fill-rule=\"evenodd\" fill-opacity=\"1\" /><path clip-path=\"url(#clip370)\" d=\"M1363.07 1529.7 Q1359.92 1529.7 1358.07 1531.86 Q1356.24 1534.01 1356.24 1537.76 Q1356.24 1541.49 1358.07 1543.66 Q1359.92 1545.82 1363.07 1545.82 Q1366.22 1545.82 1368.04 1543.66 Q1369.9 1541.49 1369.9 1537.76 Q1369.9 1534.01 1368.04 1531.86 Q1366.22 1529.7 1363.07 1529.7 M1372.35 1515.05 L1372.35 1519.31 Q1370.59 1518.48 1368.78 1518.04 Q1367 1517.6 1365.24 1517.6 Q1360.61 1517.6 1358.16 1520.72 Q1355.73 1523.85 1355.38 1530.17 Q1356.75 1528.15 1358.81 1527.09 Q1360.87 1526 1363.34 1526 Q1368.55 1526 1371.56 1529.17 Q1374.59 1532.32 1374.59 1537.76 Q1374.59 1543.08 1371.45 1546.3 Q1368.3 1549.52 1363.07 1549.52 Q1357.07 1549.52 1353.9 1544.94 Q1350.73 1540.33 1350.73 1531.6 Q1350.73 1523.41 1354.62 1518.55 Q1358.51 1513.66 1365.06 1513.66 Q1366.82 1513.66 1368.6 1514.01 Q1370.4 1514.36 1372.35 1515.05 Z\" fill=\"#000000\" fill-rule=\"evenodd\" fill-opacity=\"1\" /><path clip-path=\"url(#clip370)\" d=\"M1826.41 1532.44 Q1823.07 1532.44 1821.15 1534.22 Q1819.25 1536 1819.25 1539.13 Q1819.25 1542.25 1821.15 1544.03 Q1823.07 1545.82 1826.41 1545.82 Q1829.74 1545.82 1831.66 1544.03 Q1833.58 1542.23 1833.58 1539.13 Q1833.58 1536 1831.66 1534.22 Q1829.76 1532.44 1826.41 1532.44 M1821.73 1530.45 Q1818.72 1529.7 1817.03 1527.64 Q1815.36 1525.58 1815.36 1522.62 Q1815.36 1518.48 1818.3 1516.07 Q1821.27 1513.66 1826.41 1513.66 Q1831.57 1513.66 1834.51 1516.07 Q1837.45 1518.48 1837.45 1522.62 Q1837.45 1525.58 1835.76 1527.64 Q1834.09 1529.7 1831.11 1530.45 Q1834.48 1531.23 1836.36 1533.52 Q1838.26 1535.82 1838.26 1539.13 Q1838.26 1544.15 1835.18 1546.83 Q1832.12 1549.52 1826.41 1549.52 Q1820.69 1549.52 1817.61 1546.83 Q1814.55 1544.15 1814.55 1539.13 Q1814.55 1535.82 1816.45 1533.52 Q1818.35 1531.23 1821.73 1530.45 M1820.02 1523.06 Q1820.02 1525.75 1821.68 1527.25 Q1823.37 1528.76 1826.41 1528.76 Q1829.42 1528.76 1831.11 1527.25 Q1832.82 1525.75 1832.82 1523.06 Q1832.82 1520.38 1831.11 1518.87 Q1829.42 1517.37 1826.41 1517.37 Q1823.37 1517.37 1821.68 1518.87 Q1820.02 1520.38 1820.02 1523.06 Z\" fill=\"#000000\" fill-rule=\"evenodd\" fill-opacity=\"1\" /><path clip-path=\"url(#clip370)\" d=\"M2264.84 1544.91 L2272.48 1544.91 L2272.48 1518.55 L2264.17 1520.21 L2264.17 1515.95 L2272.43 1514.29 L2277.11 1514.29 L2277.11 1544.91 L2284.75 1544.91 L2284.75 1548.85 L2264.84 1548.85 L2264.84 1544.91 Z\" fill=\"#000000\" fill-rule=\"evenodd\" fill-opacity=\"1\" /><path clip-path=\"url(#clip370)\" d=\"M2304.19 1517.37 Q2300.58 1517.37 2298.75 1520.93 Q2296.94 1524.47 2296.94 1531.6 Q2296.94 1538.71 2298.75 1542.27 Q2300.58 1545.82 2304.19 1545.82 Q2307.82 1545.82 2309.63 1542.27 Q2311.46 1538.71 2311.46 1531.6 Q2311.46 1524.47 2309.63 1520.93 Q2307.82 1517.37 2304.19 1517.37 M2304.19 1513.66 Q2310 1513.66 2313.06 1518.27 Q2316.13 1522.85 2316.13 1531.6 Q2316.13 1540.33 2313.06 1544.94 Q2310 1549.52 2304.19 1549.52 Q2298.38 1549.52 2295.3 1544.94 Q2292.25 1540.33 2292.25 1531.6 Q2292.25 1522.85 2295.3 1518.27 Q2298.38 1513.66 2304.19 1513.66 Z\" fill=\"#000000\" fill-rule=\"evenodd\" fill-opacity=\"1\" /><polyline clip-path=\"url(#clip372)\" style=\"stroke:#000000; stroke-linecap:butt; stroke-linejoin:round; stroke-width:2; stroke-opacity:0.1; fill:none\" points=\"\n  140.696,1444.97 2352.76,1444.97 \n  \"/>\n<polyline clip-path=\"url(#clip372)\" style=\"stroke:#000000; stroke-linecap:butt; stroke-linejoin:round; stroke-width:2; stroke-opacity:0.1; fill:none\" points=\"\n  140.696,1109.25 2352.76,1109.25 \n  \"/>\n<polyline clip-path=\"url(#clip372)\" style=\"stroke:#000000; stroke-linecap:butt; stroke-linejoin:round; stroke-width:2; stroke-opacity:0.1; fill:none\" points=\"\n  140.696,773.524 2352.76,773.524 \n  \"/>\n<polyline clip-path=\"url(#clip372)\" style=\"stroke:#000000; stroke-linecap:butt; stroke-linejoin:round; stroke-width:2; stroke-opacity:0.1; fill:none\" points=\"\n  140.696,437.802 2352.76,437.802 \n  \"/>\n<polyline clip-path=\"url(#clip372)\" style=\"stroke:#000000; stroke-linecap:butt; stroke-linejoin:round; stroke-width:2; stroke-opacity:0.1; fill:none\" points=\"\n  140.696,102.08 2352.76,102.08 \n  \"/>\n<polyline clip-path=\"url(#clip370)\" style=\"stroke:#000000; stroke-linecap:butt; stroke-linejoin:round; stroke-width:4; stroke-opacity:1; fill:none\" points=\"\n  140.696,1486.45 140.696,47.2441 \n  \"/>\n<polyline clip-path=\"url(#clip370)\" style=\"stroke:#000000; stroke-linecap:butt; stroke-linejoin:round; stroke-width:4; stroke-opacity:1; fill:none\" points=\"\n  140.696,1444.97 159.593,1444.97 \n  \"/>\n<polyline clip-path=\"url(#clip370)\" style=\"stroke:#000000; stroke-linecap:butt; stroke-linejoin:round; stroke-width:4; stroke-opacity:1; fill:none\" points=\"\n  140.696,1109.25 159.593,1109.25 \n  \"/>\n<polyline clip-path=\"url(#clip370)\" style=\"stroke:#000000; stroke-linecap:butt; stroke-linejoin:round; stroke-width:4; stroke-opacity:1; fill:none\" points=\"\n  140.696,773.524 159.593,773.524 \n  \"/>\n<polyline clip-path=\"url(#clip370)\" style=\"stroke:#000000; stroke-linecap:butt; stroke-linejoin:round; stroke-width:4; stroke-opacity:1; fill:none\" points=\"\n  140.696,437.802 159.593,437.802 \n  \"/>\n<polyline clip-path=\"url(#clip370)\" style=\"stroke:#000000; stroke-linecap:butt; stroke-linejoin:round; stroke-width:4; stroke-opacity:1; fill:none\" points=\"\n  140.696,102.08 159.593,102.08 \n  \"/>\n<path clip-path=\"url(#clip370)\" d=\"M92.7512 1430.77 Q89.1401 1430.77 87.3114 1434.33 Q85.5058 1437.87 85.5058 1445 Q85.5058 1452.11 87.3114 1455.67 Q89.1401 1459.21 92.7512 1459.21 Q96.3854 1459.21 98.1909 1455.67 Q100.02 1452.11 100.02 1445 Q100.02 1437.87 98.1909 1434.33 Q96.3854 1430.77 92.7512 1430.77 M92.7512 1427.06 Q98.5613 1427.06 101.617 1431.67 Q104.696 1436.25 104.696 1445 Q104.696 1453.73 101.617 1458.34 Q98.5613 1462.92 92.7512 1462.92 Q86.941 1462.92 83.8623 1458.34 Q80.8068 1453.73 80.8068 1445 Q80.8068 1436.25 83.8623 1431.67 Q86.941 1427.06 92.7512 1427.06 Z\" fill=\"#000000\" fill-rule=\"evenodd\" fill-opacity=\"1\" /><path clip-path=\"url(#clip370)\" d=\"M83.7929 1091.97 L102.149 1091.97 L102.149 1095.9 L88.0753 1095.9 L88.0753 1104.37 Q89.0938 1104.03 90.1123 1103.86 Q91.1308 1103.68 92.1493 1103.68 Q97.9363 1103.68 101.316 1106.85 Q104.696 1110.02 104.696 1115.44 Q104.696 1121.02 101.223 1124.12 Q97.7511 1127.2 91.4317 1127.2 Q89.2558 1127.2 86.9873 1126.83 Q84.7419 1126.46 82.3346 1125.72 L82.3346 1121.02 Q84.4179 1122.15 86.6401 1122.71 Q88.8623 1123.26 91.3391 1123.26 Q95.3437 1123.26 97.6817 1121.15 Q100.02 1119.05 100.02 1115.44 Q100.02 1111.83 97.6817 1109.72 Q95.3437 1107.61 91.3391 1107.61 Q89.4641 1107.61 87.5892 1108.03 Q85.7373 1108.45 83.7929 1109.33 L83.7929 1091.97 Z\" fill=\"#000000\" fill-rule=\"evenodd\" fill-opacity=\"1\" /><path clip-path=\"url(#clip370)\" d=\"M53.3995 786.868 L61.0384 786.868 L61.0384 760.503 L52.7282 762.169 L52.7282 757.91 L60.9921 756.244 L65.668 756.244 L65.668 786.868 L73.3068 786.868 L73.3068 790.804 L53.3995 790.804 L53.3995 786.868 Z\" fill=\"#000000\" fill-rule=\"evenodd\" fill-opacity=\"1\" /><path clip-path=\"url(#clip370)\" d=\"M92.7512 759.322 Q89.1401 759.322 87.3114 762.887 Q85.5058 766.429 85.5058 773.558 Q85.5058 780.665 87.3114 784.229 Q89.1401 787.771 92.7512 787.771 Q96.3854 787.771 98.1909 784.229 Q100.02 780.665 100.02 773.558 Q100.02 766.429 98.1909 762.887 Q96.3854 759.322 92.7512 759.322 M92.7512 755.619 Q98.5613 755.619 101.617 760.225 Q104.696 764.808 104.696 773.558 Q104.696 782.285 101.617 786.892 Q98.5613 791.475 92.7512 791.475 Q86.941 791.475 83.8623 786.892 Q80.8068 782.285 80.8068 773.558 Q80.8068 764.808 83.8623 760.225 Q86.941 755.619 92.7512 755.619 Z\" fill=\"#000000\" fill-rule=\"evenodd\" fill-opacity=\"1\" /><path clip-path=\"url(#clip370)\" d=\"M54.3949 451.147 L62.0337 451.147 L62.0337 424.781 L53.7236 426.448 L53.7236 422.188 L61.9874 420.522 L66.6633 420.522 L66.6633 451.147 L74.3022 451.147 L74.3022 455.082 L54.3949 455.082 L54.3949 451.147 Z\" fill=\"#000000\" fill-rule=\"evenodd\" fill-opacity=\"1\" /><path clip-path=\"url(#clip370)\" d=\"M83.7929 420.522 L102.149 420.522 L102.149 424.457 L88.0753 424.457 L88.0753 432.929 Q89.0938 432.582 90.1123 432.42 Q91.1308 432.235 92.1493 432.235 Q97.9363 432.235 101.316 435.406 Q104.696 438.577 104.696 443.994 Q104.696 449.572 101.223 452.674 Q97.7511 455.753 91.4317 455.753 Q89.2558 455.753 86.9873 455.383 Q84.7419 455.012 82.3346 454.272 L82.3346 449.572 Q84.4179 450.707 86.6401 451.262 Q88.8623 451.818 91.3391 451.818 Q95.3437 451.818 97.6817 449.711 Q100.02 447.605 100.02 443.994 Q100.02 440.383 97.6817 438.276 Q95.3437 436.17 91.3391 436.17 Q89.4641 436.17 87.5892 436.586 Q85.7373 437.003 83.7929 437.883 L83.7929 420.522 Z\" fill=\"#000000\" fill-rule=\"evenodd\" fill-opacity=\"1\" /><path clip-path=\"url(#clip370)\" d=\"M56.6171 115.425 L72.9365 115.425 L72.9365 119.36 L50.9921 119.36 L50.9921 115.425 Q53.6541 112.67 58.2375 108.041 Q62.8439 103.388 64.0245 102.045 Q66.2698 99.5221 67.1494 97.786 Q68.0522 96.0267 68.0522 94.3369 Q68.0522 91.5823 66.1078 89.8462 Q64.1865 88.1101 61.0847 88.1101 Q58.8856 88.1101 56.4319 88.874 Q54.0014 89.6379 51.2236 91.1888 L51.2236 86.4666 Q54.0477 85.3323 56.5014 84.7536 Q58.955 84.1749 60.9921 84.1749 Q66.3624 84.1749 69.5568 86.8601 Q72.7513 89.5453 72.7513 94.036 Q72.7513 96.1656 71.9411 98.0869 Q71.1541 99.985 69.0476 102.578 Q68.4689 103.249 65.367 106.466 Q62.2652 109.661 56.6171 115.425 Z\" fill=\"#000000\" fill-rule=\"evenodd\" fill-opacity=\"1\" /><path clip-path=\"url(#clip370)\" d=\"M92.7512 87.8786 Q89.1401 87.8786 87.3114 91.4434 Q85.5058 94.9851 85.5058 102.115 Q85.5058 109.221 87.3114 112.786 Q89.1401 116.328 92.7512 116.328 Q96.3854 116.328 98.1909 112.786 Q100.02 109.221 100.02 102.115 Q100.02 94.9851 98.1909 91.4434 Q96.3854 87.8786 92.7512 87.8786 M92.7512 84.1749 Q98.5613 84.1749 101.617 88.7814 Q104.696 93.3647 104.696 102.115 Q104.696 110.841 101.617 115.448 Q98.5613 120.031 92.7512 120.031 Q86.941 120.031 83.8623 115.448 Q80.8068 110.841 80.8068 102.115 Q80.8068 93.3647 83.8623 88.7814 Q86.941 84.1749 92.7512 84.1749 Z\" fill=\"#000000\" fill-rule=\"evenodd\" fill-opacity=\"1\" /><polyline clip-path=\"url(#clip372)\" style=\"stroke:#000000; stroke-linecap:butt; stroke-linejoin:round; stroke-width:4; stroke-opacity:1; fill:none\" points=\"\n  203.301,1311.43 203.301,1309.93 \n  \"/>\n<polyline clip-path=\"url(#clip372)\" style=\"stroke:#000000; stroke-linecap:butt; stroke-linejoin:round; stroke-width:4; stroke-opacity:1; fill:none\" points=\"\n  435.173,1197.71 435.173,1155.07 \n  \"/>\n<polyline clip-path=\"url(#clip372)\" style=\"stroke:#000000; stroke-linecap:butt; stroke-linejoin:round; stroke-width:4; stroke-opacity:1; fill:none\" points=\"\n  667.045,1072.49 667.045,1011.71 \n  \"/>\n<polyline clip-path=\"url(#clip372)\" style=\"stroke:#000000; stroke-linecap:butt; stroke-linejoin:round; stroke-width:4; stroke-opacity:1; fill:none\" points=\"\n  898.917,915.135 898.917,900.49 \n  \"/>\n<polyline clip-path=\"url(#clip372)\" style=\"stroke:#000000; stroke-linecap:butt; stroke-linejoin:round; stroke-width:4; stroke-opacity:1; fill:none\" points=\"\n  1130.79,781.567 1130.79,765.48 \n  \"/>\n<polyline clip-path=\"url(#clip372)\" style=\"stroke:#000000; stroke-linecap:butt; stroke-linejoin:round; stroke-width:4; stroke-opacity:1; fill:none\" points=\"\n  1362.66,646.1 1362.66,632.37 \n  \"/>\n<polyline clip-path=\"url(#clip372)\" style=\"stroke:#000000; stroke-linecap:butt; stroke-linejoin:round; stroke-width:4; stroke-opacity:1; fill:none\" points=\"\n  1594.53,560.093 1594.53,449.799 \n  \"/>\n<polyline clip-path=\"url(#clip372)\" style=\"stroke:#000000; stroke-linecap:butt; stroke-linejoin:round; stroke-width:4; stroke-opacity:1; fill:none\" points=\"\n  1826.41,417.362 1826.41,323.952 \n  \"/>\n<polyline clip-path=\"url(#clip372)\" style=\"stroke:#000000; stroke-linecap:butt; stroke-linejoin:round; stroke-width:4; stroke-opacity:1; fill:none\" points=\"\n  2058.28,242.061 2058.28,230.676 \n  \"/>\n<polyline clip-path=\"url(#clip372)\" style=\"stroke:#000000; stroke-linecap:butt; stroke-linejoin:round; stroke-width:4; stroke-opacity:1; fill:none\" points=\"\n  2290.15,116.184 2290.15,87.9763 \n  \"/>\n<line clip-path=\"url(#clip372)\" x1=\"219.301\" y1=\"1311.43\" x2=\"187.301\" y2=\"1311.43\" style=\"stroke:#000000; stroke-width:3.2; stroke-opacity:1\"/>\n<line clip-path=\"url(#clip372)\" x1=\"219.301\" y1=\"1309.93\" x2=\"187.301\" y2=\"1309.93\" style=\"stroke:#000000; stroke-width:3.2; stroke-opacity:1\"/>\n<line clip-path=\"url(#clip372)\" x1=\"451.173\" y1=\"1197.71\" x2=\"419.173\" y2=\"1197.71\" style=\"stroke:#000000; stroke-width:3.2; stroke-opacity:1\"/>\n<line clip-path=\"url(#clip372)\" x1=\"451.173\" y1=\"1155.07\" x2=\"419.173\" y2=\"1155.07\" style=\"stroke:#000000; stroke-width:3.2; stroke-opacity:1\"/>\n<line clip-path=\"url(#clip372)\" x1=\"683.045\" y1=\"1072.49\" x2=\"651.045\" y2=\"1072.49\" style=\"stroke:#000000; stroke-width:3.2; stroke-opacity:1\"/>\n<line clip-path=\"url(#clip372)\" x1=\"683.045\" y1=\"1011.71\" x2=\"651.045\" y2=\"1011.71\" style=\"stroke:#000000; stroke-width:3.2; stroke-opacity:1\"/>\n<line clip-path=\"url(#clip372)\" x1=\"914.917\" y1=\"915.135\" x2=\"882.917\" y2=\"915.135\" style=\"stroke:#000000; stroke-width:3.2; stroke-opacity:1\"/>\n<line clip-path=\"url(#clip372)\" x1=\"914.917\" y1=\"900.49\" x2=\"882.917\" y2=\"900.49\" style=\"stroke:#000000; stroke-width:3.2; stroke-opacity:1\"/>\n<line clip-path=\"url(#clip372)\" x1=\"1146.79\" y1=\"781.567\" x2=\"1114.79\" y2=\"781.567\" style=\"stroke:#000000; stroke-width:3.2; stroke-opacity:1\"/>\n<line clip-path=\"url(#clip372)\" x1=\"1146.79\" y1=\"765.48\" x2=\"1114.79\" y2=\"765.48\" style=\"stroke:#000000; stroke-width:3.2; stroke-opacity:1\"/>\n<line clip-path=\"url(#clip372)\" x1=\"1378.66\" y1=\"646.1\" x2=\"1346.66\" y2=\"646.1\" style=\"stroke:#000000; stroke-width:3.2; stroke-opacity:1\"/>\n<line clip-path=\"url(#clip372)\" x1=\"1378.66\" y1=\"632.37\" x2=\"1346.66\" y2=\"632.37\" style=\"stroke:#000000; stroke-width:3.2; stroke-opacity:1\"/>\n<line clip-path=\"url(#clip372)\" x1=\"1610.53\" y1=\"560.093\" x2=\"1578.53\" y2=\"560.093\" style=\"stroke:#000000; stroke-width:3.2; stroke-opacity:1\"/>\n<line clip-path=\"url(#clip372)\" x1=\"1610.53\" y1=\"449.799\" x2=\"1578.53\" y2=\"449.799\" style=\"stroke:#000000; stroke-width:3.2; stroke-opacity:1\"/>\n<line clip-path=\"url(#clip372)\" x1=\"1842.41\" y1=\"417.362\" x2=\"1810.41\" y2=\"417.362\" style=\"stroke:#000000; stroke-width:3.2; stroke-opacity:1\"/>\n<line clip-path=\"url(#clip372)\" x1=\"1842.41\" y1=\"323.952\" x2=\"1810.41\" y2=\"323.952\" style=\"stroke:#000000; stroke-width:3.2; stroke-opacity:1\"/>\n<line clip-path=\"url(#clip372)\" x1=\"2074.28\" y1=\"242.061\" x2=\"2042.28\" y2=\"242.061\" style=\"stroke:#000000; stroke-width:3.2; stroke-opacity:1\"/>\n<line clip-path=\"url(#clip372)\" x1=\"2074.28\" y1=\"230.676\" x2=\"2042.28\" y2=\"230.676\" style=\"stroke:#000000; stroke-width:3.2; stroke-opacity:1\"/>\n<line clip-path=\"url(#clip372)\" x1=\"2306.15\" y1=\"116.184\" x2=\"2274.15\" y2=\"116.184\" style=\"stroke:#000000; stroke-width:3.2; stroke-opacity:1\"/>\n<line clip-path=\"url(#clip372)\" x1=\"2306.15\" y1=\"87.9763\" x2=\"2274.15\" y2=\"87.9763\" style=\"stroke:#000000; stroke-width:3.2; stroke-opacity:1\"/>\n<circle clip-path=\"url(#clip372)\" cx=\"203.301\" cy=\"1310.68\" r=\"14\" fill=\"#ff0000\" fill-rule=\"evenodd\" fill-opacity=\"1\" stroke=\"#000000\" stroke-opacity=\"1\" stroke-width=\"3.2\"/>\n<circle clip-path=\"url(#clip372)\" cx=\"435.173\" cy=\"1176.39\" r=\"14\" fill=\"#ff0000\" fill-rule=\"evenodd\" fill-opacity=\"1\" stroke=\"#000000\" stroke-opacity=\"1\" stroke-width=\"3.2\"/>\n<circle clip-path=\"url(#clip372)\" cx=\"667.045\" cy=\"1042.1\" r=\"14\" fill=\"#ff0000\" fill-rule=\"evenodd\" fill-opacity=\"1\" stroke=\"#000000\" stroke-opacity=\"1\" stroke-width=\"3.2\"/>\n<circle clip-path=\"url(#clip372)\" cx=\"898.917\" cy=\"907.812\" r=\"14\" fill=\"#ff0000\" fill-rule=\"evenodd\" fill-opacity=\"1\" stroke=\"#000000\" stroke-opacity=\"1\" stroke-width=\"3.2\"/>\n<circle clip-path=\"url(#clip372)\" cx=\"1130.79\" cy=\"773.524\" r=\"14\" fill=\"#ff0000\" fill-rule=\"evenodd\" fill-opacity=\"1\" stroke=\"#000000\" stroke-opacity=\"1\" stroke-width=\"3.2\"/>\n<circle clip-path=\"url(#clip372)\" cx=\"1362.66\" cy=\"639.235\" r=\"14\" fill=\"#ff0000\" fill-rule=\"evenodd\" fill-opacity=\"1\" stroke=\"#000000\" stroke-opacity=\"1\" stroke-width=\"3.2\"/>\n<circle clip-path=\"url(#clip372)\" cx=\"1594.53\" cy=\"504.946\" r=\"14\" fill=\"#ff0000\" fill-rule=\"evenodd\" fill-opacity=\"1\" stroke=\"#000000\" stroke-opacity=\"1\" stroke-width=\"3.2\"/>\n<circle clip-path=\"url(#clip372)\" cx=\"1826.41\" cy=\"370.657\" r=\"14\" fill=\"#ff0000\" fill-rule=\"evenodd\" fill-opacity=\"1\" stroke=\"#000000\" stroke-opacity=\"1\" stroke-width=\"3.2\"/>\n<circle clip-path=\"url(#clip372)\" cx=\"2058.28\" cy=\"236.369\" r=\"14\" fill=\"#ff0000\" fill-rule=\"evenodd\" fill-opacity=\"1\" stroke=\"#000000\" stroke-opacity=\"1\" stroke-width=\"3.2\"/>\n<circle clip-path=\"url(#clip372)\" cx=\"2290.15\" cy=\"102.08\" r=\"14\" fill=\"#ff0000\" fill-rule=\"evenodd\" fill-opacity=\"1\" stroke=\"#000000\" stroke-opacity=\"1\" stroke-width=\"3.2\"/>\n<polyline clip-path=\"url(#clip372)\" style=\"stroke:#000000; stroke-linecap:butt; stroke-linejoin:round; stroke-width:4; stroke-opacity:1; fill:none\" points=\"\n  203.301,1445.72 203.301,1444.22 \n  \"/>\n<polyline clip-path=\"url(#clip372)\" style=\"stroke:#000000; stroke-linecap:butt; stroke-linejoin:round; stroke-width:4; stroke-opacity:1; fill:none\" points=\"\n  435.173,1419.75 435.173,1377.11 \n  \"/>\n<polyline clip-path=\"url(#clip372)\" style=\"stroke:#000000; stroke-linecap:butt; stroke-linejoin:round; stroke-width:4; stroke-opacity:1; fill:none\" points=\"\n  667.045,1401.59 667.045,1340.81 \n  \"/>\n<polyline clip-path=\"url(#clip372)\" style=\"stroke:#000000; stroke-linecap:butt; stroke-linejoin:round; stroke-width:4; stroke-opacity:1; fill:none\" points=\"\n  898.917,1359.21 898.917,1344.56 \n  \"/>\n<polyline clip-path=\"url(#clip372)\" style=\"stroke:#000000; stroke-linecap:butt; stroke-linejoin:round; stroke-width:4; stroke-opacity:1; fill:none\" points=\"\n  1130.79,1344.95 1130.79,1328.86 \n  \"/>\n<polyline clip-path=\"url(#clip372)\" style=\"stroke:#000000; stroke-linecap:butt; stroke-linejoin:round; stroke-width:4; stroke-opacity:1; fill:none\" points=\"\n  1362.66,1331.53 1362.66,1317.8 \n  \"/>\n<polyline clip-path=\"url(#clip372)\" style=\"stroke:#000000; stroke-linecap:butt; stroke-linejoin:round; stroke-width:4; stroke-opacity:1; fill:none\" points=\"\n  1594.53,1369.46 1594.53,1259.16 \n  \"/>\n<polyline clip-path=\"url(#clip372)\" style=\"stroke:#000000; stroke-linecap:butt; stroke-linejoin:round; stroke-width:4; stroke-opacity:1; fill:none\" points=\"\n  1826.41,1352.05 1826.41,1258.64 \n  \"/>\n<polyline clip-path=\"url(#clip372)\" style=\"stroke:#000000; stroke-linecap:butt; stroke-linejoin:round; stroke-width:4; stroke-opacity:1; fill:none\" points=\"\n  2058.28,1303.13 2058.28,1291.74 \n  \"/>\n<polyline clip-path=\"url(#clip372)\" style=\"stroke:#000000; stroke-linecap:butt; stroke-linejoin:round; stroke-width:4; stroke-opacity:1; fill:none\" points=\"\n  2290.15,1304.47 2290.15,1276.26 \n  \"/>\n<line clip-path=\"url(#clip372)\" x1=\"219.301\" y1=\"1445.72\" x2=\"187.301\" y2=\"1445.72\" style=\"stroke:#000000; stroke-width:3.2; stroke-opacity:1\"/>\n<line clip-path=\"url(#clip372)\" x1=\"219.301\" y1=\"1444.22\" x2=\"187.301\" y2=\"1444.22\" style=\"stroke:#000000; stroke-width:3.2; stroke-opacity:1\"/>\n<line clip-path=\"url(#clip372)\" x1=\"451.173\" y1=\"1419.75\" x2=\"419.173\" y2=\"1419.75\" style=\"stroke:#000000; stroke-width:3.2; stroke-opacity:1\"/>\n<line clip-path=\"url(#clip372)\" x1=\"451.173\" y1=\"1377.11\" x2=\"419.173\" y2=\"1377.11\" style=\"stroke:#000000; stroke-width:3.2; stroke-opacity:1\"/>\n<line clip-path=\"url(#clip372)\" x1=\"683.045\" y1=\"1401.59\" x2=\"651.045\" y2=\"1401.59\" style=\"stroke:#000000; stroke-width:3.2; stroke-opacity:1\"/>\n<line clip-path=\"url(#clip372)\" x1=\"683.045\" y1=\"1340.81\" x2=\"651.045\" y2=\"1340.81\" style=\"stroke:#000000; stroke-width:3.2; stroke-opacity:1\"/>\n<line clip-path=\"url(#clip372)\" x1=\"914.917\" y1=\"1359.21\" x2=\"882.917\" y2=\"1359.21\" style=\"stroke:#000000; stroke-width:3.2; stroke-opacity:1\"/>\n<line clip-path=\"url(#clip372)\" x1=\"914.917\" y1=\"1344.56\" x2=\"882.917\" y2=\"1344.56\" style=\"stroke:#000000; stroke-width:3.2; stroke-opacity:1\"/>\n<line clip-path=\"url(#clip372)\" x1=\"1146.79\" y1=\"1344.95\" x2=\"1114.79\" y2=\"1344.95\" style=\"stroke:#000000; stroke-width:3.2; stroke-opacity:1\"/>\n<line clip-path=\"url(#clip372)\" x1=\"1146.79\" y1=\"1328.86\" x2=\"1114.79\" y2=\"1328.86\" style=\"stroke:#000000; stroke-width:3.2; stroke-opacity:1\"/>\n<line clip-path=\"url(#clip372)\" x1=\"1378.66\" y1=\"1331.53\" x2=\"1346.66\" y2=\"1331.53\" style=\"stroke:#000000; stroke-width:3.2; stroke-opacity:1\"/>\n<line clip-path=\"url(#clip372)\" x1=\"1378.66\" y1=\"1317.8\" x2=\"1346.66\" y2=\"1317.8\" style=\"stroke:#000000; stroke-width:3.2; stroke-opacity:1\"/>\n<line clip-path=\"url(#clip372)\" x1=\"1610.53\" y1=\"1369.46\" x2=\"1578.53\" y2=\"1369.46\" style=\"stroke:#000000; stroke-width:3.2; stroke-opacity:1\"/>\n<line clip-path=\"url(#clip372)\" x1=\"1610.53\" y1=\"1259.16\" x2=\"1578.53\" y2=\"1259.16\" style=\"stroke:#000000; stroke-width:3.2; stroke-opacity:1\"/>\n<line clip-path=\"url(#clip372)\" x1=\"1842.41\" y1=\"1352.05\" x2=\"1810.41\" y2=\"1352.05\" style=\"stroke:#000000; stroke-width:3.2; stroke-opacity:1\"/>\n<line clip-path=\"url(#clip372)\" x1=\"1842.41\" y1=\"1258.64\" x2=\"1810.41\" y2=\"1258.64\" style=\"stroke:#000000; stroke-width:3.2; stroke-opacity:1\"/>\n<line clip-path=\"url(#clip372)\" x1=\"2074.28\" y1=\"1303.13\" x2=\"2042.28\" y2=\"1303.13\" style=\"stroke:#000000; stroke-width:3.2; stroke-opacity:1\"/>\n<line clip-path=\"url(#clip372)\" x1=\"2074.28\" y1=\"1291.74\" x2=\"2042.28\" y2=\"1291.74\" style=\"stroke:#000000; stroke-width:3.2; stroke-opacity:1\"/>\n<line clip-path=\"url(#clip372)\" x1=\"2306.15\" y1=\"1304.47\" x2=\"2274.15\" y2=\"1304.47\" style=\"stroke:#000000; stroke-width:3.2; stroke-opacity:1\"/>\n<line clip-path=\"url(#clip372)\" x1=\"2306.15\" y1=\"1276.26\" x2=\"2274.15\" y2=\"1276.26\" style=\"stroke:#000000; stroke-width:3.2; stroke-opacity:1\"/>\n<circle clip-path=\"url(#clip372)\" cx=\"203.301\" cy=\"1444.97\" r=\"14\" fill=\"#0000ff\" fill-rule=\"evenodd\" fill-opacity=\"1\" stroke=\"#000000\" stroke-opacity=\"1\" stroke-width=\"3.2\"/>\n<circle clip-path=\"url(#clip372)\" cx=\"435.173\" cy=\"1398.43\" r=\"14\" fill=\"#0000ff\" fill-rule=\"evenodd\" fill-opacity=\"1\" stroke=\"#000000\" stroke-opacity=\"1\" stroke-width=\"3.2\"/>\n<circle clip-path=\"url(#clip372)\" cx=\"667.045\" cy=\"1371.2\" r=\"14\" fill=\"#0000ff\" fill-rule=\"evenodd\" fill-opacity=\"1\" stroke=\"#000000\" stroke-opacity=\"1\" stroke-width=\"3.2\"/>\n<circle clip-path=\"url(#clip372)\" cx=\"898.917\" cy=\"1351.89\" r=\"14\" fill=\"#0000ff\" fill-rule=\"evenodd\" fill-opacity=\"1\" stroke=\"#000000\" stroke-opacity=\"1\" stroke-width=\"3.2\"/>\n<circle clip-path=\"url(#clip372)\" cx=\"1130.79\" cy=\"1336.9\" r=\"14\" fill=\"#0000ff\" fill-rule=\"evenodd\" fill-opacity=\"1\" stroke=\"#000000\" stroke-opacity=\"1\" stroke-width=\"3.2\"/>\n<circle clip-path=\"url(#clip372)\" cx=\"1362.66\" cy=\"1324.66\" r=\"14\" fill=\"#0000ff\" fill-rule=\"evenodd\" fill-opacity=\"1\" stroke=\"#000000\" stroke-opacity=\"1\" stroke-width=\"3.2\"/>\n<circle clip-path=\"url(#clip372)\" cx=\"1594.53\" cy=\"1314.31\" r=\"14\" fill=\"#0000ff\" fill-rule=\"evenodd\" fill-opacity=\"1\" stroke=\"#000000\" stroke-opacity=\"1\" stroke-width=\"3.2\"/>\n<circle clip-path=\"url(#clip372)\" cx=\"1826.41\" cy=\"1305.34\" r=\"14\" fill=\"#0000ff\" fill-rule=\"evenodd\" fill-opacity=\"1\" stroke=\"#000000\" stroke-opacity=\"1\" stroke-width=\"3.2\"/>\n<circle clip-path=\"url(#clip372)\" cx=\"2058.28\" cy=\"1297.44\" r=\"14\" fill=\"#0000ff\" fill-rule=\"evenodd\" fill-opacity=\"1\" stroke=\"#000000\" stroke-opacity=\"1\" stroke-width=\"3.2\"/>\n<circle clip-path=\"url(#clip372)\" cx=\"2290.15\" cy=\"1290.36\" r=\"14\" fill=\"#0000ff\" fill-rule=\"evenodd\" fill-opacity=\"1\" stroke=\"#000000\" stroke-opacity=\"1\" stroke-width=\"3.2\"/>\n<path clip-path=\"url(#clip370)\" d=\"\nM1980.81 250.738 L2279.02 250.738 L2279.02 95.2176 L1980.81 95.2176  Z\n  \" fill=\"#ffffff\" fill-rule=\"evenodd\" fill-opacity=\"1\"/>\n<polyline clip-path=\"url(#clip370)\" style=\"stroke:#000000; stroke-linecap:butt; stroke-linejoin:round; stroke-width:4; stroke-opacity:1; fill:none\" points=\"\n  1980.81,250.738 2279.02,250.738 2279.02,95.2176 1980.81,95.2176 1980.81,250.738 \n  \"/>\n<circle clip-path=\"url(#clip370)\" cx=\"2079.12\" cy=\"147.058\" r=\"23\" fill=\"#ff0000\" fill-rule=\"evenodd\" fill-opacity=\"1\" stroke=\"#000000\" stroke-opacity=\"1\" stroke-width=\"5.12\"/>\n<path clip-path=\"url(#clip370)\" d=\"M2191.28 166.745 Q2189.47 171.375 2187.76 172.787 Q2186.04 174.199 2183.17 174.199 L2179.77 174.199 L2179.77 170.634 L2182.27 170.634 Q2184.03 170.634 2185 169.8 Q2185.98 168.967 2187.16 165.865 L2187.92 163.921 L2177.43 138.412 L2181.95 138.412 L2190.05 158.689 L2198.15 138.412 L2202.66 138.412 L2191.28 166.745 Z\" fill=\"#000000\" fill-rule=\"evenodd\" fill-opacity=\"1\" /><path clip-path=\"url(#clip370)\" d=\"M2209.96 160.402 L2217.6 160.402 L2217.6 134.037 L2209.29 135.703 L2209.29 131.444 L2217.55 129.778 L2222.22 129.778 L2222.22 160.402 L2229.86 160.402 L2229.86 164.338 L2209.96 164.338 L2209.96 160.402 Z\" fill=\"#000000\" fill-rule=\"evenodd\" fill-opacity=\"1\" /><circle clip-path=\"url(#clip370)\" cx=\"2079.12\" cy=\"198.898\" r=\"23\" fill=\"#0000ff\" fill-rule=\"evenodd\" fill-opacity=\"1\" stroke=\"#000000\" stroke-opacity=\"1\" stroke-width=\"5.12\"/>\n<path clip-path=\"url(#clip370)\" d=\"M2191.28 218.585 Q2189.47 223.215 2187.76 224.627 Q2186.04 226.039 2183.17 226.039 L2179.77 226.039 L2179.77 222.474 L2182.27 222.474 Q2184.03 222.474 2185 221.64 Q2185.98 220.807 2187.16 217.705 L2187.92 215.761 L2177.43 190.252 L2181.95 190.252 L2190.05 210.529 L2198.15 190.252 L2202.66 190.252 L2191.28 218.585 Z\" fill=\"#000000\" fill-rule=\"evenodd\" fill-opacity=\"1\" /><path clip-path=\"url(#clip370)\" d=\"M2213.17 212.242 L2229.49 212.242 L2229.49 216.178 L2207.55 216.178 L2207.55 212.242 Q2210.21 209.488 2214.79 204.858 Q2219.4 200.205 2220.58 198.863 Q2222.83 196.34 2223.71 194.604 Q2224.61 192.844 2224.61 191.155 Q2224.61 188.4 2222.66 186.664 Q2220.74 184.928 2217.64 184.928 Q2215.44 184.928 2212.99 185.692 Q2210.56 186.455 2207.78 188.006 L2207.78 183.284 Q2210.6 182.15 2213.06 181.571 Q2215.51 180.993 2217.55 180.993 Q2222.92 180.993 2226.11 183.678 Q2229.31 186.363 2229.31 190.854 Q2229.31 192.983 2228.5 194.905 Q2227.71 196.803 2225.6 199.395 Q2225.03 200.067 2221.92 203.284 Q2218.82 206.479 2213.17 212.242 Z\" fill=\"#000000\" fill-rule=\"evenodd\" fill-opacity=\"1\" /></svg>\n"
     },
     "execution_count": 37,
     "metadata": {},
     "output_type": "execute_result"
    }
   ],
   "source": [
    "# Mozna odwolywac sie bezposrednio do kolumn w poniższy sposób (gdyz sa typu jednowymiarowych tablic \n",
    "# Array{T,1})\n",
    "\n",
    "using Plots\n",
    "scatter(df.a, [df.b, df.c], colour = [:red :blue], yerr=df.d)"
   ]
  },
  {
   "cell_type": "code",
   "execution_count": 38,
   "metadata": {},
   "outputs": [
    {
     "data": {
      "image/svg+xml": "<?xml version=\"1.0\" encoding=\"utf-8\"?>\n<svg xmlns=\"http://www.w3.org/2000/svg\" xmlns:xlink=\"http://www.w3.org/1999/xlink\" width=\"600\" height=\"400\" viewBox=\"0 0 2400 1600\">\n<defs>\n  <clipPath id=\"clip410\">\n    <rect x=\"0\" y=\"0\" width=\"2400\" height=\"1600\"/>\n  </clipPath>\n</defs>\n<path clip-path=\"url(#clip410)\" d=\"\nM0 1600 L2400 1600 L2400 0 L0 0  Z\n  \" fill=\"#ffffff\" fill-rule=\"evenodd\" fill-opacity=\"1\"/>\n<defs>\n  <clipPath id=\"clip411\">\n    <rect x=\"480\" y=\"0\" width=\"1681\" height=\"1600\"/>\n  </clipPath>\n</defs>\n<path clip-path=\"url(#clip410)\" d=\"\nM140.696 1486.45 L1145.05 1486.45 L1145.05 47.2441 L140.696 47.2441  Z\n  \" fill=\"#ffffff\" fill-rule=\"evenodd\" fill-opacity=\"1\"/>\n<defs>\n  <clipPath id=\"clip412\">\n    <rect x=\"140\" y=\"47\" width=\"1005\" height=\"1440\"/>\n  </clipPath>\n</defs>\n<polyline clip-path=\"url(#clip412)\" style=\"stroke:#000000; stroke-linecap:butt; stroke-linejoin:round; stroke-width:2; stroke-opacity:0.1; fill:none\" points=\"\n  274.399,1486.45 274.399,47.2441 \n  \"/>\n<polyline clip-path=\"url(#clip412)\" style=\"stroke:#000000; stroke-linecap:butt; stroke-linejoin:round; stroke-width:2; stroke-opacity:0.1; fill:none\" points=\"\n  484.955,1486.45 484.955,47.2441 \n  \"/>\n<polyline clip-path=\"url(#clip412)\" style=\"stroke:#000000; stroke-linecap:butt; stroke-linejoin:round; stroke-width:2; stroke-opacity:0.1; fill:none\" points=\"\n  695.511,1486.45 695.511,47.2441 \n  \"/>\n<polyline clip-path=\"url(#clip412)\" style=\"stroke:#000000; stroke-linecap:butt; stroke-linejoin:round; stroke-width:2; stroke-opacity:0.1; fill:none\" points=\"\n  906.067,1486.45 906.067,47.2441 \n  \"/>\n<polyline clip-path=\"url(#clip412)\" style=\"stroke:#000000; stroke-linecap:butt; stroke-linejoin:round; stroke-width:2; stroke-opacity:0.1; fill:none\" points=\"\n  1116.62,1486.45 1116.62,47.2441 \n  \"/>\n<polyline clip-path=\"url(#clip410)\" style=\"stroke:#000000; stroke-linecap:butt; stroke-linejoin:round; stroke-width:4; stroke-opacity:1; fill:none\" points=\"\n  140.696,1486.45 1145.05,1486.45 \n  \"/>\n<polyline clip-path=\"url(#clip410)\" style=\"stroke:#000000; stroke-linecap:butt; stroke-linejoin:round; stroke-width:4; stroke-opacity:1; fill:none\" points=\"\n  274.399,1486.45 274.399,1467.55 \n  \"/>\n<polyline clip-path=\"url(#clip410)\" style=\"stroke:#000000; stroke-linecap:butt; stroke-linejoin:round; stroke-width:4; stroke-opacity:1; fill:none\" points=\"\n  484.955,1486.45 484.955,1467.55 \n  \"/>\n<polyline clip-path=\"url(#clip410)\" style=\"stroke:#000000; stroke-linecap:butt; stroke-linejoin:round; stroke-width:4; stroke-opacity:1; fill:none\" points=\"\n  695.511,1486.45 695.511,1467.55 \n  \"/>\n<polyline clip-path=\"url(#clip410)\" style=\"stroke:#000000; stroke-linecap:butt; stroke-linejoin:round; stroke-width:4; stroke-opacity:1; fill:none\" points=\"\n  906.067,1486.45 906.067,1467.55 \n  \"/>\n<polyline clip-path=\"url(#clip410)\" style=\"stroke:#000000; stroke-linecap:butt; stroke-linejoin:round; stroke-width:4; stroke-opacity:1; fill:none\" points=\"\n  1116.62,1486.45 1116.62,1467.55 \n  \"/>\n<path clip-path=\"url(#clip410)\" d=\"M269.051 1544.91 L285.371 1544.91 L285.371 1548.85 L263.426 1548.85 L263.426 1544.91 Q266.088 1542.16 270.672 1537.53 Q275.278 1532.88 276.459 1531.53 Q278.704 1529.01 279.584 1527.27 Q280.487 1525.51 280.487 1523.82 Q280.487 1521.07 278.542 1519.33 Q276.621 1517.6 273.519 1517.6 Q271.32 1517.6 268.866 1518.36 Q266.436 1519.13 263.658 1520.68 L263.658 1515.95 Q266.482 1514.82 268.936 1514.24 Q271.389 1513.66 273.426 1513.66 Q278.797 1513.66 281.991 1516.35 Q285.186 1519.03 285.186 1523.52 Q285.186 1525.65 284.375 1527.57 Q283.588 1529.47 281.482 1532.07 Q280.903 1532.74 277.801 1535.95 Q274.7 1539.15 269.051 1544.91 Z\" fill=\"#000000\" fill-rule=\"evenodd\" fill-opacity=\"1\" /><path clip-path=\"url(#clip410)\" d=\"M487.964 1518.36 L476.158 1536.81 L487.964 1536.81 L487.964 1518.36 M486.737 1514.29 L492.617 1514.29 L492.617 1536.81 L497.547 1536.81 L497.547 1540.7 L492.617 1540.7 L492.617 1548.85 L487.964 1548.85 L487.964 1540.7 L472.362 1540.7 L472.362 1536.19 L486.737 1514.29 Z\" fill=\"#000000\" fill-rule=\"evenodd\" fill-opacity=\"1\" /><path clip-path=\"url(#clip410)\" d=\"M695.916 1529.7 Q692.768 1529.7 690.916 1531.86 Q689.087 1534.01 689.087 1537.76 Q689.087 1541.49 690.916 1543.66 Q692.768 1545.82 695.916 1545.82 Q699.064 1545.82 700.892 1543.66 Q702.744 1541.49 702.744 1537.76 Q702.744 1534.01 700.892 1531.86 Q699.064 1529.7 695.916 1529.7 M705.198 1515.05 L705.198 1519.31 Q703.439 1518.48 701.633 1518.04 Q699.851 1517.6 698.092 1517.6 Q693.462 1517.6 691.008 1520.72 Q688.578 1523.85 688.231 1530.17 Q689.596 1528.15 691.656 1527.09 Q693.717 1526 696.193 1526 Q701.402 1526 704.411 1529.17 Q707.443 1532.32 707.443 1537.76 Q707.443 1543.08 704.295 1546.3 Q701.147 1549.52 695.916 1549.52 Q689.92 1549.52 686.749 1544.94 Q683.578 1540.33 683.578 1531.6 Q683.578 1523.41 687.467 1518.55 Q691.356 1513.66 697.906 1513.66 Q699.666 1513.66 701.448 1514.01 Q703.254 1514.36 705.198 1515.05 Z\" fill=\"#000000\" fill-rule=\"evenodd\" fill-opacity=\"1\" /><path clip-path=\"url(#clip410)\" d=\"M906.067 1532.44 Q902.733 1532.44 900.812 1534.22 Q898.914 1536 898.914 1539.13 Q898.914 1542.25 900.812 1544.03 Q902.733 1545.82 906.067 1545.82 Q909.4 1545.82 911.321 1544.03 Q913.242 1542.23 913.242 1539.13 Q913.242 1536 911.321 1534.22 Q909.423 1532.44 906.067 1532.44 M901.391 1530.45 Q898.381 1529.7 896.692 1527.64 Q895.025 1525.58 895.025 1522.62 Q895.025 1518.48 897.965 1516.07 Q900.928 1513.66 906.067 1513.66 Q911.229 1513.66 914.168 1516.07 Q917.108 1518.48 917.108 1522.62 Q917.108 1525.58 915.418 1527.64 Q913.752 1529.7 910.766 1530.45 Q914.145 1531.23 916.02 1533.52 Q917.918 1535.82 917.918 1539.13 Q917.918 1544.15 914.84 1546.83 Q911.784 1549.52 906.067 1549.52 Q900.349 1549.52 897.27 1546.83 Q894.215 1544.15 894.215 1539.13 Q894.215 1535.82 896.113 1533.52 Q898.011 1531.23 901.391 1530.45 M899.678 1523.06 Q899.678 1525.75 901.344 1527.25 Q903.034 1528.76 906.067 1528.76 Q909.076 1528.76 910.766 1527.25 Q912.479 1525.75 912.479 1523.06 Q912.479 1520.38 910.766 1518.87 Q909.076 1517.37 906.067 1517.37 Q903.034 1517.37 901.344 1518.87 Q899.678 1520.38 899.678 1523.06 Z\" fill=\"#000000\" fill-rule=\"evenodd\" fill-opacity=\"1\" /><path clip-path=\"url(#clip410)\" d=\"M1091.31 1544.91 L1098.95 1544.91 L1098.95 1518.55 L1090.64 1520.21 L1090.64 1515.95 L1098.9 1514.29 L1103.58 1514.29 L1103.58 1544.91 L1111.22 1544.91 L1111.22 1548.85 L1091.31 1548.85 L1091.31 1544.91 Z\" fill=\"#000000\" fill-rule=\"evenodd\" fill-opacity=\"1\" /><path clip-path=\"url(#clip410)\" d=\"M1130.66 1517.37 Q1127.05 1517.37 1125.22 1520.93 Q1123.42 1524.47 1123.42 1531.6 Q1123.42 1538.71 1125.22 1542.27 Q1127.05 1545.82 1130.66 1545.82 Q1134.3 1545.82 1136.1 1542.27 Q1137.93 1538.71 1137.93 1531.6 Q1137.93 1524.47 1136.1 1520.93 Q1134.3 1517.37 1130.66 1517.37 M1130.66 1513.66 Q1136.47 1513.66 1139.53 1518.27 Q1142.61 1522.85 1142.61 1531.6 Q1142.61 1540.33 1139.53 1544.94 Q1136.47 1549.52 1130.66 1549.52 Q1124.85 1549.52 1121.77 1544.94 Q1118.72 1540.33 1118.72 1531.6 Q1118.72 1522.85 1121.77 1518.27 Q1124.85 1513.66 1130.66 1513.66 Z\" fill=\"#000000\" fill-rule=\"evenodd\" fill-opacity=\"1\" /><polyline clip-path=\"url(#clip412)\" style=\"stroke:#000000; stroke-linecap:butt; stroke-linejoin:round; stroke-width:2; stroke-opacity:0.1; fill:none\" points=\"\n  140.696,1219.43 1145.05,1219.43 \n  \"/>\n<polyline clip-path=\"url(#clip412)\" style=\"stroke:#000000; stroke-linecap:butt; stroke-linejoin:round; stroke-width:2; stroke-opacity:0.1; fill:none\" points=\"\n  140.696,842.276 1145.05,842.276 \n  \"/>\n<polyline clip-path=\"url(#clip412)\" style=\"stroke:#000000; stroke-linecap:butt; stroke-linejoin:round; stroke-width:2; stroke-opacity:0.1; fill:none\" points=\"\n  140.696,465.126 1145.05,465.126 \n  \"/>\n<polyline clip-path=\"url(#clip412)\" style=\"stroke:#000000; stroke-linecap:butt; stroke-linejoin:round; stroke-width:2; stroke-opacity:0.1; fill:none\" points=\"\n  140.696,87.9763 1145.05,87.9763 \n  \"/>\n<polyline clip-path=\"url(#clip410)\" style=\"stroke:#000000; stroke-linecap:butt; stroke-linejoin:round; stroke-width:4; stroke-opacity:1; fill:none\" points=\"\n  140.696,1486.45 140.696,47.2441 \n  \"/>\n<polyline clip-path=\"url(#clip410)\" style=\"stroke:#000000; stroke-linecap:butt; stroke-linejoin:round; stroke-width:4; stroke-opacity:1; fill:none\" points=\"\n  140.696,1219.43 159.593,1219.43 \n  \"/>\n<polyline clip-path=\"url(#clip410)\" style=\"stroke:#000000; stroke-linecap:butt; stroke-linejoin:round; stroke-width:4; stroke-opacity:1; fill:none\" points=\"\n  140.696,842.276 159.593,842.276 \n  \"/>\n<polyline clip-path=\"url(#clip410)\" style=\"stroke:#000000; stroke-linecap:butt; stroke-linejoin:round; stroke-width:4; stroke-opacity:1; fill:none\" points=\"\n  140.696,465.126 159.593,465.126 \n  \"/>\n<polyline clip-path=\"url(#clip410)\" style=\"stroke:#000000; stroke-linecap:butt; stroke-linejoin:round; stroke-width:4; stroke-opacity:1; fill:none\" points=\"\n  140.696,87.9763 159.593,87.9763 \n  \"/>\n<path clip-path=\"url(#clip410)\" d=\"M83.7929 1202.15 L102.149 1202.15 L102.149 1206.08 L88.0753 1206.08 L88.0753 1214.55 Q89.0938 1214.21 90.1123 1214.04 Q91.1308 1213.86 92.1493 1213.86 Q97.9363 1213.86 101.316 1217.03 Q104.696 1220.2 104.696 1225.62 Q104.696 1231.2 101.223 1234.3 Q97.7511 1237.38 91.4317 1237.38 Q89.2558 1237.38 86.9873 1237.01 Q84.7419 1236.64 82.3346 1235.9 L82.3346 1231.2 Q84.4179 1232.33 86.6401 1232.89 Q88.8623 1233.44 91.3391 1233.44 Q95.3437 1233.44 97.6817 1231.34 Q100.02 1229.23 100.02 1225.62 Q100.02 1222.01 97.6817 1219.9 Q95.3437 1217.79 91.3391 1217.79 Q89.4641 1217.79 87.5892 1218.21 Q85.7373 1218.63 83.7929 1219.51 L83.7929 1202.15 Z\" fill=\"#000000\" fill-rule=\"evenodd\" fill-opacity=\"1\" /><path clip-path=\"url(#clip410)\" d=\"M53.3995 855.621 L61.0384 855.621 L61.0384 829.255 L52.7282 830.922 L52.7282 826.663 L60.9921 824.996 L65.668 824.996 L65.668 855.621 L73.3068 855.621 L73.3068 859.556 L53.3995 859.556 L53.3995 855.621 Z\" fill=\"#000000\" fill-rule=\"evenodd\" fill-opacity=\"1\" /><path clip-path=\"url(#clip410)\" d=\"M92.7512 828.075 Q89.1401 828.075 87.3114 831.639 Q85.5058 835.181 85.5058 842.311 Q85.5058 849.417 87.3114 852.982 Q89.1401 856.524 92.7512 856.524 Q96.3854 856.524 98.1909 852.982 Q100.02 849.417 100.02 842.311 Q100.02 835.181 98.1909 831.639 Q96.3854 828.075 92.7512 828.075 M92.7512 824.371 Q98.5613 824.371 101.617 828.977 Q104.696 833.561 104.696 842.311 Q104.696 851.037 101.617 855.644 Q98.5613 860.227 92.7512 860.227 Q86.941 860.227 83.8623 855.644 Q80.8068 851.037 80.8068 842.311 Q80.8068 833.561 83.8623 828.977 Q86.941 824.371 92.7512 824.371 Z\" fill=\"#000000\" fill-rule=\"evenodd\" fill-opacity=\"1\" /><path clip-path=\"url(#clip410)\" d=\"M54.3949 478.471 L62.0337 478.471 L62.0337 452.105 L53.7236 453.772 L53.7236 449.513 L61.9874 447.846 L66.6633 447.846 L66.6633 478.471 L74.3022 478.471 L74.3022 482.406 L54.3949 482.406 L54.3949 478.471 Z\" fill=\"#000000\" fill-rule=\"evenodd\" fill-opacity=\"1\" /><path clip-path=\"url(#clip410)\" d=\"M83.7929 447.846 L102.149 447.846 L102.149 451.781 L88.0753 451.781 L88.0753 460.253 Q89.0938 459.906 90.1123 459.744 Q91.1308 459.559 92.1493 459.559 Q97.9363 459.559 101.316 462.73 Q104.696 465.902 104.696 471.318 Q104.696 476.897 101.223 479.999 Q97.7511 483.077 91.4317 483.077 Q89.2558 483.077 86.9873 482.707 Q84.7419 482.337 82.3346 481.596 L82.3346 476.897 Q84.4179 478.031 86.6401 478.587 Q88.8623 479.142 91.3391 479.142 Q95.3437 479.142 97.6817 477.036 Q100.02 474.929 100.02 471.318 Q100.02 467.707 97.6817 465.601 Q95.3437 463.494 91.3391 463.494 Q89.4641 463.494 87.5892 463.911 Q85.7373 464.328 83.7929 465.207 L83.7929 447.846 Z\" fill=\"#000000\" fill-rule=\"evenodd\" fill-opacity=\"1\" /><path clip-path=\"url(#clip410)\" d=\"M56.6171 101.321 L72.9365 101.321 L72.9365 105.256 L50.9921 105.256 L50.9921 101.321 Q53.6541 98.5665 58.2375 93.9369 Q62.8439 89.2841 64.0245 87.9416 Q66.2698 85.4184 67.1494 83.6823 Q68.0522 81.9231 68.0522 80.2333 Q68.0522 77.4786 66.1078 75.7425 Q64.1865 74.0064 61.0847 74.0064 Q58.8856 74.0064 56.4319 74.7703 Q54.0014 75.5342 51.2236 77.0851 L51.2236 72.3629 Q54.0477 71.2287 56.5014 70.65 Q58.955 70.0713 60.9921 70.0713 Q66.3624 70.0713 69.5568 72.7565 Q72.7513 75.4416 72.7513 79.9323 Q72.7513 82.062 71.9411 83.9832 Q71.1541 85.8814 69.0476 88.474 Q68.4689 89.1453 65.367 92.3628 Q62.2652 95.5573 56.6171 101.321 Z\" fill=\"#000000\" fill-rule=\"evenodd\" fill-opacity=\"1\" /><path clip-path=\"url(#clip410)\" d=\"M92.7512 73.775 Q89.1401 73.775 87.3114 77.3398 Q85.5058 80.8814 85.5058 88.011 Q85.5058 95.1174 87.3114 98.6822 Q89.1401 102.224 92.7512 102.224 Q96.3854 102.224 98.1909 98.6822 Q100.02 95.1174 100.02 88.011 Q100.02 80.8814 98.1909 77.3398 Q96.3854 73.775 92.7512 73.775 M92.7512 70.0713 Q98.5613 70.0713 101.617 74.6777 Q104.696 79.261 104.696 88.011 Q104.696 96.7378 101.617 101.344 Q98.5613 105.928 92.7512 105.928 Q86.941 105.928 83.8623 101.344 Q80.8068 96.7378 80.8068 88.011 Q80.8068 79.261 83.8623 74.6777 Q86.941 70.0713 92.7512 70.0713 Z\" fill=\"#000000\" fill-rule=\"evenodd\" fill-opacity=\"1\" /><circle clip-path=\"url(#clip412)\" cx=\"169.121\" cy=\"1445.72\" r=\"14\" fill=\"#ff0000\" fill-rule=\"evenodd\" fill-opacity=\"1\" stroke=\"#000000\" stroke-opacity=\"1\" stroke-width=\"3.2\"/>\n<circle clip-path=\"url(#clip412)\" cx=\"274.399\" cy=\"1294.86\" r=\"14\" fill=\"#ff0000\" fill-rule=\"evenodd\" fill-opacity=\"1\" stroke=\"#000000\" stroke-opacity=\"1\" stroke-width=\"3.2\"/>\n<circle clip-path=\"url(#clip412)\" cx=\"379.677\" cy=\"1144\" r=\"14\" fill=\"#ff0000\" fill-rule=\"evenodd\" fill-opacity=\"1\" stroke=\"#000000\" stroke-opacity=\"1\" stroke-width=\"3.2\"/>\n<circle clip-path=\"url(#clip412)\" cx=\"484.955\" cy=\"993.136\" r=\"14\" fill=\"#ff0000\" fill-rule=\"evenodd\" fill-opacity=\"1\" stroke=\"#000000\" stroke-opacity=\"1\" stroke-width=\"3.2\"/>\n<circle clip-path=\"url(#clip412)\" cx=\"590.233\" cy=\"842.276\" r=\"14\" fill=\"#ff0000\" fill-rule=\"evenodd\" fill-opacity=\"1\" stroke=\"#000000\" stroke-opacity=\"1\" stroke-width=\"3.2\"/>\n<circle clip-path=\"url(#clip412)\" cx=\"695.511\" cy=\"691.416\" r=\"14\" fill=\"#ff0000\" fill-rule=\"evenodd\" fill-opacity=\"1\" stroke=\"#000000\" stroke-opacity=\"1\" stroke-width=\"3.2\"/>\n<circle clip-path=\"url(#clip412)\" cx=\"800.789\" cy=\"540.556\" r=\"14\" fill=\"#ff0000\" fill-rule=\"evenodd\" fill-opacity=\"1\" stroke=\"#000000\" stroke-opacity=\"1\" stroke-width=\"3.2\"/>\n<circle clip-path=\"url(#clip412)\" cx=\"906.067\" cy=\"389.696\" r=\"14\" fill=\"#ff0000\" fill-rule=\"evenodd\" fill-opacity=\"1\" stroke=\"#000000\" stroke-opacity=\"1\" stroke-width=\"3.2\"/>\n<circle clip-path=\"url(#clip412)\" cx=\"1011.34\" cy=\"238.836\" r=\"14\" fill=\"#ff0000\" fill-rule=\"evenodd\" fill-opacity=\"1\" stroke=\"#000000\" stroke-opacity=\"1\" stroke-width=\"3.2\"/>\n<circle clip-path=\"url(#clip412)\" cx=\"1116.62\" cy=\"87.9763\" r=\"14\" fill=\"#ff0000\" fill-rule=\"evenodd\" fill-opacity=\"1\" stroke=\"#000000\" stroke-opacity=\"1\" stroke-width=\"3.2\"/>\n<path clip-path=\"url(#clip410)\" d=\"\nM947.544 198.898 L1111.57 198.898 L1111.57 95.2176 L947.544 95.2176  Z\n  \" fill=\"#ffffff\" fill-rule=\"evenodd\" fill-opacity=\"1\"/>\n<polyline clip-path=\"url(#clip410)\" style=\"stroke:#000000; stroke-linecap:butt; stroke-linejoin:round; stroke-width:4; stroke-opacity:1; fill:none\" points=\"\n  947.544,198.898 1111.57,198.898 1111.57,95.2176 947.544,95.2176 947.544,198.898 \n  \"/>\n<circle clip-path=\"url(#clip410)\" cx=\"992.182\" cy=\"147.058\" r=\"23\" fill=\"#ff0000\" fill-rule=\"evenodd\" fill-opacity=\"1\" stroke=\"#000000\" stroke-opacity=\"1\" stroke-width=\"5.12\"/>\n<path clip-path=\"url(#clip410)\" d=\"M1050.66 166.745 Q1048.86 171.375 1047.14 172.787 Q1045.43 174.199 1042.56 174.199 L1039.16 174.199 L1039.16 170.634 L1041.66 170.634 Q1043.42 170.634 1044.39 169.8 Q1045.36 168.967 1046.54 165.865 L1047.31 163.921 L1036.82 138.412 L1041.33 138.412 L1049.44 158.689 L1057.54 138.412 L1062.05 138.412 L1050.66 166.745 Z\" fill=\"#000000\" fill-rule=\"evenodd\" fill-opacity=\"1\" /><path clip-path=\"url(#clip410)\" d=\"M1069.34 160.402 L1076.98 160.402 L1076.98 134.037 L1068.67 135.703 L1068.67 131.444 L1076.94 129.778 L1081.61 129.778 L1081.61 160.402 L1089.25 160.402 L1089.25 164.338 L1069.34 164.338 L1069.34 160.402 Z\" fill=\"#000000\" fill-rule=\"evenodd\" fill-opacity=\"1\" /><path clip-path=\"url(#clip410)\" d=\"\nM1348.4 1486.45 L2352.76 1486.45 L2352.76 47.2441 L1348.4 47.2441  Z\n  \" fill=\"#ffffff\" fill-rule=\"evenodd\" fill-opacity=\"1\"/>\n<defs>\n  <clipPath id=\"clip413\">\n    <rect x=\"1348\" y=\"47\" width=\"1005\" height=\"1440\"/>\n  </clipPath>\n</defs>\n<polyline clip-path=\"url(#clip413)\" style=\"stroke:#000000; stroke-linecap:butt; stroke-linejoin:round; stroke-width:2; stroke-opacity:0.1; fill:none\" points=\"\n  1482.11,1486.45 1482.11,47.2441 \n  \"/>\n<polyline clip-path=\"url(#clip413)\" style=\"stroke:#000000; stroke-linecap:butt; stroke-linejoin:round; stroke-width:2; stroke-opacity:0.1; fill:none\" points=\"\n  1692.66,1486.45 1692.66,47.2441 \n  \"/>\n<polyline clip-path=\"url(#clip413)\" style=\"stroke:#000000; stroke-linecap:butt; stroke-linejoin:round; stroke-width:2; stroke-opacity:0.1; fill:none\" points=\"\n  1903.22,1486.45 1903.22,47.2441 \n  \"/>\n<polyline clip-path=\"url(#clip413)\" style=\"stroke:#000000; stroke-linecap:butt; stroke-linejoin:round; stroke-width:2; stroke-opacity:0.1; fill:none\" points=\"\n  2113.77,1486.45 2113.77,47.2441 \n  \"/>\n<polyline clip-path=\"url(#clip413)\" style=\"stroke:#000000; stroke-linecap:butt; stroke-linejoin:round; stroke-width:2; stroke-opacity:0.1; fill:none\" points=\"\n  2324.33,1486.45 2324.33,47.2441 \n  \"/>\n<polyline clip-path=\"url(#clip410)\" style=\"stroke:#000000; stroke-linecap:butt; stroke-linejoin:round; stroke-width:4; stroke-opacity:1; fill:none\" points=\"\n  1348.4,1486.45 2352.76,1486.45 \n  \"/>\n<polyline clip-path=\"url(#clip410)\" style=\"stroke:#000000; stroke-linecap:butt; stroke-linejoin:round; stroke-width:4; stroke-opacity:1; fill:none\" points=\"\n  1482.11,1486.45 1482.11,1467.55 \n  \"/>\n<polyline clip-path=\"url(#clip410)\" style=\"stroke:#000000; stroke-linecap:butt; stroke-linejoin:round; stroke-width:4; stroke-opacity:1; fill:none\" points=\"\n  1692.66,1486.45 1692.66,1467.55 \n  \"/>\n<polyline clip-path=\"url(#clip410)\" style=\"stroke:#000000; stroke-linecap:butt; stroke-linejoin:round; stroke-width:4; stroke-opacity:1; fill:none\" points=\"\n  1903.22,1486.45 1903.22,1467.55 \n  \"/>\n<polyline clip-path=\"url(#clip410)\" style=\"stroke:#000000; stroke-linecap:butt; stroke-linejoin:round; stroke-width:4; stroke-opacity:1; fill:none\" points=\"\n  2113.77,1486.45 2113.77,1467.55 \n  \"/>\n<polyline clip-path=\"url(#clip410)\" style=\"stroke:#000000; stroke-linecap:butt; stroke-linejoin:round; stroke-width:4; stroke-opacity:1; fill:none\" points=\"\n  2324.33,1486.45 2324.33,1467.55 \n  \"/>\n<path clip-path=\"url(#clip410)\" d=\"M1476.76 1544.91 L1493.08 1544.91 L1493.08 1548.85 L1471.13 1548.85 L1471.13 1544.91 Q1473.8 1542.16 1478.38 1537.53 Q1482.99 1532.88 1484.17 1531.53 Q1486.41 1529.01 1487.29 1527.27 Q1488.19 1525.51 1488.19 1523.82 Q1488.19 1521.07 1486.25 1519.33 Q1484.33 1517.6 1481.23 1517.6 Q1479.03 1517.6 1476.57 1518.36 Q1474.14 1519.13 1471.37 1520.68 L1471.37 1515.95 Q1474.19 1514.82 1476.64 1514.24 Q1479.1 1513.66 1481.13 1513.66 Q1486.51 1513.66 1489.7 1516.35 Q1492.89 1519.03 1492.89 1523.52 Q1492.89 1525.65 1492.08 1527.57 Q1491.3 1529.47 1489.19 1532.07 Q1488.61 1532.74 1485.51 1535.95 Q1482.41 1539.15 1476.76 1544.91 Z\" fill=\"#000000\" fill-rule=\"evenodd\" fill-opacity=\"1\" /><path clip-path=\"url(#clip410)\" d=\"M1695.67 1518.36 L1683.87 1536.81 L1695.67 1536.81 L1695.67 1518.36 M1694.45 1514.29 L1700.32 1514.29 L1700.32 1536.81 L1705.26 1536.81 L1705.26 1540.7 L1700.32 1540.7 L1700.32 1548.85 L1695.67 1548.85 L1695.67 1540.7 L1680.07 1540.7 L1680.07 1536.19 L1694.45 1514.29 Z\" fill=\"#000000\" fill-rule=\"evenodd\" fill-opacity=\"1\" /><path clip-path=\"url(#clip410)\" d=\"M1903.62 1529.7 Q1900.48 1529.7 1898.62 1531.86 Q1896.8 1534.01 1896.8 1537.76 Q1896.8 1541.49 1898.62 1543.66 Q1900.48 1545.82 1903.62 1545.82 Q1906.77 1545.82 1908.6 1543.66 Q1910.45 1541.49 1910.45 1537.76 Q1910.45 1534.01 1908.6 1531.86 Q1906.77 1529.7 1903.62 1529.7 M1912.91 1515.05 L1912.91 1519.31 Q1911.15 1518.48 1909.34 1518.04 Q1907.56 1517.6 1905.8 1517.6 Q1901.17 1517.6 1898.72 1520.72 Q1896.29 1523.85 1895.94 1530.17 Q1897.3 1528.15 1899.36 1527.09 Q1901.42 1526 1903.9 1526 Q1909.11 1526 1912.12 1529.17 Q1915.15 1532.32 1915.15 1537.76 Q1915.15 1543.08 1912 1546.3 Q1908.86 1549.52 1903.62 1549.52 Q1897.63 1549.52 1894.46 1544.94 Q1891.29 1540.33 1891.29 1531.6 Q1891.29 1523.41 1895.17 1518.55 Q1899.06 1513.66 1905.61 1513.66 Q1907.37 1513.66 1909.16 1514.01 Q1910.96 1514.36 1912.91 1515.05 Z\" fill=\"#000000\" fill-rule=\"evenodd\" fill-opacity=\"1\" /><path clip-path=\"url(#clip410)\" d=\"M2113.77 1532.44 Q2110.44 1532.44 2108.52 1534.22 Q2106.62 1536 2106.62 1539.13 Q2106.62 1542.25 2108.52 1544.03 Q2110.44 1545.82 2113.77 1545.82 Q2117.11 1545.82 2119.03 1544.03 Q2120.95 1542.23 2120.95 1539.13 Q2120.95 1536 2119.03 1534.22 Q2117.13 1532.44 2113.77 1532.44 M2109.1 1530.45 Q2106.09 1529.7 2104.4 1527.64 Q2102.73 1525.58 2102.73 1522.62 Q2102.73 1518.48 2105.67 1516.07 Q2108.64 1513.66 2113.77 1513.66 Q2118.94 1513.66 2121.88 1516.07 Q2124.82 1518.48 2124.82 1522.62 Q2124.82 1525.58 2123.13 1527.64 Q2121.46 1529.7 2118.47 1530.45 Q2121.85 1531.23 2123.73 1533.52 Q2125.63 1535.82 2125.63 1539.13 Q2125.63 1544.15 2122.55 1546.83 Q2119.49 1549.52 2113.77 1549.52 Q2108.06 1549.52 2104.98 1546.83 Q2101.92 1544.15 2101.92 1539.13 Q2101.92 1535.82 2103.82 1533.52 Q2105.72 1531.23 2109.1 1530.45 M2107.39 1523.06 Q2107.39 1525.75 2109.05 1527.25 Q2110.74 1528.76 2113.77 1528.76 Q2116.78 1528.76 2118.47 1527.25 Q2120.19 1525.75 2120.19 1523.06 Q2120.19 1520.38 2118.47 1518.87 Q2116.78 1517.37 2113.77 1517.37 Q2110.74 1517.37 2109.05 1518.87 Q2107.39 1520.38 2107.39 1523.06 Z\" fill=\"#000000\" fill-rule=\"evenodd\" fill-opacity=\"1\" /><path clip-path=\"url(#clip410)\" d=\"M2299.02 1544.91 L2306.66 1544.91 L2306.66 1518.55 L2298.35 1520.21 L2298.35 1515.95 L2306.61 1514.29 L2311.29 1514.29 L2311.29 1544.91 L2318.93 1544.91 L2318.93 1548.85 L2299.02 1548.85 L2299.02 1544.91 Z\" fill=\"#000000\" fill-rule=\"evenodd\" fill-opacity=\"1\" /><path clip-path=\"url(#clip410)\" d=\"M2338.37 1517.37 Q2334.76 1517.37 2332.93 1520.93 Q2331.12 1524.47 2331.12 1531.6 Q2331.12 1538.71 2332.93 1542.27 Q2334.76 1545.82 2338.37 1545.82 Q2342 1545.82 2343.81 1542.27 Q2345.64 1538.71 2345.64 1531.6 Q2345.64 1524.47 2343.81 1520.93 Q2342 1517.37 2338.37 1517.37 M2338.37 1513.66 Q2344.18 1513.66 2347.24 1518.27 Q2350.31 1522.85 2350.31 1531.6 Q2350.31 1540.33 2347.24 1544.94 Q2344.18 1549.52 2338.37 1549.52 Q2332.56 1549.52 2329.48 1544.94 Q2326.43 1540.33 2326.43 1531.6 Q2326.43 1522.85 2329.48 1518.27 Q2332.56 1513.66 2338.37 1513.66 Z\" fill=\"#000000\" fill-rule=\"evenodd\" fill-opacity=\"1\" /><polyline clip-path=\"url(#clip413)\" style=\"stroke:#000000; stroke-linecap:butt; stroke-linejoin:round; stroke-width:2; stroke-opacity:0.1; fill:none\" points=\"\n  1348.4,1445.72 2352.76,1445.72 \n  \"/>\n<polyline clip-path=\"url(#clip413)\" style=\"stroke:#000000; stroke-linecap:butt; stroke-linejoin:round; stroke-width:2; stroke-opacity:0.1; fill:none\" points=\"\n  1348.4,1150.89 2352.76,1150.89 \n  \"/>\n<polyline clip-path=\"url(#clip413)\" style=\"stroke:#000000; stroke-linecap:butt; stroke-linejoin:round; stroke-width:2; stroke-opacity:0.1; fill:none\" points=\"\n  1348.4,856.057 2352.76,856.057 \n  \"/>\n<polyline clip-path=\"url(#clip413)\" style=\"stroke:#000000; stroke-linecap:butt; stroke-linejoin:round; stroke-width:2; stroke-opacity:0.1; fill:none\" points=\"\n  1348.4,561.228 2352.76,561.228 \n  \"/>\n<polyline clip-path=\"url(#clip413)\" style=\"stroke:#000000; stroke-linecap:butt; stroke-linejoin:round; stroke-width:2; stroke-opacity:0.1; fill:none\" points=\"\n  1348.4,266.398 2352.76,266.398 \n  \"/>\n<polyline clip-path=\"url(#clip410)\" style=\"stroke:#000000; stroke-linecap:butt; stroke-linejoin:round; stroke-width:4; stroke-opacity:1; fill:none\" points=\"\n  1348.4,1486.45 1348.4,47.2441 \n  \"/>\n<polyline clip-path=\"url(#clip410)\" style=\"stroke:#000000; stroke-linecap:butt; stroke-linejoin:round; stroke-width:4; stroke-opacity:1; fill:none\" points=\"\n  1348.4,1445.72 1367.3,1445.72 \n  \"/>\n<polyline clip-path=\"url(#clip410)\" style=\"stroke:#000000; stroke-linecap:butt; stroke-linejoin:round; stroke-width:4; stroke-opacity:1; fill:none\" points=\"\n  1348.4,1150.89 1367.3,1150.89 \n  \"/>\n<polyline clip-path=\"url(#clip410)\" style=\"stroke:#000000; stroke-linecap:butt; stroke-linejoin:round; stroke-width:4; stroke-opacity:1; fill:none\" points=\"\n  1348.4,856.057 1367.3,856.057 \n  \"/>\n<polyline clip-path=\"url(#clip410)\" style=\"stroke:#000000; stroke-linecap:butt; stroke-linejoin:round; stroke-width:4; stroke-opacity:1; fill:none\" points=\"\n  1348.4,561.228 1367.3,561.228 \n  \"/>\n<polyline clip-path=\"url(#clip410)\" style=\"stroke:#000000; stroke-linecap:butt; stroke-linejoin:round; stroke-width:4; stroke-opacity:1; fill:none\" points=\"\n  1348.4,266.398 1367.3,266.398 \n  \"/>\n<path clip-path=\"url(#clip410)\" d=\"M1255.23 1431.51 Q1251.62 1431.51 1249.79 1435.08 Q1247.98 1438.62 1247.98 1445.75 Q1247.98 1452.86 1249.79 1456.42 Q1251.62 1459.96 1255.23 1459.96 Q1258.86 1459.96 1260.67 1456.42 Q1262.5 1452.86 1262.5 1445.75 Q1262.5 1438.62 1260.67 1435.08 Q1258.86 1431.51 1255.23 1431.51 M1255.23 1427.81 Q1261.04 1427.81 1264.09 1432.42 Q1267.17 1437 1267.17 1445.75 Q1267.17 1454.48 1264.09 1459.08 Q1261.04 1463.67 1255.23 1463.67 Q1249.42 1463.67 1246.34 1459.08 Q1243.28 1454.48 1243.28 1445.75 Q1243.28 1437 1246.34 1432.42 Q1249.42 1427.81 1255.23 1427.81 Z\" fill=\"#000000\" fill-rule=\"evenodd\" fill-opacity=\"1\" /><path clip-path=\"url(#clip410)\" d=\"M1275.39 1457.12 L1280.27 1457.12 L1280.27 1463 L1275.39 1463 L1275.39 1457.12 Z\" fill=\"#000000\" fill-rule=\"evenodd\" fill-opacity=\"1\" /><path clip-path=\"url(#clip410)\" d=\"M1300.46 1431.51 Q1296.85 1431.51 1295.02 1435.08 Q1293.21 1438.62 1293.21 1445.75 Q1293.21 1452.86 1295.02 1456.42 Q1296.85 1459.96 1300.46 1459.96 Q1304.09 1459.96 1305.9 1456.42 Q1307.73 1452.86 1307.73 1445.75 Q1307.73 1438.62 1305.9 1435.08 Q1304.09 1431.51 1300.46 1431.51 M1300.46 1427.81 Q1306.27 1427.81 1309.33 1432.42 Q1312.4 1437 1312.4 1445.75 Q1312.4 1454.48 1309.33 1459.08 Q1306.27 1463.67 1300.46 1463.67 Q1294.65 1463.67 1291.57 1459.08 Q1288.52 1454.48 1288.52 1445.75 Q1288.52 1437 1291.57 1432.42 Q1294.65 1427.81 1300.46 1427.81 Z\" fill=\"#000000\" fill-rule=\"evenodd\" fill-opacity=\"1\" /><path clip-path=\"url(#clip410)\" d=\"M1256.22 1136.69 Q1252.61 1136.69 1250.78 1140.25 Q1248.98 1143.79 1248.98 1150.92 Q1248.98 1158.03 1250.78 1161.59 Q1252.61 1165.13 1256.22 1165.13 Q1259.86 1165.13 1261.66 1161.59 Q1263.49 1158.03 1263.49 1150.92 Q1263.49 1143.79 1261.66 1140.25 Q1259.86 1136.69 1256.22 1136.69 M1256.22 1132.98 Q1262.03 1132.98 1265.09 1137.59 Q1268.17 1142.17 1268.17 1150.92 Q1268.17 1159.65 1265.09 1164.25 Q1262.03 1168.84 1256.22 1168.84 Q1250.41 1168.84 1247.33 1164.25 Q1244.28 1159.65 1244.28 1150.92 Q1244.28 1142.17 1247.33 1137.59 Q1250.41 1132.98 1256.22 1132.98 Z\" fill=\"#000000\" fill-rule=\"evenodd\" fill-opacity=\"1\" /><path clip-path=\"url(#clip410)\" d=\"M1276.39 1162.29 L1281.27 1162.29 L1281.27 1168.17 L1276.39 1168.17 L1276.39 1162.29 Z\" fill=\"#000000\" fill-rule=\"evenodd\" fill-opacity=\"1\" /><path clip-path=\"url(#clip410)\" d=\"M1291.5 1133.61 L1309.86 1133.61 L1309.86 1137.54 L1295.78 1137.54 L1295.78 1146.01 Q1296.8 1145.67 1297.82 1145.5 Q1298.84 1145.32 1299.86 1145.32 Q1305.64 1145.32 1309.02 1148.49 Q1312.4 1151.66 1312.4 1157.08 Q1312.4 1162.66 1308.93 1165.76 Q1305.46 1168.84 1299.14 1168.84 Q1296.96 1168.84 1294.7 1168.47 Q1292.45 1168.1 1290.04 1167.36 L1290.04 1162.66 Q1292.13 1163.79 1294.35 1164.35 Q1296.57 1164.9 1299.05 1164.9 Q1303.05 1164.9 1305.39 1162.8 Q1307.73 1160.69 1307.73 1157.08 Q1307.73 1153.47 1305.39 1151.36 Q1303.05 1149.25 1299.05 1149.25 Q1297.17 1149.25 1295.3 1149.67 Q1293.45 1150.09 1291.5 1150.97 L1291.5 1133.61 Z\" fill=\"#000000\" fill-rule=\"evenodd\" fill-opacity=\"1\" /><path clip-path=\"url(#clip410)\" d=\"M1246.04 869.402 L1253.68 869.402 L1253.68 843.036 L1245.37 844.703 L1245.37 840.444 L1253.63 838.777 L1258.31 838.777 L1258.31 869.402 L1265.95 869.402 L1265.95 873.337 L1246.04 873.337 L1246.04 869.402 Z\" fill=\"#000000\" fill-rule=\"evenodd\" fill-opacity=\"1\" /><path clip-path=\"url(#clip410)\" d=\"M1275.39 867.457 L1280.27 867.457 L1280.27 873.337 L1275.39 873.337 L1275.39 867.457 Z\" fill=\"#000000\" fill-rule=\"evenodd\" fill-opacity=\"1\" /><path clip-path=\"url(#clip410)\" d=\"M1300.46 841.856 Q1296.85 841.856 1295.02 845.42 Q1293.21 848.962 1293.21 856.092 Q1293.21 863.198 1295.02 866.763 Q1296.85 870.305 1300.46 870.305 Q1304.09 870.305 1305.9 866.763 Q1307.73 863.198 1307.73 856.092 Q1307.73 848.962 1305.9 845.42 Q1304.09 841.856 1300.46 841.856 M1300.46 838.152 Q1306.27 838.152 1309.33 842.758 Q1312.4 847.342 1312.4 856.092 Q1312.4 864.818 1309.33 869.425 Q1306.27 874.008 1300.46 874.008 Q1294.65 874.008 1291.57 869.425 Q1288.52 864.818 1288.52 856.092 Q1288.52 847.342 1291.57 842.758 Q1294.65 838.152 1300.46 838.152 Z\" fill=\"#000000\" fill-rule=\"evenodd\" fill-opacity=\"1\" /><path clip-path=\"url(#clip410)\" d=\"M1247.03 574.572 L1254.67 574.572 L1254.67 548.207 L1246.36 549.873 L1246.36 545.614 L1254.63 543.948 L1259.3 543.948 L1259.3 574.572 L1266.94 574.572 L1266.94 578.508 L1247.03 578.508 L1247.03 574.572 Z\" fill=\"#000000\" fill-rule=\"evenodd\" fill-opacity=\"1\" /><path clip-path=\"url(#clip410)\" d=\"M1276.39 572.628 L1281.27 572.628 L1281.27 578.508 L1276.39 578.508 L1276.39 572.628 Z\" fill=\"#000000\" fill-rule=\"evenodd\" fill-opacity=\"1\" /><path clip-path=\"url(#clip410)\" d=\"M1291.5 543.948 L1309.86 543.948 L1309.86 547.883 L1295.78 547.883 L1295.78 556.355 Q1296.8 556.008 1297.82 555.846 Q1298.84 555.66 1299.86 555.66 Q1305.64 555.66 1309.02 558.832 Q1312.4 562.003 1312.4 567.42 Q1312.4 572.998 1308.93 576.1 Q1305.46 579.179 1299.14 579.179 Q1296.96 579.179 1294.7 578.809 Q1292.45 578.438 1290.04 577.697 L1290.04 572.998 Q1292.13 574.133 1294.35 574.688 Q1296.57 575.244 1299.05 575.244 Q1303.05 575.244 1305.39 573.137 Q1307.73 571.031 1307.73 567.42 Q1307.73 563.809 1305.39 561.702 Q1303.05 559.596 1299.05 559.596 Q1297.17 559.596 1295.3 560.012 Q1293.45 560.429 1291.5 561.309 L1291.5 543.948 Z\" fill=\"#000000\" fill-rule=\"evenodd\" fill-opacity=\"1\" /><path clip-path=\"url(#clip410)\" d=\"M1249.26 279.743 L1265.58 279.743 L1265.58 283.678 L1243.63 283.678 L1243.63 279.743 Q1246.29 276.988 1250.88 272.359 Q1255.48 267.706 1256.66 266.363 Q1258.91 263.84 1259.79 262.104 Q1260.69 260.345 1260.69 258.655 Q1260.69 255.901 1258.75 254.164 Q1256.83 252.428 1253.72 252.428 Q1251.52 252.428 1249.07 253.192 Q1246.64 253.956 1243.86 255.507 L1243.86 250.785 Q1246.69 249.651 1249.14 249.072 Q1251.59 248.493 1253.63 248.493 Q1259 248.493 1262.2 251.178 Q1265.39 253.864 1265.39 258.354 Q1265.39 260.484 1264.58 262.405 Q1263.79 264.303 1261.69 266.896 Q1261.11 267.567 1258.01 270.785 Q1254.9 273.979 1249.26 279.743 Z\" fill=\"#000000\" fill-rule=\"evenodd\" fill-opacity=\"1\" /><path clip-path=\"url(#clip410)\" d=\"M1275.39 277.799 L1280.27 277.799 L1280.27 283.678 L1275.39 283.678 L1275.39 277.799 Z\" fill=\"#000000\" fill-rule=\"evenodd\" fill-opacity=\"1\" /><path clip-path=\"url(#clip410)\" d=\"M1300.46 252.197 Q1296.85 252.197 1295.02 255.762 Q1293.21 259.303 1293.21 266.433 Q1293.21 273.539 1295.02 277.104 Q1296.85 280.646 1300.46 280.646 Q1304.09 280.646 1305.9 277.104 Q1307.73 273.539 1307.73 266.433 Q1307.73 259.303 1305.9 255.762 Q1304.09 252.197 1300.46 252.197 M1300.46 248.493 Q1306.27 248.493 1309.33 253.1 Q1312.4 257.683 1312.4 266.433 Q1312.4 275.16 1309.33 279.766 Q1306.27 284.35 1300.46 284.35 Q1294.65 284.35 1291.57 279.766 Q1288.52 275.16 1288.52 266.433 Q1288.52 257.683 1291.57 253.1 Q1294.65 248.493 1300.46 248.493 Z\" fill=\"#000000\" fill-rule=\"evenodd\" fill-opacity=\"1\" /><circle clip-path=\"url(#clip413)\" cx=\"1376.83\" cy=\"1445.72\" r=\"14\" fill=\"#0000ff\" fill-rule=\"evenodd\" fill-opacity=\"1\" stroke=\"#000000\" stroke-opacity=\"1\" stroke-width=\"3.2\"/>\n<circle clip-path=\"url(#clip413)\" cx=\"1482.11\" cy=\"1037\" r=\"14\" fill=\"#0000ff\" fill-rule=\"evenodd\" fill-opacity=\"1\" stroke=\"#000000\" stroke-opacity=\"1\" stroke-width=\"3.2\"/>\n<circle clip-path=\"url(#clip413)\" cx=\"1587.38\" cy=\"797.909\" r=\"14\" fill=\"#0000ff\" fill-rule=\"evenodd\" fill-opacity=\"1\" stroke=\"#000000\" stroke-opacity=\"1\" stroke-width=\"3.2\"/>\n<circle clip-path=\"url(#clip413)\" cx=\"1692.66\" cy=\"628.275\" r=\"14\" fill=\"#0000ff\" fill-rule=\"evenodd\" fill-opacity=\"1\" stroke=\"#000000\" stroke-opacity=\"1\" stroke-width=\"3.2\"/>\n<circle clip-path=\"url(#clip413)\" cx=\"1797.94\" cy=\"496.697\" r=\"14\" fill=\"#0000ff\" fill-rule=\"evenodd\" fill-opacity=\"1\" stroke=\"#000000\" stroke-opacity=\"1\" stroke-width=\"3.2\"/>\n<circle clip-path=\"url(#clip413)\" cx=\"1903.22\" cy=\"389.189\" r=\"14\" fill=\"#0000ff\" fill-rule=\"evenodd\" fill-opacity=\"1\" stroke=\"#000000\" stroke-opacity=\"1\" stroke-width=\"3.2\"/>\n<circle clip-path=\"url(#clip413)\" cx=\"2008.5\" cy=\"298.293\" r=\"14\" fill=\"#0000ff\" fill-rule=\"evenodd\" fill-opacity=\"1\" stroke=\"#000000\" stroke-opacity=\"1\" stroke-width=\"3.2\"/>\n<circle clip-path=\"url(#clip413)\" cx=\"2113.77\" cy=\"219.555\" r=\"14\" fill=\"#0000ff\" fill-rule=\"evenodd\" fill-opacity=\"1\" stroke=\"#000000\" stroke-opacity=\"1\" stroke-width=\"3.2\"/>\n<circle clip-path=\"url(#clip413)\" cx=\"2219.05\" cy=\"150.103\" r=\"14\" fill=\"#0000ff\" fill-rule=\"evenodd\" fill-opacity=\"1\" stroke=\"#000000\" stroke-opacity=\"1\" stroke-width=\"3.2\"/>\n<circle clip-path=\"url(#clip413)\" cx=\"2324.33\" cy=\"87.9763\" r=\"14\" fill=\"#0000ff\" fill-rule=\"evenodd\" fill-opacity=\"1\" stroke=\"#000000\" stroke-opacity=\"1\" stroke-width=\"3.2\"/>\n<path clip-path=\"url(#clip410)\" d=\"\nM2155.62 198.898 L2319.28 198.898 L2319.28 95.2176 L2155.62 95.2176  Z\n  \" fill=\"#ffffff\" fill-rule=\"evenodd\" fill-opacity=\"1\"/>\n<polyline clip-path=\"url(#clip410)\" style=\"stroke:#000000; stroke-linecap:butt; stroke-linejoin:round; stroke-width:4; stroke-opacity:1; fill:none\" points=\"\n  2155.62,198.898 2319.28,198.898 2319.28,95.2176 2155.62,95.2176 2155.62,198.898 \n  \"/>\n<circle clip-path=\"url(#clip410)\" cx=\"2200.26\" cy=\"147.058\" r=\"23\" fill=\"#0000ff\" fill-rule=\"evenodd\" fill-opacity=\"1\" stroke=\"#000000\" stroke-opacity=\"1\" stroke-width=\"5.12\"/>\n<path clip-path=\"url(#clip410)\" d=\"M2258.74 166.745 Q2256.94 171.375 2255.22 172.787 Q2253.51 174.199 2250.64 174.199 L2247.24 174.199 L2247.24 170.634 L2249.74 170.634 Q2251.5 170.634 2252.47 169.8 Q2253.44 168.967 2254.62 165.865 L2255.38 163.921 L2244.9 138.412 L2249.41 138.412 L2257.51 158.689 L2265.62 138.412 L2270.13 138.412 L2258.74 166.745 Z\" fill=\"#000000\" fill-rule=\"evenodd\" fill-opacity=\"1\" /><path clip-path=\"url(#clip410)\" d=\"M2280.64 160.402 L2296.96 160.402 L2296.96 164.338 L2275.01 164.338 L2275.01 160.402 Q2277.68 157.648 2282.26 153.018 Q2286.87 148.365 2288.05 147.023 Q2290.29 144.5 2291.17 142.764 Q2292.07 141.004 2292.07 139.315 Q2292.07 136.56 2290.13 134.824 Q2288.21 133.088 2285.11 133.088 Q2282.91 133.088 2280.45 133.852 Q2278.02 134.615 2275.25 136.166 L2275.25 131.444 Q2278.07 130.31 2280.52 129.731 Q2282.98 129.153 2285.01 129.153 Q2290.38 129.153 2293.58 131.838 Q2296.77 134.523 2296.77 139.014 Q2296.77 141.143 2295.96 143.065 Q2295.18 144.963 2293.07 147.555 Q2292.49 148.227 2289.39 151.444 Q2286.29 154.639 2280.64 160.402 Z\" fill=\"#000000\" fill-rule=\"evenodd\" fill-opacity=\"1\" /></svg>\n"
     },
     "execution_count": 38,
     "metadata": {},
     "output_type": "execute_result"
    }
   ],
   "source": [
    "# użycie opcji layout\n",
    "scatter(df.a, [df.b, df.c],  colour = [:red :blue ], layout=2)"
   ]
  },
  {
   "cell_type": "code",
   "execution_count": 39,
   "metadata": {},
   "outputs": [
    {
     "data": {
      "image/svg+xml": "<?xml version=\"1.0\" encoding=\"utf-8\"?>\n<svg xmlns=\"http://www.w3.org/2000/svg\" xmlns:xlink=\"http://www.w3.org/1999/xlink\" width=\"600\" height=\"400\" viewBox=\"0 0 2400 1600\">\n<defs>\n  <clipPath id=\"clip450\">\n    <rect x=\"0\" y=\"0\" width=\"2400\" height=\"1600\"/>\n  </clipPath>\n</defs>\n<path clip-path=\"url(#clip450)\" d=\"\nM0 1600 L2400 1600 L2400 0 L0 0  Z\n  \" fill=\"#ffffff\" fill-rule=\"evenodd\" fill-opacity=\"1\"/>\n<defs>\n  <clipPath id=\"clip451\">\n    <rect x=\"480\" y=\"0\" width=\"1681\" height=\"1600\"/>\n  </clipPath>\n</defs>\n<path clip-path=\"url(#clip450)\" d=\"\nM140.696 1486.45 L1145.05 1486.45 L1145.05 47.2441 L140.696 47.2441  Z\n  \" fill=\"#ffffff\" fill-rule=\"evenodd\" fill-opacity=\"1\"/>\n<defs>\n  <clipPath id=\"clip452\">\n    <rect x=\"140\" y=\"47\" width=\"1005\" height=\"1440\"/>\n  </clipPath>\n</defs>\n<polyline clip-path=\"url(#clip452)\" style=\"stroke:#000000; stroke-linecap:butt; stroke-linejoin:round; stroke-width:2; stroke-opacity:0.1; fill:none\" points=\"\n  274.399,1486.45 274.399,47.2441 \n  \"/>\n<polyline clip-path=\"url(#clip452)\" style=\"stroke:#000000; stroke-linecap:butt; stroke-linejoin:round; stroke-width:2; stroke-opacity:0.1; fill:none\" points=\"\n  484.955,1486.45 484.955,47.2441 \n  \"/>\n<polyline clip-path=\"url(#clip452)\" style=\"stroke:#000000; stroke-linecap:butt; stroke-linejoin:round; stroke-width:2; stroke-opacity:0.1; fill:none\" points=\"\n  695.511,1486.45 695.511,47.2441 \n  \"/>\n<polyline clip-path=\"url(#clip452)\" style=\"stroke:#000000; stroke-linecap:butt; stroke-linejoin:round; stroke-width:2; stroke-opacity:0.1; fill:none\" points=\"\n  906.067,1486.45 906.067,47.2441 \n  \"/>\n<polyline clip-path=\"url(#clip452)\" style=\"stroke:#000000; stroke-linecap:butt; stroke-linejoin:round; stroke-width:2; stroke-opacity:0.1; fill:none\" points=\"\n  1116.62,1486.45 1116.62,47.2441 \n  \"/>\n<polyline clip-path=\"url(#clip450)\" style=\"stroke:#000000; stroke-linecap:butt; stroke-linejoin:round; stroke-width:4; stroke-opacity:1; fill:none\" points=\"\n  140.696,1486.45 1145.05,1486.45 \n  \"/>\n<polyline clip-path=\"url(#clip450)\" style=\"stroke:#000000; stroke-linecap:butt; stroke-linejoin:round; stroke-width:4; stroke-opacity:1; fill:none\" points=\"\n  274.399,1486.45 274.399,1467.55 \n  \"/>\n<polyline clip-path=\"url(#clip450)\" style=\"stroke:#000000; stroke-linecap:butt; stroke-linejoin:round; stroke-width:4; stroke-opacity:1; fill:none\" points=\"\n  484.955,1486.45 484.955,1467.55 \n  \"/>\n<polyline clip-path=\"url(#clip450)\" style=\"stroke:#000000; stroke-linecap:butt; stroke-linejoin:round; stroke-width:4; stroke-opacity:1; fill:none\" points=\"\n  695.511,1486.45 695.511,1467.55 \n  \"/>\n<polyline clip-path=\"url(#clip450)\" style=\"stroke:#000000; stroke-linecap:butt; stroke-linejoin:round; stroke-width:4; stroke-opacity:1; fill:none\" points=\"\n  906.067,1486.45 906.067,1467.55 \n  \"/>\n<polyline clip-path=\"url(#clip450)\" style=\"stroke:#000000; stroke-linecap:butt; stroke-linejoin:round; stroke-width:4; stroke-opacity:1; fill:none\" points=\"\n  1116.62,1486.45 1116.62,1467.55 \n  \"/>\n<path clip-path=\"url(#clip450)\" d=\"M269.051 1544.91 L285.371 1544.91 L285.371 1548.85 L263.426 1548.85 L263.426 1544.91 Q266.088 1542.16 270.672 1537.53 Q275.278 1532.88 276.459 1531.53 Q278.704 1529.01 279.584 1527.27 Q280.487 1525.51 280.487 1523.82 Q280.487 1521.07 278.542 1519.33 Q276.621 1517.6 273.519 1517.6 Q271.32 1517.6 268.866 1518.36 Q266.436 1519.13 263.658 1520.68 L263.658 1515.95 Q266.482 1514.82 268.936 1514.24 Q271.389 1513.66 273.426 1513.66 Q278.797 1513.66 281.991 1516.35 Q285.186 1519.03 285.186 1523.52 Q285.186 1525.65 284.375 1527.57 Q283.588 1529.47 281.482 1532.07 Q280.903 1532.74 277.801 1535.95 Q274.7 1539.15 269.051 1544.91 Z\" fill=\"#000000\" fill-rule=\"evenodd\" fill-opacity=\"1\" /><path clip-path=\"url(#clip450)\" d=\"M487.964 1518.36 L476.158 1536.81 L487.964 1536.81 L487.964 1518.36 M486.737 1514.29 L492.617 1514.29 L492.617 1536.81 L497.547 1536.81 L497.547 1540.7 L492.617 1540.7 L492.617 1548.85 L487.964 1548.85 L487.964 1540.7 L472.362 1540.7 L472.362 1536.19 L486.737 1514.29 Z\" fill=\"#000000\" fill-rule=\"evenodd\" fill-opacity=\"1\" /><path clip-path=\"url(#clip450)\" d=\"M695.916 1529.7 Q692.768 1529.7 690.916 1531.86 Q689.087 1534.01 689.087 1537.76 Q689.087 1541.49 690.916 1543.66 Q692.768 1545.82 695.916 1545.82 Q699.064 1545.82 700.892 1543.66 Q702.744 1541.49 702.744 1537.76 Q702.744 1534.01 700.892 1531.86 Q699.064 1529.7 695.916 1529.7 M705.198 1515.05 L705.198 1519.31 Q703.439 1518.48 701.633 1518.04 Q699.851 1517.6 698.092 1517.6 Q693.462 1517.6 691.008 1520.72 Q688.578 1523.85 688.231 1530.17 Q689.596 1528.15 691.656 1527.09 Q693.717 1526 696.193 1526 Q701.402 1526 704.411 1529.17 Q707.443 1532.32 707.443 1537.76 Q707.443 1543.08 704.295 1546.3 Q701.147 1549.52 695.916 1549.52 Q689.92 1549.52 686.749 1544.94 Q683.578 1540.33 683.578 1531.6 Q683.578 1523.41 687.467 1518.55 Q691.356 1513.66 697.906 1513.66 Q699.666 1513.66 701.448 1514.01 Q703.254 1514.36 705.198 1515.05 Z\" fill=\"#000000\" fill-rule=\"evenodd\" fill-opacity=\"1\" /><path clip-path=\"url(#clip450)\" d=\"M906.067 1532.44 Q902.733 1532.44 900.812 1534.22 Q898.914 1536 898.914 1539.13 Q898.914 1542.25 900.812 1544.03 Q902.733 1545.82 906.067 1545.82 Q909.4 1545.82 911.321 1544.03 Q913.242 1542.23 913.242 1539.13 Q913.242 1536 911.321 1534.22 Q909.423 1532.44 906.067 1532.44 M901.391 1530.45 Q898.381 1529.7 896.692 1527.64 Q895.025 1525.58 895.025 1522.62 Q895.025 1518.48 897.965 1516.07 Q900.928 1513.66 906.067 1513.66 Q911.229 1513.66 914.168 1516.07 Q917.108 1518.48 917.108 1522.62 Q917.108 1525.58 915.418 1527.64 Q913.752 1529.7 910.766 1530.45 Q914.145 1531.23 916.02 1533.52 Q917.918 1535.82 917.918 1539.13 Q917.918 1544.15 914.84 1546.83 Q911.784 1549.52 906.067 1549.52 Q900.349 1549.52 897.27 1546.83 Q894.215 1544.15 894.215 1539.13 Q894.215 1535.82 896.113 1533.52 Q898.011 1531.23 901.391 1530.45 M899.678 1523.06 Q899.678 1525.75 901.344 1527.25 Q903.034 1528.76 906.067 1528.76 Q909.076 1528.76 910.766 1527.25 Q912.479 1525.75 912.479 1523.06 Q912.479 1520.38 910.766 1518.87 Q909.076 1517.37 906.067 1517.37 Q903.034 1517.37 901.344 1518.87 Q899.678 1520.38 899.678 1523.06 Z\" fill=\"#000000\" fill-rule=\"evenodd\" fill-opacity=\"1\" /><path clip-path=\"url(#clip450)\" d=\"M1091.31 1544.91 L1098.95 1544.91 L1098.95 1518.55 L1090.64 1520.21 L1090.64 1515.95 L1098.9 1514.29 L1103.58 1514.29 L1103.58 1544.91 L1111.22 1544.91 L1111.22 1548.85 L1091.31 1548.85 L1091.31 1544.91 Z\" fill=\"#000000\" fill-rule=\"evenodd\" fill-opacity=\"1\" /><path clip-path=\"url(#clip450)\" d=\"M1130.66 1517.37 Q1127.05 1517.37 1125.22 1520.93 Q1123.42 1524.47 1123.42 1531.6 Q1123.42 1538.71 1125.22 1542.27 Q1127.05 1545.82 1130.66 1545.82 Q1134.3 1545.82 1136.1 1542.27 Q1137.93 1538.71 1137.93 1531.6 Q1137.93 1524.47 1136.1 1520.93 Q1134.3 1517.37 1130.66 1517.37 M1130.66 1513.66 Q1136.47 1513.66 1139.53 1518.27 Q1142.61 1522.85 1142.61 1531.6 Q1142.61 1540.33 1139.53 1544.94 Q1136.47 1549.52 1130.66 1549.52 Q1124.85 1549.52 1121.77 1544.94 Q1118.72 1540.33 1118.72 1531.6 Q1118.72 1522.85 1121.77 1518.27 Q1124.85 1513.66 1130.66 1513.66 Z\" fill=\"#000000\" fill-rule=\"evenodd\" fill-opacity=\"1\" /><polyline clip-path=\"url(#clip452)\" style=\"stroke:#000000; stroke-linecap:butt; stroke-linejoin:round; stroke-width:2; stroke-opacity:0.1; fill:none\" points=\"\n  140.696,1219.43 1145.05,1219.43 \n  \"/>\n<polyline clip-path=\"url(#clip452)\" style=\"stroke:#000000; stroke-linecap:butt; stroke-linejoin:round; stroke-width:2; stroke-opacity:0.1; fill:none\" points=\"\n  140.696,842.276 1145.05,842.276 \n  \"/>\n<polyline clip-path=\"url(#clip452)\" style=\"stroke:#000000; stroke-linecap:butt; stroke-linejoin:round; stroke-width:2; stroke-opacity:0.1; fill:none\" points=\"\n  140.696,465.126 1145.05,465.126 \n  \"/>\n<polyline clip-path=\"url(#clip452)\" style=\"stroke:#000000; stroke-linecap:butt; stroke-linejoin:round; stroke-width:2; stroke-opacity:0.1; fill:none\" points=\"\n  140.696,87.9763 1145.05,87.9763 \n  \"/>\n<polyline clip-path=\"url(#clip450)\" style=\"stroke:#000000; stroke-linecap:butt; stroke-linejoin:round; stroke-width:4; stroke-opacity:1; fill:none\" points=\"\n  140.696,1486.45 140.696,47.2441 \n  \"/>\n<polyline clip-path=\"url(#clip450)\" style=\"stroke:#000000; stroke-linecap:butt; stroke-linejoin:round; stroke-width:4; stroke-opacity:1; fill:none\" points=\"\n  140.696,1219.43 159.593,1219.43 \n  \"/>\n<polyline clip-path=\"url(#clip450)\" style=\"stroke:#000000; stroke-linecap:butt; stroke-linejoin:round; stroke-width:4; stroke-opacity:1; fill:none\" points=\"\n  140.696,842.276 159.593,842.276 \n  \"/>\n<polyline clip-path=\"url(#clip450)\" style=\"stroke:#000000; stroke-linecap:butt; stroke-linejoin:round; stroke-width:4; stroke-opacity:1; fill:none\" points=\"\n  140.696,465.126 159.593,465.126 \n  \"/>\n<polyline clip-path=\"url(#clip450)\" style=\"stroke:#000000; stroke-linecap:butt; stroke-linejoin:round; stroke-width:4; stroke-opacity:1; fill:none\" points=\"\n  140.696,87.9763 159.593,87.9763 \n  \"/>\n<path clip-path=\"url(#clip450)\" d=\"M83.7929 1202.15 L102.149 1202.15 L102.149 1206.08 L88.0753 1206.08 L88.0753 1214.55 Q89.0938 1214.21 90.1123 1214.04 Q91.1308 1213.86 92.1493 1213.86 Q97.9363 1213.86 101.316 1217.03 Q104.696 1220.2 104.696 1225.62 Q104.696 1231.2 101.223 1234.3 Q97.7511 1237.38 91.4317 1237.38 Q89.2558 1237.38 86.9873 1237.01 Q84.7419 1236.64 82.3346 1235.9 L82.3346 1231.2 Q84.4179 1232.33 86.6401 1232.89 Q88.8623 1233.44 91.3391 1233.44 Q95.3437 1233.44 97.6817 1231.34 Q100.02 1229.23 100.02 1225.62 Q100.02 1222.01 97.6817 1219.9 Q95.3437 1217.79 91.3391 1217.79 Q89.4641 1217.79 87.5892 1218.21 Q85.7373 1218.63 83.7929 1219.51 L83.7929 1202.15 Z\" fill=\"#000000\" fill-rule=\"evenodd\" fill-opacity=\"1\" /><path clip-path=\"url(#clip450)\" d=\"M53.3995 855.621 L61.0384 855.621 L61.0384 829.255 L52.7282 830.922 L52.7282 826.663 L60.9921 824.996 L65.668 824.996 L65.668 855.621 L73.3068 855.621 L73.3068 859.556 L53.3995 859.556 L53.3995 855.621 Z\" fill=\"#000000\" fill-rule=\"evenodd\" fill-opacity=\"1\" /><path clip-path=\"url(#clip450)\" d=\"M92.7512 828.075 Q89.1401 828.075 87.3114 831.639 Q85.5058 835.181 85.5058 842.311 Q85.5058 849.417 87.3114 852.982 Q89.1401 856.524 92.7512 856.524 Q96.3854 856.524 98.1909 852.982 Q100.02 849.417 100.02 842.311 Q100.02 835.181 98.1909 831.639 Q96.3854 828.075 92.7512 828.075 M92.7512 824.371 Q98.5613 824.371 101.617 828.977 Q104.696 833.561 104.696 842.311 Q104.696 851.037 101.617 855.644 Q98.5613 860.227 92.7512 860.227 Q86.941 860.227 83.8623 855.644 Q80.8068 851.037 80.8068 842.311 Q80.8068 833.561 83.8623 828.977 Q86.941 824.371 92.7512 824.371 Z\" fill=\"#000000\" fill-rule=\"evenodd\" fill-opacity=\"1\" /><path clip-path=\"url(#clip450)\" d=\"M54.3949 478.471 L62.0337 478.471 L62.0337 452.105 L53.7236 453.772 L53.7236 449.513 L61.9874 447.846 L66.6633 447.846 L66.6633 478.471 L74.3022 478.471 L74.3022 482.406 L54.3949 482.406 L54.3949 478.471 Z\" fill=\"#000000\" fill-rule=\"evenodd\" fill-opacity=\"1\" /><path clip-path=\"url(#clip450)\" d=\"M83.7929 447.846 L102.149 447.846 L102.149 451.781 L88.0753 451.781 L88.0753 460.253 Q89.0938 459.906 90.1123 459.744 Q91.1308 459.559 92.1493 459.559 Q97.9363 459.559 101.316 462.73 Q104.696 465.902 104.696 471.318 Q104.696 476.897 101.223 479.999 Q97.7511 483.077 91.4317 483.077 Q89.2558 483.077 86.9873 482.707 Q84.7419 482.337 82.3346 481.596 L82.3346 476.897 Q84.4179 478.031 86.6401 478.587 Q88.8623 479.142 91.3391 479.142 Q95.3437 479.142 97.6817 477.036 Q100.02 474.929 100.02 471.318 Q100.02 467.707 97.6817 465.601 Q95.3437 463.494 91.3391 463.494 Q89.4641 463.494 87.5892 463.911 Q85.7373 464.328 83.7929 465.207 L83.7929 447.846 Z\" fill=\"#000000\" fill-rule=\"evenodd\" fill-opacity=\"1\" /><path clip-path=\"url(#clip450)\" d=\"M56.6171 101.321 L72.9365 101.321 L72.9365 105.256 L50.9921 105.256 L50.9921 101.321 Q53.6541 98.5665 58.2375 93.9369 Q62.8439 89.2841 64.0245 87.9416 Q66.2698 85.4184 67.1494 83.6823 Q68.0522 81.9231 68.0522 80.2333 Q68.0522 77.4786 66.1078 75.7425 Q64.1865 74.0064 61.0847 74.0064 Q58.8856 74.0064 56.4319 74.7703 Q54.0014 75.5342 51.2236 77.0851 L51.2236 72.3629 Q54.0477 71.2287 56.5014 70.65 Q58.955 70.0713 60.9921 70.0713 Q66.3624 70.0713 69.5568 72.7565 Q72.7513 75.4416 72.7513 79.9323 Q72.7513 82.062 71.9411 83.9832 Q71.1541 85.8814 69.0476 88.474 Q68.4689 89.1453 65.367 92.3628 Q62.2652 95.5573 56.6171 101.321 Z\" fill=\"#000000\" fill-rule=\"evenodd\" fill-opacity=\"1\" /><path clip-path=\"url(#clip450)\" d=\"M92.7512 73.775 Q89.1401 73.775 87.3114 77.3398 Q85.5058 80.8814 85.5058 88.011 Q85.5058 95.1174 87.3114 98.6822 Q89.1401 102.224 92.7512 102.224 Q96.3854 102.224 98.1909 98.6822 Q100.02 95.1174 100.02 88.011 Q100.02 80.8814 98.1909 77.3398 Q96.3854 73.775 92.7512 73.775 M92.7512 70.0713 Q98.5613 70.0713 101.617 74.6777 Q104.696 79.261 104.696 88.011 Q104.696 96.7378 101.617 101.344 Q98.5613 105.928 92.7512 105.928 Q86.941 105.928 83.8623 101.344 Q80.8068 96.7378 80.8068 88.011 Q80.8068 79.261 83.8623 74.6777 Q86.941 70.0713 92.7512 70.0713 Z\" fill=\"#000000\" fill-rule=\"evenodd\" fill-opacity=\"1\" /><circle clip-path=\"url(#clip452)\" cx=\"274.399\" cy=\"1294.86\" r=\"14\" fill=\"#ff0000\" fill-rule=\"evenodd\" fill-opacity=\"1\" stroke=\"#000000\" stroke-opacity=\"1\" stroke-width=\"3.2\"/>\n<circle clip-path=\"url(#clip452)\" cx=\"484.955\" cy=\"993.136\" r=\"14\" fill=\"#ff0000\" fill-rule=\"evenodd\" fill-opacity=\"1\" stroke=\"#000000\" stroke-opacity=\"1\" stroke-width=\"3.2\"/>\n<circle clip-path=\"url(#clip452)\" cx=\"695.511\" cy=\"691.416\" r=\"14\" fill=\"#ff0000\" fill-rule=\"evenodd\" fill-opacity=\"1\" stroke=\"#000000\" stroke-opacity=\"1\" stroke-width=\"3.2\"/>\n<circle clip-path=\"url(#clip452)\" cx=\"906.067\" cy=\"389.696\" r=\"14\" fill=\"#ff0000\" fill-rule=\"evenodd\" fill-opacity=\"1\" stroke=\"#000000\" stroke-opacity=\"1\" stroke-width=\"3.2\"/>\n<circle clip-path=\"url(#clip452)\" cx=\"1116.62\" cy=\"87.9763\" r=\"14\" fill=\"#ff0000\" fill-rule=\"evenodd\" fill-opacity=\"1\" stroke=\"#000000\" stroke-opacity=\"1\" stroke-width=\"3.2\"/>\n<circle clip-path=\"url(#clip452)\" cx=\"169.121\" cy=\"1445.72\" r=\"14\" fill=\"#008000\" fill-rule=\"evenodd\" fill-opacity=\"1\" stroke=\"#000000\" stroke-opacity=\"1\" stroke-width=\"3.2\"/>\n<circle clip-path=\"url(#clip452)\" cx=\"379.677\" cy=\"1144\" r=\"14\" fill=\"#008000\" fill-rule=\"evenodd\" fill-opacity=\"1\" stroke=\"#000000\" stroke-opacity=\"1\" stroke-width=\"3.2\"/>\n<circle clip-path=\"url(#clip452)\" cx=\"590.233\" cy=\"842.276\" r=\"14\" fill=\"#008000\" fill-rule=\"evenodd\" fill-opacity=\"1\" stroke=\"#000000\" stroke-opacity=\"1\" stroke-width=\"3.2\"/>\n<circle clip-path=\"url(#clip452)\" cx=\"800.789\" cy=\"540.556\" r=\"14\" fill=\"#008000\" fill-rule=\"evenodd\" fill-opacity=\"1\" stroke=\"#000000\" stroke-opacity=\"1\" stroke-width=\"3.2\"/>\n<circle clip-path=\"url(#clip452)\" cx=\"1011.34\" cy=\"238.836\" r=\"14\" fill=\"#008000\" fill-rule=\"evenodd\" fill-opacity=\"1\" stroke=\"#000000\" stroke-opacity=\"1\" stroke-width=\"3.2\"/>\n<path clip-path=\"url(#clip450)\" d=\"\nM976.086 250.738 L1111.57 250.738 L1111.57 95.2176 L976.086 95.2176  Z\n  \" fill=\"#ffffff\" fill-rule=\"evenodd\" fill-opacity=\"1\"/>\n<polyline clip-path=\"url(#clip450)\" style=\"stroke:#000000; stroke-linecap:butt; stroke-linejoin:round; stroke-width:4; stroke-opacity:1; fill:none\" points=\"\n  976.086,250.738 1111.57,250.738 1111.57,95.2176 976.086,95.2176 976.086,250.738 \n  \"/>\n<circle clip-path=\"url(#clip450)\" cx=\"1020.72\" cy=\"147.058\" r=\"23\" fill=\"#ff0000\" fill-rule=\"evenodd\" fill-opacity=\"1\" stroke=\"#000000\" stroke-opacity=\"1\" stroke-width=\"5.12\"/>\n<path clip-path=\"url(#clip450)\" d=\"M1077.31 132.856 Q1073.69 132.856 1071.87 136.421 Q1070.06 139.963 1070.06 147.092 Q1070.06 154.199 1071.87 157.764 Q1073.69 161.305 1077.31 161.305 Q1080.94 161.305 1082.75 157.764 Q1084.57 154.199 1084.57 147.092 Q1084.57 139.963 1082.75 136.421 Q1080.94 132.856 1077.31 132.856 M1077.31 129.153 Q1083.12 129.153 1086.17 133.759 Q1089.25 138.342 1089.25 147.092 Q1089.25 155.819 1086.17 160.426 Q1083.12 165.009 1077.31 165.009 Q1071.5 165.009 1068.42 160.426 Q1065.36 155.819 1065.36 147.092 Q1065.36 138.342 1068.42 133.759 Q1071.5 129.153 1077.31 129.153 Z\" fill=\"#000000\" fill-rule=\"evenodd\" fill-opacity=\"1\" /><circle clip-path=\"url(#clip450)\" cx=\"1020.72\" cy=\"198.898\" r=\"23\" fill=\"#008000\" fill-rule=\"evenodd\" fill-opacity=\"1\" stroke=\"#000000\" stroke-opacity=\"1\" stroke-width=\"5.12\"/>\n<path clip-path=\"url(#clip450)\" d=\"M1066.03 212.242 L1073.67 212.242 L1073.67 185.877 L1065.36 187.543 L1065.36 183.284 L1073.63 181.618 L1078.3 181.618 L1078.3 212.242 L1085.94 212.242 L1085.94 216.178 L1066.03 216.178 L1066.03 212.242 Z\" fill=\"#000000\" fill-rule=\"evenodd\" fill-opacity=\"1\" /><path clip-path=\"url(#clip450)\" d=\"\nM1348.4 1486.45 L2352.76 1486.45 L2352.76 47.2441 L1348.4 47.2441  Z\n  \" fill=\"#ffffff\" fill-rule=\"evenodd\" fill-opacity=\"1\"/>\n<defs>\n  <clipPath id=\"clip453\">\n    <rect x=\"1348\" y=\"47\" width=\"1005\" height=\"1440\"/>\n  </clipPath>\n</defs>\n<polyline clip-path=\"url(#clip453)\" style=\"stroke:#000000; stroke-linecap:butt; stroke-linejoin:round; stroke-width:2; stroke-opacity:0.1; fill:none\" points=\"\n  1482.11,1486.45 1482.11,47.2441 \n  \"/>\n<polyline clip-path=\"url(#clip453)\" style=\"stroke:#000000; stroke-linecap:butt; stroke-linejoin:round; stroke-width:2; stroke-opacity:0.1; fill:none\" points=\"\n  1692.66,1486.45 1692.66,47.2441 \n  \"/>\n<polyline clip-path=\"url(#clip453)\" style=\"stroke:#000000; stroke-linecap:butt; stroke-linejoin:round; stroke-width:2; stroke-opacity:0.1; fill:none\" points=\"\n  1903.22,1486.45 1903.22,47.2441 \n  \"/>\n<polyline clip-path=\"url(#clip453)\" style=\"stroke:#000000; stroke-linecap:butt; stroke-linejoin:round; stroke-width:2; stroke-opacity:0.1; fill:none\" points=\"\n  2113.77,1486.45 2113.77,47.2441 \n  \"/>\n<polyline clip-path=\"url(#clip453)\" style=\"stroke:#000000; stroke-linecap:butt; stroke-linejoin:round; stroke-width:2; stroke-opacity:0.1; fill:none\" points=\"\n  2324.33,1486.45 2324.33,47.2441 \n  \"/>\n<polyline clip-path=\"url(#clip450)\" style=\"stroke:#000000; stroke-linecap:butt; stroke-linejoin:round; stroke-width:4; stroke-opacity:1; fill:none\" points=\"\n  1348.4,1486.45 2352.76,1486.45 \n  \"/>\n<polyline clip-path=\"url(#clip450)\" style=\"stroke:#000000; stroke-linecap:butt; stroke-linejoin:round; stroke-width:4; stroke-opacity:1; fill:none\" points=\"\n  1482.11,1486.45 1482.11,1467.55 \n  \"/>\n<polyline clip-path=\"url(#clip450)\" style=\"stroke:#000000; stroke-linecap:butt; stroke-linejoin:round; stroke-width:4; stroke-opacity:1; fill:none\" points=\"\n  1692.66,1486.45 1692.66,1467.55 \n  \"/>\n<polyline clip-path=\"url(#clip450)\" style=\"stroke:#000000; stroke-linecap:butt; stroke-linejoin:round; stroke-width:4; stroke-opacity:1; fill:none\" points=\"\n  1903.22,1486.45 1903.22,1467.55 \n  \"/>\n<polyline clip-path=\"url(#clip450)\" style=\"stroke:#000000; stroke-linecap:butt; stroke-linejoin:round; stroke-width:4; stroke-opacity:1; fill:none\" points=\"\n  2113.77,1486.45 2113.77,1467.55 \n  \"/>\n<polyline clip-path=\"url(#clip450)\" style=\"stroke:#000000; stroke-linecap:butt; stroke-linejoin:round; stroke-width:4; stroke-opacity:1; fill:none\" points=\"\n  2324.33,1486.45 2324.33,1467.55 \n  \"/>\n<path clip-path=\"url(#clip450)\" d=\"M1476.76 1544.91 L1493.08 1544.91 L1493.08 1548.85 L1471.13 1548.85 L1471.13 1544.91 Q1473.8 1542.16 1478.38 1537.53 Q1482.99 1532.88 1484.17 1531.53 Q1486.41 1529.01 1487.29 1527.27 Q1488.19 1525.51 1488.19 1523.82 Q1488.19 1521.07 1486.25 1519.33 Q1484.33 1517.6 1481.23 1517.6 Q1479.03 1517.6 1476.57 1518.36 Q1474.14 1519.13 1471.37 1520.68 L1471.37 1515.95 Q1474.19 1514.82 1476.64 1514.24 Q1479.1 1513.66 1481.13 1513.66 Q1486.51 1513.66 1489.7 1516.35 Q1492.89 1519.03 1492.89 1523.52 Q1492.89 1525.65 1492.08 1527.57 Q1491.3 1529.47 1489.19 1532.07 Q1488.61 1532.74 1485.51 1535.95 Q1482.41 1539.15 1476.76 1544.91 Z\" fill=\"#000000\" fill-rule=\"evenodd\" fill-opacity=\"1\" /><path clip-path=\"url(#clip450)\" d=\"M1695.67 1518.36 L1683.87 1536.81 L1695.67 1536.81 L1695.67 1518.36 M1694.45 1514.29 L1700.32 1514.29 L1700.32 1536.81 L1705.26 1536.81 L1705.26 1540.7 L1700.32 1540.7 L1700.32 1548.85 L1695.67 1548.85 L1695.67 1540.7 L1680.07 1540.7 L1680.07 1536.19 L1694.45 1514.29 Z\" fill=\"#000000\" fill-rule=\"evenodd\" fill-opacity=\"1\" /><path clip-path=\"url(#clip450)\" d=\"M1903.62 1529.7 Q1900.48 1529.7 1898.62 1531.86 Q1896.8 1534.01 1896.8 1537.76 Q1896.8 1541.49 1898.62 1543.66 Q1900.48 1545.82 1903.62 1545.82 Q1906.77 1545.82 1908.6 1543.66 Q1910.45 1541.49 1910.45 1537.76 Q1910.45 1534.01 1908.6 1531.86 Q1906.77 1529.7 1903.62 1529.7 M1912.91 1515.05 L1912.91 1519.31 Q1911.15 1518.48 1909.34 1518.04 Q1907.56 1517.6 1905.8 1517.6 Q1901.17 1517.6 1898.72 1520.72 Q1896.29 1523.85 1895.94 1530.17 Q1897.3 1528.15 1899.36 1527.09 Q1901.42 1526 1903.9 1526 Q1909.11 1526 1912.12 1529.17 Q1915.15 1532.32 1915.15 1537.76 Q1915.15 1543.08 1912 1546.3 Q1908.86 1549.52 1903.62 1549.52 Q1897.63 1549.52 1894.46 1544.94 Q1891.29 1540.33 1891.29 1531.6 Q1891.29 1523.41 1895.17 1518.55 Q1899.06 1513.66 1905.61 1513.66 Q1907.37 1513.66 1909.16 1514.01 Q1910.96 1514.36 1912.91 1515.05 Z\" fill=\"#000000\" fill-rule=\"evenodd\" fill-opacity=\"1\" /><path clip-path=\"url(#clip450)\" d=\"M2113.77 1532.44 Q2110.44 1532.44 2108.52 1534.22 Q2106.62 1536 2106.62 1539.13 Q2106.62 1542.25 2108.52 1544.03 Q2110.44 1545.82 2113.77 1545.82 Q2117.11 1545.82 2119.03 1544.03 Q2120.95 1542.23 2120.95 1539.13 Q2120.95 1536 2119.03 1534.22 Q2117.13 1532.44 2113.77 1532.44 M2109.1 1530.45 Q2106.09 1529.7 2104.4 1527.64 Q2102.73 1525.58 2102.73 1522.62 Q2102.73 1518.48 2105.67 1516.07 Q2108.64 1513.66 2113.77 1513.66 Q2118.94 1513.66 2121.88 1516.07 Q2124.82 1518.48 2124.82 1522.62 Q2124.82 1525.58 2123.13 1527.64 Q2121.46 1529.7 2118.47 1530.45 Q2121.85 1531.23 2123.73 1533.52 Q2125.63 1535.82 2125.63 1539.13 Q2125.63 1544.15 2122.55 1546.83 Q2119.49 1549.52 2113.77 1549.52 Q2108.06 1549.52 2104.98 1546.83 Q2101.92 1544.15 2101.92 1539.13 Q2101.92 1535.82 2103.82 1533.52 Q2105.72 1531.23 2109.1 1530.45 M2107.39 1523.06 Q2107.39 1525.75 2109.05 1527.25 Q2110.74 1528.76 2113.77 1528.76 Q2116.78 1528.76 2118.47 1527.25 Q2120.19 1525.75 2120.19 1523.06 Q2120.19 1520.38 2118.47 1518.87 Q2116.78 1517.37 2113.77 1517.37 Q2110.74 1517.37 2109.05 1518.87 Q2107.39 1520.38 2107.39 1523.06 Z\" fill=\"#000000\" fill-rule=\"evenodd\" fill-opacity=\"1\" /><path clip-path=\"url(#clip450)\" d=\"M2299.02 1544.91 L2306.66 1544.91 L2306.66 1518.55 L2298.35 1520.21 L2298.35 1515.95 L2306.61 1514.29 L2311.29 1514.29 L2311.29 1544.91 L2318.93 1544.91 L2318.93 1548.85 L2299.02 1548.85 L2299.02 1544.91 Z\" fill=\"#000000\" fill-rule=\"evenodd\" fill-opacity=\"1\" /><path clip-path=\"url(#clip450)\" d=\"M2338.37 1517.37 Q2334.76 1517.37 2332.93 1520.93 Q2331.12 1524.47 2331.12 1531.6 Q2331.12 1538.71 2332.93 1542.27 Q2334.76 1545.82 2338.37 1545.82 Q2342 1545.82 2343.81 1542.27 Q2345.64 1538.71 2345.64 1531.6 Q2345.64 1524.47 2343.81 1520.93 Q2342 1517.37 2338.37 1517.37 M2338.37 1513.66 Q2344.18 1513.66 2347.24 1518.27 Q2350.31 1522.85 2350.31 1531.6 Q2350.31 1540.33 2347.24 1544.94 Q2344.18 1549.52 2338.37 1549.52 Q2332.56 1549.52 2329.48 1544.94 Q2326.43 1540.33 2326.43 1531.6 Q2326.43 1522.85 2329.48 1518.27 Q2332.56 1513.66 2338.37 1513.66 Z\" fill=\"#000000\" fill-rule=\"evenodd\" fill-opacity=\"1\" /><polyline clip-path=\"url(#clip453)\" style=\"stroke:#000000; stroke-linecap:butt; stroke-linejoin:round; stroke-width:2; stroke-opacity:0.1; fill:none\" points=\"\n  1348.4,1445.72 2352.76,1445.72 \n  \"/>\n<polyline clip-path=\"url(#clip453)\" style=\"stroke:#000000; stroke-linecap:butt; stroke-linejoin:round; stroke-width:2; stroke-opacity:0.1; fill:none\" points=\"\n  1348.4,1150.89 2352.76,1150.89 \n  \"/>\n<polyline clip-path=\"url(#clip453)\" style=\"stroke:#000000; stroke-linecap:butt; stroke-linejoin:round; stroke-width:2; stroke-opacity:0.1; fill:none\" points=\"\n  1348.4,856.057 2352.76,856.057 \n  \"/>\n<polyline clip-path=\"url(#clip453)\" style=\"stroke:#000000; stroke-linecap:butt; stroke-linejoin:round; stroke-width:2; stroke-opacity:0.1; fill:none\" points=\"\n  1348.4,561.228 2352.76,561.228 \n  \"/>\n<polyline clip-path=\"url(#clip453)\" style=\"stroke:#000000; stroke-linecap:butt; stroke-linejoin:round; stroke-width:2; stroke-opacity:0.1; fill:none\" points=\"\n  1348.4,266.398 2352.76,266.398 \n  \"/>\n<polyline clip-path=\"url(#clip450)\" style=\"stroke:#000000; stroke-linecap:butt; stroke-linejoin:round; stroke-width:4; stroke-opacity:1; fill:none\" points=\"\n  1348.4,1486.45 1348.4,47.2441 \n  \"/>\n<polyline clip-path=\"url(#clip450)\" style=\"stroke:#000000; stroke-linecap:butt; stroke-linejoin:round; stroke-width:4; stroke-opacity:1; fill:none\" points=\"\n  1348.4,1445.72 1367.3,1445.72 \n  \"/>\n<polyline clip-path=\"url(#clip450)\" style=\"stroke:#000000; stroke-linecap:butt; stroke-linejoin:round; stroke-width:4; stroke-opacity:1; fill:none\" points=\"\n  1348.4,1150.89 1367.3,1150.89 \n  \"/>\n<polyline clip-path=\"url(#clip450)\" style=\"stroke:#000000; stroke-linecap:butt; stroke-linejoin:round; stroke-width:4; stroke-opacity:1; fill:none\" points=\"\n  1348.4,856.057 1367.3,856.057 \n  \"/>\n<polyline clip-path=\"url(#clip450)\" style=\"stroke:#000000; stroke-linecap:butt; stroke-linejoin:round; stroke-width:4; stroke-opacity:1; fill:none\" points=\"\n  1348.4,561.228 1367.3,561.228 \n  \"/>\n<polyline clip-path=\"url(#clip450)\" style=\"stroke:#000000; stroke-linecap:butt; stroke-linejoin:round; stroke-width:4; stroke-opacity:1; fill:none\" points=\"\n  1348.4,266.398 1367.3,266.398 \n  \"/>\n<path clip-path=\"url(#clip450)\" d=\"M1255.23 1431.51 Q1251.62 1431.51 1249.79 1435.08 Q1247.98 1438.62 1247.98 1445.75 Q1247.98 1452.86 1249.79 1456.42 Q1251.62 1459.96 1255.23 1459.96 Q1258.86 1459.96 1260.67 1456.42 Q1262.5 1452.86 1262.5 1445.75 Q1262.5 1438.62 1260.67 1435.08 Q1258.86 1431.51 1255.23 1431.51 M1255.23 1427.81 Q1261.04 1427.81 1264.09 1432.42 Q1267.17 1437 1267.17 1445.75 Q1267.17 1454.48 1264.09 1459.08 Q1261.04 1463.67 1255.23 1463.67 Q1249.42 1463.67 1246.34 1459.08 Q1243.28 1454.48 1243.28 1445.75 Q1243.28 1437 1246.34 1432.42 Q1249.42 1427.81 1255.23 1427.81 Z\" fill=\"#000000\" fill-rule=\"evenodd\" fill-opacity=\"1\" /><path clip-path=\"url(#clip450)\" d=\"M1275.39 1457.12 L1280.27 1457.12 L1280.27 1463 L1275.39 1463 L1275.39 1457.12 Z\" fill=\"#000000\" fill-rule=\"evenodd\" fill-opacity=\"1\" /><path clip-path=\"url(#clip450)\" d=\"M1300.46 1431.51 Q1296.85 1431.51 1295.02 1435.08 Q1293.21 1438.62 1293.21 1445.75 Q1293.21 1452.86 1295.02 1456.42 Q1296.85 1459.96 1300.46 1459.96 Q1304.09 1459.96 1305.9 1456.42 Q1307.73 1452.86 1307.73 1445.75 Q1307.73 1438.62 1305.9 1435.08 Q1304.09 1431.51 1300.46 1431.51 M1300.46 1427.81 Q1306.27 1427.81 1309.33 1432.42 Q1312.4 1437 1312.4 1445.75 Q1312.4 1454.48 1309.33 1459.08 Q1306.27 1463.67 1300.46 1463.67 Q1294.65 1463.67 1291.57 1459.08 Q1288.52 1454.48 1288.52 1445.75 Q1288.52 1437 1291.57 1432.42 Q1294.65 1427.81 1300.46 1427.81 Z\" fill=\"#000000\" fill-rule=\"evenodd\" fill-opacity=\"1\" /><path clip-path=\"url(#clip450)\" d=\"M1256.22 1136.69 Q1252.61 1136.69 1250.78 1140.25 Q1248.98 1143.79 1248.98 1150.92 Q1248.98 1158.03 1250.78 1161.59 Q1252.61 1165.13 1256.22 1165.13 Q1259.86 1165.13 1261.66 1161.59 Q1263.49 1158.03 1263.49 1150.92 Q1263.49 1143.79 1261.66 1140.25 Q1259.86 1136.69 1256.22 1136.69 M1256.22 1132.98 Q1262.03 1132.98 1265.09 1137.59 Q1268.17 1142.17 1268.17 1150.92 Q1268.17 1159.65 1265.09 1164.25 Q1262.03 1168.84 1256.22 1168.84 Q1250.41 1168.84 1247.33 1164.25 Q1244.28 1159.65 1244.28 1150.92 Q1244.28 1142.17 1247.33 1137.59 Q1250.41 1132.98 1256.22 1132.98 Z\" fill=\"#000000\" fill-rule=\"evenodd\" fill-opacity=\"1\" /><path clip-path=\"url(#clip450)\" d=\"M1276.39 1162.29 L1281.27 1162.29 L1281.27 1168.17 L1276.39 1168.17 L1276.39 1162.29 Z\" fill=\"#000000\" fill-rule=\"evenodd\" fill-opacity=\"1\" /><path clip-path=\"url(#clip450)\" d=\"M1291.5 1133.61 L1309.86 1133.61 L1309.86 1137.54 L1295.78 1137.54 L1295.78 1146.01 Q1296.8 1145.67 1297.82 1145.5 Q1298.84 1145.32 1299.86 1145.32 Q1305.64 1145.32 1309.02 1148.49 Q1312.4 1151.66 1312.4 1157.08 Q1312.4 1162.66 1308.93 1165.76 Q1305.46 1168.84 1299.14 1168.84 Q1296.96 1168.84 1294.7 1168.47 Q1292.45 1168.1 1290.04 1167.36 L1290.04 1162.66 Q1292.13 1163.79 1294.35 1164.35 Q1296.57 1164.9 1299.05 1164.9 Q1303.05 1164.9 1305.39 1162.8 Q1307.73 1160.69 1307.73 1157.08 Q1307.73 1153.47 1305.39 1151.36 Q1303.05 1149.25 1299.05 1149.25 Q1297.17 1149.25 1295.3 1149.67 Q1293.45 1150.09 1291.5 1150.97 L1291.5 1133.61 Z\" fill=\"#000000\" fill-rule=\"evenodd\" fill-opacity=\"1\" /><path clip-path=\"url(#clip450)\" d=\"M1246.04 869.402 L1253.68 869.402 L1253.68 843.036 L1245.37 844.703 L1245.37 840.444 L1253.63 838.777 L1258.31 838.777 L1258.31 869.402 L1265.95 869.402 L1265.95 873.337 L1246.04 873.337 L1246.04 869.402 Z\" fill=\"#000000\" fill-rule=\"evenodd\" fill-opacity=\"1\" /><path clip-path=\"url(#clip450)\" d=\"M1275.39 867.457 L1280.27 867.457 L1280.27 873.337 L1275.39 873.337 L1275.39 867.457 Z\" fill=\"#000000\" fill-rule=\"evenodd\" fill-opacity=\"1\" /><path clip-path=\"url(#clip450)\" d=\"M1300.46 841.856 Q1296.85 841.856 1295.02 845.42 Q1293.21 848.962 1293.21 856.092 Q1293.21 863.198 1295.02 866.763 Q1296.85 870.305 1300.46 870.305 Q1304.09 870.305 1305.9 866.763 Q1307.73 863.198 1307.73 856.092 Q1307.73 848.962 1305.9 845.42 Q1304.09 841.856 1300.46 841.856 M1300.46 838.152 Q1306.27 838.152 1309.33 842.758 Q1312.4 847.342 1312.4 856.092 Q1312.4 864.818 1309.33 869.425 Q1306.27 874.008 1300.46 874.008 Q1294.65 874.008 1291.57 869.425 Q1288.52 864.818 1288.52 856.092 Q1288.52 847.342 1291.57 842.758 Q1294.65 838.152 1300.46 838.152 Z\" fill=\"#000000\" fill-rule=\"evenodd\" fill-opacity=\"1\" /><path clip-path=\"url(#clip450)\" d=\"M1247.03 574.572 L1254.67 574.572 L1254.67 548.207 L1246.36 549.873 L1246.36 545.614 L1254.63 543.948 L1259.3 543.948 L1259.3 574.572 L1266.94 574.572 L1266.94 578.508 L1247.03 578.508 L1247.03 574.572 Z\" fill=\"#000000\" fill-rule=\"evenodd\" fill-opacity=\"1\" /><path clip-path=\"url(#clip450)\" d=\"M1276.39 572.628 L1281.27 572.628 L1281.27 578.508 L1276.39 578.508 L1276.39 572.628 Z\" fill=\"#000000\" fill-rule=\"evenodd\" fill-opacity=\"1\" /><path clip-path=\"url(#clip450)\" d=\"M1291.5 543.948 L1309.86 543.948 L1309.86 547.883 L1295.78 547.883 L1295.78 556.355 Q1296.8 556.008 1297.82 555.846 Q1298.84 555.66 1299.86 555.66 Q1305.64 555.66 1309.02 558.832 Q1312.4 562.003 1312.4 567.42 Q1312.4 572.998 1308.93 576.1 Q1305.46 579.179 1299.14 579.179 Q1296.96 579.179 1294.7 578.809 Q1292.45 578.438 1290.04 577.697 L1290.04 572.998 Q1292.13 574.133 1294.35 574.688 Q1296.57 575.244 1299.05 575.244 Q1303.05 575.244 1305.39 573.137 Q1307.73 571.031 1307.73 567.42 Q1307.73 563.809 1305.39 561.702 Q1303.05 559.596 1299.05 559.596 Q1297.17 559.596 1295.3 560.012 Q1293.45 560.429 1291.5 561.309 L1291.5 543.948 Z\" fill=\"#000000\" fill-rule=\"evenodd\" fill-opacity=\"1\" /><path clip-path=\"url(#clip450)\" d=\"M1249.26 279.743 L1265.58 279.743 L1265.58 283.678 L1243.63 283.678 L1243.63 279.743 Q1246.29 276.988 1250.88 272.359 Q1255.48 267.706 1256.66 266.363 Q1258.91 263.84 1259.79 262.104 Q1260.69 260.345 1260.69 258.655 Q1260.69 255.901 1258.75 254.164 Q1256.83 252.428 1253.72 252.428 Q1251.52 252.428 1249.07 253.192 Q1246.64 253.956 1243.86 255.507 L1243.86 250.785 Q1246.69 249.651 1249.14 249.072 Q1251.59 248.493 1253.63 248.493 Q1259 248.493 1262.2 251.178 Q1265.39 253.864 1265.39 258.354 Q1265.39 260.484 1264.58 262.405 Q1263.79 264.303 1261.69 266.896 Q1261.11 267.567 1258.01 270.785 Q1254.9 273.979 1249.26 279.743 Z\" fill=\"#000000\" fill-rule=\"evenodd\" fill-opacity=\"1\" /><path clip-path=\"url(#clip450)\" d=\"M1275.39 277.799 L1280.27 277.799 L1280.27 283.678 L1275.39 283.678 L1275.39 277.799 Z\" fill=\"#000000\" fill-rule=\"evenodd\" fill-opacity=\"1\" /><path clip-path=\"url(#clip450)\" d=\"M1300.46 252.197 Q1296.85 252.197 1295.02 255.762 Q1293.21 259.303 1293.21 266.433 Q1293.21 273.539 1295.02 277.104 Q1296.85 280.646 1300.46 280.646 Q1304.09 280.646 1305.9 277.104 Q1307.73 273.539 1307.73 266.433 Q1307.73 259.303 1305.9 255.762 Q1304.09 252.197 1300.46 252.197 M1300.46 248.493 Q1306.27 248.493 1309.33 253.1 Q1312.4 257.683 1312.4 266.433 Q1312.4 275.16 1309.33 279.766 Q1306.27 284.35 1300.46 284.35 Q1294.65 284.35 1291.57 279.766 Q1288.52 275.16 1288.52 266.433 Q1288.52 257.683 1291.57 253.1 Q1294.65 248.493 1300.46 248.493 Z\" fill=\"#000000\" fill-rule=\"evenodd\" fill-opacity=\"1\" /><circle clip-path=\"url(#clip453)\" cx=\"1482.11\" cy=\"1037\" r=\"14\" fill=\"#0000ff\" fill-rule=\"evenodd\" fill-opacity=\"1\" stroke=\"#000000\" stroke-opacity=\"1\" stroke-width=\"3.2\"/>\n<circle clip-path=\"url(#clip453)\" cx=\"1692.66\" cy=\"628.275\" r=\"14\" fill=\"#0000ff\" fill-rule=\"evenodd\" fill-opacity=\"1\" stroke=\"#000000\" stroke-opacity=\"1\" stroke-width=\"3.2\"/>\n<circle clip-path=\"url(#clip453)\" cx=\"1903.22\" cy=\"389.189\" r=\"14\" fill=\"#0000ff\" fill-rule=\"evenodd\" fill-opacity=\"1\" stroke=\"#000000\" stroke-opacity=\"1\" stroke-width=\"3.2\"/>\n<circle clip-path=\"url(#clip453)\" cx=\"2113.77\" cy=\"219.555\" r=\"14\" fill=\"#0000ff\" fill-rule=\"evenodd\" fill-opacity=\"1\" stroke=\"#000000\" stroke-opacity=\"1\" stroke-width=\"3.2\"/>\n<circle clip-path=\"url(#clip453)\" cx=\"2324.33\" cy=\"87.9763\" r=\"14\" fill=\"#0000ff\" fill-rule=\"evenodd\" fill-opacity=\"1\" stroke=\"#000000\" stroke-opacity=\"1\" stroke-width=\"3.2\"/>\n<circle clip-path=\"url(#clip453)\" cx=\"1376.83\" cy=\"1445.72\" r=\"14\" fill=\"#000000\" fill-rule=\"evenodd\" fill-opacity=\"1\" stroke=\"none\"/>\n<circle clip-path=\"url(#clip453)\" cx=\"1587.38\" cy=\"797.909\" r=\"14\" fill=\"#000000\" fill-rule=\"evenodd\" fill-opacity=\"1\" stroke=\"none\"/>\n<circle clip-path=\"url(#clip453)\" cx=\"1797.94\" cy=\"496.697\" r=\"14\" fill=\"#000000\" fill-rule=\"evenodd\" fill-opacity=\"1\" stroke=\"none\"/>\n<circle clip-path=\"url(#clip453)\" cx=\"2008.5\" cy=\"298.293\" r=\"14\" fill=\"#000000\" fill-rule=\"evenodd\" fill-opacity=\"1\" stroke=\"none\"/>\n<circle clip-path=\"url(#clip453)\" cx=\"2219.05\" cy=\"150.103\" r=\"14\" fill=\"#000000\" fill-rule=\"evenodd\" fill-opacity=\"1\" stroke=\"none\"/>\n<path clip-path=\"url(#clip450)\" d=\"\nM2183.79 250.738 L2319.28 250.738 L2319.28 95.2176 L2183.79 95.2176  Z\n  \" fill=\"#ffffff\" fill-rule=\"evenodd\" fill-opacity=\"1\"/>\n<polyline clip-path=\"url(#clip450)\" style=\"stroke:#000000; stroke-linecap:butt; stroke-linejoin:round; stroke-width:4; stroke-opacity:1; fill:none\" points=\"\n  2183.79,250.738 2319.28,250.738 2319.28,95.2176 2183.79,95.2176 2183.79,250.738 \n  \"/>\n<circle clip-path=\"url(#clip450)\" cx=\"2228.43\" cy=\"147.058\" r=\"23\" fill=\"#0000ff\" fill-rule=\"evenodd\" fill-opacity=\"1\" stroke=\"#000000\" stroke-opacity=\"1\" stroke-width=\"5.12\"/>\n<path clip-path=\"url(#clip450)\" d=\"M2285.01 132.856 Q2281.4 132.856 2279.57 136.421 Q2277.77 139.963 2277.77 147.092 Q2277.77 154.199 2279.57 157.764 Q2281.4 161.305 2285.01 161.305 Q2288.65 161.305 2290.45 157.764 Q2292.28 154.199 2292.28 147.092 Q2292.28 139.963 2290.45 136.421 Q2288.65 132.856 2285.01 132.856 M2285.01 129.153 Q2290.82 129.153 2293.88 133.759 Q2296.96 138.342 2296.96 147.092 Q2296.96 155.819 2293.88 160.426 Q2290.82 165.009 2285.01 165.009 Q2279.2 165.009 2276.13 160.426 Q2273.07 155.819 2273.07 147.092 Q2273.07 138.342 2276.13 133.759 Q2279.2 129.153 2285.01 129.153 Z\" fill=\"#000000\" fill-rule=\"evenodd\" fill-opacity=\"1\" /><circle clip-path=\"url(#clip450)\" cx=\"2228.43\" cy=\"198.898\" r=\"23\" fill=\"#000000\" fill-rule=\"evenodd\" fill-opacity=\"1\" stroke=\"none\"/>\n<path clip-path=\"url(#clip450)\" d=\"M2273.74 212.242 L2281.38 212.242 L2281.38 185.877 L2273.07 187.543 L2273.07 183.284 L2281.33 181.618 L2286.01 181.618 L2286.01 212.242 L2293.65 212.242 L2293.65 216.178 L2273.74 216.178 L2273.74 212.242 Z\" fill=\"#000000\" fill-rule=\"evenodd\" fill-opacity=\"1\" /></svg>\n"
     },
     "execution_count": 39,
     "metadata": {},
     "output_type": "execute_result"
    }
   ],
   "source": [
    "# użycie opcji layout i grup\n",
    "scatter(df.a, [df.b, df.c], group=df.e,  colour = [:red :blue :green :black], layout=2)"
   ]
  },
  {
   "cell_type": "markdown",
   "metadata": {},
   "source": [
    "Uwaga: Ze względu na specyfikę języka Julia pomiar czasu wykonania należy brać pod uwagę dopiero od drugiego wywołania danej funkcji\n",
    "(za pierwszym razem mierzymy również czas kompilacji)\n",
    "\n",
    "Makro @time - zwraca wartość funkcji i wypisuje czas jej trwania.\n",
    "Makro @elapsed zwraca czas trwania (może być wygodniejsze w użyciu). \n",
    "Warto też oglądnąć działanie makr @timev, @timed, i @allocated\n",
    "\n",
    "https://docs.julialang.org/en/v1/base/base/#Base.@time\n",
    "\n",
    "Rand(10) - wylosuj 10-elementową tablicę Float64 z przedziału [0,1)\n",
    "\n",
    "https://docs.julialang.org/en/v1/stdlib/Random/#Base.rand"
   ]
  },
  {
   "cell_type": "markdown",
   "metadata": {},
   "source": [
    "### Zadanie \n",
    "- Napisać program w języku Julia do obliczania iloczynu skalarnego wektorów (<a href=\"https://docs.julialang.org/en/v1/stdlib/LinearAlgebra/#LinearAlgebra.dot\">LinearAlgebra.dot</a>) i mnożenia macierzy kwadratowej przez wektor z użyciem \n",
    "<a href=\"https://docs.julialang.org/en/v1/stdlib/LinearAlgebra/#Elementary-operations-1\">operatora *</a>.\n",
    "- Uruchomić i zmierzyć czasy działania obydwu funkcji - każdej dla różnych rozmiarów wektorów.  Dokonać 10 pomiarów dla każdego rozmiaru wektora.\n",
    "- Czasy działania powinny  być zapisywane do <b>jednego</b> pliku CSV. Należy zaplanować odpowiednią strukturę kolumn takiego pliku.\n",
    "- Wczytać dane z w/w pliku do <b>jednego</b> DataFrame w języku Julia. \n",
    "- Korzystająć z mechanizmów DataFrame w języku Julia obliczyć średnią i odchylenie standardowe, w taki sposób, aby narysować wykresy średnich czasów obliczenia operacji w zależności od rozmiaru wektora. Dodać słupki błędów do obydwu wykresów uzyskanych z obliczenia odchylenia standardowego. \n",
    "- Proszę poukładac wykresy  w tabelkę za pomocą  opcji layouts: https://docs.juliaplots.org/latest/layouts/#Simple-Layouts-1.\n",
    "- Należy zadbać o staranne podpisanie osi i wykresów.\n",
    "\n",
    "### Punktacja\n",
    "- Implementacja  1 punkt\n",
    "- Poprawny dataframe  2 punkty\n",
    "- Poprawnie obliczone srednie, odchylenie i przedstawienie ich na wykresach 2 pkt\n",
    "- Doskonałość wykresów (użycie layout, dokładne podpisy osi i wykresów) 1 pkt "
   ]
  }
 ],
 "metadata": {
  "kernelspec": {
   "display_name": "Julia 1.7.2",
   "language": "julia",
   "name": "julia-1.7"
  },
  "language_info": {
   "file_extension": ".jl",
   "mimetype": "application/julia",
   "name": "julia",
   "version": "1.7.2"
  }
 },
 "nbformat": 4,
 "nbformat_minor": 2
}
