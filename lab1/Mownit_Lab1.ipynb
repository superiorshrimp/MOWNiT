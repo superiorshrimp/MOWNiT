{
 "cells": [
  {
   "cell_type": "markdown",
   "metadata": {},
   "source": [
    "# MOwNiT\n",
    "## Laboratorium 1 - Arytmetyka komputerowa"
   ]
  },
  {
   "cell_type": "markdown",
   "metadata": {},
   "source": [
    "Kalkulatory IEEE-754:\n",
    "* http://babbage.cs.qc.cuny.edu/IEEE-754/\n",
    "* https://www.h-schmidt.net/FloatConverter/IEEE754.html"
   ]
  },
  {
   "cell_type": "code",
   "execution_count": 11,
   "metadata": {},
   "outputs": [
    {
     "name": "stdout",
     "output_type": "stream",
     "text": [
      "('0', \"01111010\", \"11100011001011110011001\""
     ]
    },
    {
     "name": "stdout",
     "output_type": "stream",
     "text": [
      ")"
     ]
    }
   ],
   "source": [
    "# znak, cecha, mantysa\n",
    "# uwaga - w Julii tablice indeksujemy od 1\n",
    "# uwaga: ukryta jedynka nie jest pamiętana\n",
    "# uwaga: cecha jest pamiętana w kodzie z nadmiarem (tutaj BIAS=127)\n",
    "x = 0.000000000001\n",
    "decode(x::Float32) = (b=bitstring(x); (b[1], b[2:9], b[10:32]))\n",
    "b=bitstring(x)\n",
    "print((b[1], b[2:9], b[10:32]))"
   ]
  },
  {
   "cell_type": "markdown",
   "metadata": {},
   "source": [
    "## Trochę teorii o IEEE-754"
   ]
  },
  {
   "cell_type": "markdown",
   "metadata": {},
   "source": [
    "Liczby zmienno przecinkowe są zapisywane w standardzie jako:\n",
    "\n",
    "$L = (-1)^{znak} * mantysa * 2^{cecha}$ \n",
    "\n",
    "* znak - 0 oznacza liczbę dodatnią, 1 ujemną\n",
    "* mantysa - wpływa na precyzje\n",
    "* cecha - wpływa na zakres, składająca się z samych 0 albo 1 ma specjalne znaczenie"
   ]
  },
  {
   "cell_type": "markdown",
   "metadata": {},
   "source": [
    "| Nazwa     | Liczba bitów | Bity znaku | Bity cechy | Bity mantysy | Bias  | Dokładność (cyfry znaczące) | Uwagi                                 |\n",
    "|-----------|--------------|------------|------------|--------------|-------|-----------------------------|---------------------------------------|\n",
    "| half      | 16           | 1          | 5          | 10           | 15    | 4                           |                                       |\n",
    "| single    | 32           | 1          | 8          | 23           | 127   | 7                           |                                       |\n",
    "| double    | 64           | 1          | 11         | 52           | 1023  | 16                          |                                       |\n",
    "| quadruple | 128          | 1          | 15         | 112          | 16383 | 34                          | Wprowadzone w 2008, niezbyt popularne |"
   ]
  },
  {
   "cell_type": "markdown",
   "metadata": {},
   "source": [
    "### Liczby znormalizowane"
   ]
  },
  {
   "cell_type": "markdown",
   "metadata": {},
   "source": [
    "Mantysa ma wartość z przedziału [1,2) - pierwszy bit ma zawsze wartość 1, więc nie trzeba go zapisywać (jest on tam \"domyślnie\")\n",
    "$L = (-1)^{znak} * 1.mantysa * 2^{cecha-bias}$"
   ]
  },
  {
   "cell_type": "code",
   "execution_count": 12,
   "metadata": {
    "scrolled": true
   },
   "outputs": [
    {
     "data": {
      "text/plain": [
       "('0', \"10000000\", \"01000000000000000000000\")"
      ]
     },
     "metadata": {},
     "output_type": "display_data"
    }
   ],
   "source": [
    "decode(Float32(2.5))"
   ]
  },
  {
   "cell_type": "markdown",
   "metadata": {},
   "source": [
    "Policzenie wartości na podstawie reprezentacji bitowej."
   ]
  },
  {
   "cell_type": "code",
   "execution_count": 13,
   "metadata": {},
   "outputs": [
    {
     "data": {
      "text/plain": [
       "(1, 1.25)"
      ]
     },
     "metadata": {},
     "output_type": "display_data"
    }
   ],
   "source": [
    "cecha = 2^7-127\n",
    "mantysa = 2^-2 + 1\n",
    "cecha, mantysa"
   ]
  },
  {
   "cell_type": "code",
   "execution_count": 14,
   "metadata": {},
   "outputs": [
    {
     "data": {
      "text/plain": [
       "2.5"
      ]
     },
     "metadata": {},
     "output_type": "display_data"
    }
   ],
   "source": [
    "L = 1 * mantysa * 2^cecha"
   ]
  },
  {
   "cell_type": "markdown",
   "metadata": {},
   "source": [
    "### Liczba 0"
   ]
  },
  {
   "cell_type": "markdown",
   "metadata": {},
   "source": [
    "Wartości 0 nie da się zapisać w postaci znormalizowanej. Jeżeli zarówno mantysa jak i cecha zawierają same 0, to reprezentowana jest wartość 0.\n",
    "\n",
    "Ze względu na bit znaku, istnieją dwie możliwości 0: +0 oraz -0."
   ]
  },
  {
   "cell_type": "code",
   "execution_count": 15,
   "metadata": {},
   "outputs": [
    {
     "data": {
      "text/plain": [
       "('1', \"00000000\", \"00000000000000000000000\")"
      ]
     },
     "metadata": {},
     "output_type": "display_data"
    }
   ],
   "source": [
    "decode(Float32(-0.0))"
   ]
  },
  {
   "cell_type": "code",
   "execution_count": 16,
   "metadata": {},
   "outputs": [
    {
     "data": {
      "text/plain": [
       "('0', \"00000000\", \"00000000000000000000000\")"
      ]
     },
     "metadata": {},
     "output_type": "display_data"
    }
   ],
   "source": [
    "decode(Float32(+0.0))"
   ]
  },
  {
   "cell_type": "code",
   "execution_count": 17,
   "metadata": {},
   "outputs": [
    {
     "data": {
      "text/plain": [
       "true"
      ]
     },
     "metadata": {},
     "output_type": "display_data"
    }
   ],
   "source": [
    "Float32(-0.0) == Float32(+0.0) # Oba zera są równe"
   ]
  },
  {
   "cell_type": "markdown",
   "metadata": {},
   "source": [
    "### Liczby zdenormalizowane\n",
    "\n",
    "Jeżeli cecha składa się z samych 0 to liczba jest *zdenormalizowana* i mantysa nie posiada \"domyślnego\" bitu. Pozwala to na reprezentacje liczb bliskich 0, które bez denormalizacji byłyby 0.\n",
    "\n",
    "$L = (-1)^{znak} * 0.mantysa * 2^{-bias+1}$\n",
    "\n",
    "Uwaga: Liczba 0 nie jest określana jako zdenormalizowana, pomimo, że cecha ma same 0!"
   ]
  },
  {
   "cell_type": "code",
   "execution_count": 39,
   "metadata": {},
   "outputs": [
    {
     "data": {
      "text/plain": [
       "(('0', \"00000000\", \"00000000000001011001010\"), true)"
      ]
     },
     "metadata": {},
     "output_type": "display_data"
    }
   ],
   "source": [
    "L = Float32(1e-42)\n",
    "decode(Float32(L)), issubnormal(L)"
   ]
  },
  {
   "cell_type": "markdown",
   "metadata": {},
   "source": [
    "### Wartości specjalne"
   ]
  },
  {
   "cell_type": "markdown",
   "metadata": {},
   "source": [
    "####  Nieskończoność\n",
    "\n",
    "Reprezentowana jest przez cechę z samych 1 oraz mantysę z samych 0. W zależności od znaku można wyróżnić $-\\infty$ oraz $+\\infty$."
   ]
  },
  {
   "cell_type": "code",
   "execution_count": 18,
   "metadata": {},
   "outputs": [
    {
     "data": {
      "text/plain": [
       "('0', \"11111111\", \"00000000000000000000000\")"
      ]
     },
     "metadata": {},
     "output_type": "display_data"
    }
   ],
   "source": [
    "decode(Inf32)"
   ]
  },
  {
   "cell_type": "code",
   "execution_count": 41,
   "metadata": {},
   "outputs": [
    {
     "data": {
      "text/plain": [
       "('1', \"11111111\", \"00000000000000000000000\")"
      ]
     },
     "metadata": {},
     "output_type": "display_data"
    }
   ],
   "source": [
    "decode(-Inf32)"
   ]
  },
  {
   "cell_type": "markdown",
   "metadata": {},
   "source": [
    "#### NaN\n",
    "\n",
    "Reprezentowana jest przez cechę z samych 1 oraz mantysę różną od 0.\n",
    "\n",
    "`NaN`ami są np. 0/0, $\\infty - \\infty$"
   ]
  },
  {
   "cell_type": "code",
   "execution_count": 19,
   "metadata": {},
   "outputs": [
    {
     "data": {
      "text/plain": [
       "NaN32"
      ]
     },
     "metadata": {},
     "output_type": "display_data"
    }
   ],
   "source": [
    "Float32(0)/Float32(0)"
   ]
  },
  {
   "cell_type": "code",
   "execution_count": 43,
   "metadata": {},
   "outputs": [
    {
     "data": {
      "text/plain": [
       "NaN32"
      ]
     },
     "metadata": {},
     "output_type": "display_data"
    }
   ],
   "source": [
    "Inf32 - Inf32"
   ]
  },
  {
   "cell_type": "code",
   "execution_count": 44,
   "metadata": {},
   "outputs": [
    {
     "data": {
      "text/plain": [
       "('0', \"11111111\", \"10000000000000000000000\")"
      ]
     },
     "metadata": {},
     "output_type": "display_data"
    }
   ],
   "source": [
    "decode(NaN32)"
   ]
  },
  {
   "cell_type": "markdown",
   "metadata": {},
   "source": [
    "### Praktyczne wskazówki"
   ]
  },
  {
   "cell_type": "markdown",
   "metadata": {},
   "source": [
    "Kolejność działań ma znaczenie:"
   ]
  },
  {
   "cell_type": "code",
   "execution_count": 20,
   "metadata": {},
   "outputs": [
    {
     "data": {
      "text/plain": [
       "5.9604645f-8"
      ]
     },
     "metadata": {},
     "output_type": "display_data"
    }
   ],
   "source": [
    "e = eps(Float32)/2"
   ]
  },
  {
   "cell_type": "code",
   "execution_count": 21,
   "metadata": {
    "scrolled": true
   },
   "outputs": [
    {
     "data": {
      "text/plain": [
       "1.0f0"
      ]
     },
     "metadata": {},
     "output_type": "display_data"
    }
   ],
   "source": [
    "(Float32(1.0) + e) + e"
   ]
  },
  {
   "cell_type": "code",
   "execution_count": 22,
   "metadata": {},
   "outputs": [
    {
     "data": {
      "text/plain": [
       "1.0000001f0"
      ]
     },
     "metadata": {},
     "output_type": "display_data"
    }
   ],
   "source": [
    "Float32(1.0) + (e + e)"
   ]
  },
  {
   "cell_type": "markdown",
   "metadata": {},
   "source": [
    "Wniosek: Sumujemy od najmniejszych"
   ]
  },
  {
   "cell_type": "markdown",
   "metadata": {},
   "source": [
    "Nie powinno się porównywać floatów bezpośrednio. Większość języków posiada funkcje do porówywania liczb zmiennoprzecinkowych z tolerancją, np. `isapprox` w Julii, `numpy.isclose` w Pythonie etc."
   ]
  },
  {
   "cell_type": "code",
   "execution_count": 48,
   "metadata": {},
   "outputs": [
    {
     "data": {
      "text/plain": [
       "false"
      ]
     },
     "metadata": {},
     "output_type": "display_data"
    }
   ],
   "source": [
    "0.1 + 0.2 == 0.3"
   ]
  },
  {
   "cell_type": "code",
   "execution_count": 49,
   "metadata": {},
   "outputs": [
    {
     "data": {
      "text/plain": [
       "true"
      ]
     },
     "metadata": {},
     "output_type": "display_data"
    }
   ],
   "source": [
    "isapprox(0.1 + 0.2, 0.3)"
   ]
  },
  {
   "cell_type": "markdown",
   "metadata": {},
   "source": [
    "## Przykłady"
   ]
  },
  {
   "cell_type": "code",
   "execution_count": 50,
   "metadata": {},
   "outputs": [
    {
     "data": {
      "text/plain": [
       "\"00111101110011001100110011001101\""
      ]
     },
     "metadata": {},
     "output_type": "display_data"
    }
   ],
   "source": [
    "bitstring(Float32(.1))"
   ]
  },
  {
   "cell_type": "code",
   "execution_count": 51,
   "metadata": {
    "scrolled": true
   },
   "outputs": [
    {
     "data": {
      "text/plain": [
       "\"00111111100000000000000000000000\""
      ]
     },
     "metadata": {},
     "output_type": "display_data"
    }
   ],
   "source": [
    "bitstring(Float32(1.0))"
   ]
  },
  {
   "cell_type": "code",
   "execution_count": 52,
   "metadata": {},
   "outputs": [
    {
     "data": {
      "text/plain": [
       "\"0011111111110000000000000000000000000000000000000000000000000000\""
      ]
     },
     "metadata": {},
     "output_type": "display_data"
    }
   ],
   "source": [
    "bitstring(Float64(1.0))"
   ]
  },
  {
   "cell_type": "code",
   "execution_count": 53,
   "metadata": {},
   "outputs": [
    {
     "data": {
      "text/plain": [
       "\"0011111111110000000000000000000000000000000000000000000000000000\""
      ]
     },
     "metadata": {},
     "output_type": "display_data"
    }
   ],
   "source": [
    "# domyślnie Float64\n",
    "bitstring(1.0)"
   ]
  },
  {
   "cell_type": "code",
   "execution_count": 54,
   "metadata": {},
   "outputs": [
    {
     "data": {
      "text/plain": [
       "\"0011110000000000\""
      ]
     },
     "metadata": {},
     "output_type": "display_data"
    }
   ],
   "source": [
    "# Float16\n",
    "bitstring(Float16(1.0))"
   ]
  },
  {
   "cell_type": "code",
   "execution_count": 55,
   "metadata": {},
   "outputs": [
    {
     "name": "stdout",
     "output_type": "stream",
     "text": [
      "1.2*2^0"
     ]
    },
    {
     "name": "stdout",
     "output_type": "stream",
     "text": [
      "\n"
     ]
    }
   ],
   "source": [
    "println(significand(Float32(1.2)), \"*2^\", exponent(Float32(1.20)))"
   ]
  },
  {
   "cell_type": "code",
   "execution_count": 56,
   "metadata": {},
   "outputs": [
    {
     "data": {
      "text/plain": [
       "10-element Vector{String}:\n",
       " \"00111111100000000000000000000000\"\n",
       " \"00111111100000000000000000000001\"\n",
       " \"00111111100000000000000000000010\"\n",
       " \"00111111100000000000000000000011\"\n",
       " \"00111111100000000000000000000100\"\n",
       " \"00111111100000000000000000000101\"\n",
       " \"00111111100000000000000000000110\"\n",
       " \"00111111100000000000000000000111\"\n",
       " \"00111111100000000000000000001000\"\n",
       " \"00111111100000000000000000001001\""
      ]
     },
     "metadata": {},
     "output_type": "display_data"
    }
   ],
   "source": [
    "# co ile liczby sa reprezentowane \n",
    "c=Float32[]\n",
    "a=Float32(1.0)\n",
    "r=1:10\n",
    "for i=r\n",
    "    push!(c, a)\n",
    "    a=nextfloat(a)\n",
    "end\n",
    "map(x-> bitstring(x),c)"
   ]
  },
  {
   "cell_type": "code",
   "execution_count": 25,
   "metadata": {},
   "outputs": [
    {
     "data": {
      "text/plain": [
       "1.1920929f-7"
      ]
     },
     "metadata": {},
     "output_type": "display_data"
    }
   ],
   "source": [
    "# Maszynowe epsilon mówi, jaki jest odstęp między kolejnymi liczbami zmiennoprzecinkowymi reprezentowanymi w komputerze\n",
    "eps(Float32(1))"
   ]
  },
  {
   "cell_type": "code",
   "execution_count": 58,
   "metadata": {},
   "outputs": [
    {
     "data": {
      "text/plain": [
       "2.3841858f-7"
      ]
     },
     "metadata": {},
     "output_type": "display_data"
    }
   ],
   "source": [
    "eps(Float32(2))"
   ]
  },
  {
   "cell_type": "code",
   "execution_count": 59,
   "metadata": {
    "nbgrader": {
     "grade": true,
     "grade_id": "cell-510e2987d5b4ebfc",
     "locked": false,
     "points": 2,
     "schema_version": 1,
     "solution": true
    }
   },
   "outputs": [
    {
     "name": "stdout",
     "output_type": "stream",
     "text": [
      "5.0e-34('0', \"00010000\", \"01001100010011101001100\")  false\n",
      "2.5e-34('0', \"00001111\", \"01001100010011101001100\")  false\n",
      "1.25e-34('0', \"00001110\", \"01001100010011101001100\")  false\n",
      "6.25e-35('0', \"00001101\", \"01001100010011101001100\")  false\n",
      "3.125e-35('0', \"00001100\", \"01001100010011101001100\")  false\n",
      "1.5625e-35('0', \"00001011\", \"01001100010011101001100\")  false\n",
      "7.8125e-36('0', \"00001010\", \"01001100010011101001100\")  false\n",
      "3.90625e-36('0', \"00001001\", \"01001100010011101001100\")  false\n",
      "1.953125e-36('0', \"00001000\", \"01001100010011101001100\")  false\n",
      "9.765625e-37('0', \"00000111\", \"01001100010011101001100\")  false\n",
      "4.8828126e-37('0', \"00000110\", \"01001100010011101001100\")  false\n",
      "2.4414063e-37('0', \"00000101\", \"01001100010011101001100\")  false\n",
      "1.2207032e-37('0', \"00000100\", \"01001100010011101001100\")  false\n",
      "6.103516e-38('0', \"00000011\", \"01001100010011101001100\")  false\n",
      "3.051758e-38('0', \"00000010\", \"01001100010011101001100\")  false\n",
      "1.525879e-38('0', \"00000001\", \"01001100010011101001100\")  false\n",
      "7.629395e-39('0', \"00000000\", \"10100110001001110100110\")  true\n",
      "3.814697e-39('0', \"00000000\", \"01010011000100111010011\")  true\n",
      "1.90735e-39('0', \"00000000\", \"00101001100010011101010\")  true\n",
      "9.53675e-40('0', \"00000000\", \"00010100110001001110101\")  true\n",
      "4.76837e-40('0', \"00000000\", \"00001010011000100111010\")  true\n",
      "2.38418e-40('0', \"00000000\", \"00000101001100010011101\")  true\n",
      "1.19208e-40('0', \"00000000\", \"00000010100110001001110\")  true\n",
      "5.9604e-41('0', \"00000000\", \"00000001010011000100111\")  true\n",
      "2.9803e-41('0', \"00000000\", \"00000000101001100010100\")  true\n",
      "1.4901e-41('0', \"00000000\", \"00000000010100110001010\")  true\n",
      "7.451e-42('0', \"00000000\", \"00000000001010011000101\")  true\n",
      "3.725e-42('0', \"00000000\", \"00000000000101001100010\")  true\n",
      "1.862e-42('0', \"00000000\", \"00000000000010100110001\")  true\n",
      "9.3e-43('0', \"00000000\", \"00000000000001010011000\")  true\n",
      "4.65e-43('0', \"00000000\", \"00000000000000101001100\")  true\n",
      "2.33e-43('0', \"00000000\", \"00000000000000010100110\")  true\n",
      "1.16e-43('0', \"00000000\", \"00000000000000001010011\")  true\n",
      "5.9e-44('0', \"00000000\", \"00000000000000000101010\")  true\n",
      "3.0e-44('0', \"00000000\", \"00000000000000000010101\")  true\n",
      "1.4e-44('0', \"00000000\", \"00000000000000000001010\")  true\n",
      "7.0e-45('0', \"00000000\", \"00000000000000000000101\")  true\n",
      "3.0e-45('0', \"00000000\", \"00000000000000000000010\")  true\n",
      "1.0e-45('0', \"00000000\", \"00000000000000000000001\")  true\n",
      "0.0('0', \"00000000\", \"00000000000000000000000\")  false\n"
     ]
    }
   ],
   "source": [
    "# Badanie postaci zdenormalizowanej. Co się dzieje, jak liczby są coraz mniejsze?\n",
    "a = Float32(1e-33)\n",
    "while a > 0\n",
    "    a = a/Float32(2.0)\n",
    "    println(a, decode(a), \"  \", issubnormal(a))\n",
    "end"
   ]
  },
  {
   "cell_type": "code",
   "execution_count": 60,
   "metadata": {},
   "outputs": [
    {
     "ename": "ArgumentError",
     "evalue": "ArgumentError: Package Plots not found in current path:\n- Run `import Pkg; Pkg.add(\"Plots\")` to install the Plots package.\n",
     "output_type": "error",
     "traceback": [
      "ArgumentError: Package Plots not found in current path:\n",
      "- Run `import Pkg; Pkg.add(\"Plots\")` to install the Plots package.\n",
      "\n",
      "\n",
      "Stacktrace:\n",
      "  [1] require(into::Module, mod::Symbol)\n",
      "    @ Base .\\loading.jl:967\n",
      "  [2] eval\n",
      "    @ .\\boot.jl:373 [inlined]\n",
      "  [3] include_string(mapexpr::typeof(REPL.softscope), mod::Module, code::String, filename::String)\n",
      "    @ Base .\\loading.jl:1196\n",
      "  [4] #invokelatest#2\n",
      "    @ .\\essentials.jl:716 [inlined]\n",
      "  [5] invokelatest\n",
      "    @ .\\essentials.jl:714 [inlined]\n",
      "  [6] (::VSCodeServer.var\"#150#151\"{VSCodeServer.NotebookRunCellArguments, String})()\n",
      "    @ VSCodeServer c:\\Users\\Szymon\\.vscode\\extensions\\julialang.language-julia-1.5.11\\scripts\\packages\\VSCodeServer\\src\\serve_notebook.jl:18\n",
      "  [7] withpath(f::VSCodeServer.var\"#150#151\"{VSCodeServer.NotebookRunCellArguments, String}, path::String)\n",
      "    @ VSCodeServer c:\\Users\\Szymon\\.vscode\\extensions\\julialang.language-julia-1.5.11\\scripts\\packages\\VSCodeServer\\src\\repl.jl:185\n",
      "  [8] notebook_runcell_request(conn::VSCodeServer.JSONRPC.JSONRPCEndpoint{Base.PipeEndpoint, Base.PipeEndpoint}, params::VSCodeServer.NotebookRunCellArguments)\n",
      "    @ VSCodeServer c:\\Users\\Szymon\\.vscode\\extensions\\julialang.language-julia-1.5.11\\scripts\\packages\\VSCodeServer\\src\\serve_notebook.jl:14\n",
      "  [9] dispatch_msg(x::VSCodeServer.JSONRPC.JSONRPCEndpoint{Base.PipeEndpoint, Base.PipeEndpoint}, dispatcher::VSCodeServer.JSONRPC.MsgDispatcher, msg::Dict{String, Any})\n",
      "    @ VSCodeServer.JSONRPC c:\\Users\\Szymon\\.vscode\\extensions\\julialang.language-julia-1.5.11\\scripts\\packages\\JSONRPC\\src\\typed.jl:67\n",
      " [10] serve_notebook(pipename::String; crashreporting_pipename::String)\n",
      "    @ VSCodeServer c:\\Users\\Szymon\\.vscode\\extensions\\julialang.language-julia-1.5.11\\scripts\\packages\\VSCodeServer\\src\\serve_notebook.jl:94\n",
      " [11] top-level scope\n",
      "    @ c:\\Users\\Szymon\\.vscode\\extensions\\julialang.language-julia-1.5.11\\scripts\\notebook\\notebook.jl:12\n",
      " [12] include(mod::Module, _path::String)\n",
      "    @ Base .\\Base.jl:418\n",
      " [13] exec_options(opts::Base.JLOptions)\n",
      "    @ Base .\\client.jl:292\n",
      " [14] _start()\n",
      "    @ Base .\\client.jl:495"
     ]
    }
   ],
   "source": [
    "# Rysowanie wykresów\n",
    "#using Pkg\n",
    "#Pkg.add(\"Plots\")\n",
    "# http://docs.juliaplots.org/latest/tutorial/\n",
    "using Plots"
   ]
  },
  {
   "cell_type": "code",
   "execution_count": 61,
   "metadata": {},
   "outputs": [
    {
     "ename": "UndefVarError",
     "evalue": "UndefVarError: scatter not defined",
     "output_type": "error",
     "traceback": [
      "UndefVarError: scatter not defined\n",
      "\n",
      "Stacktrace:\n",
      "  [1] top-level scope\n",
      "    @ c:\\Users\\Szymon\\MOWNIT\\lab1\\Mownit_Lab1.ipynb:1\n",
      "  [2] eval\n",
      "    @ .\\boot.jl:373 [inlined]\n",
      "  [3] include_string(mapexpr::typeof(REPL.softscope), mod::Module, code::String, filename::String)\n",
      "    @ Base .\\loading.jl:1196\n",
      "  [4] #invokelatest#2\n",
      "    @ .\\essentials.jl:716 [inlined]\n",
      "  [5] invokelatest\n",
      "    @ .\\essentials.jl:714 [inlined]\n",
      "  [6] (::VSCodeServer.var\"#150#151\"{VSCodeServer.NotebookRunCellArguments, String})()\n",
      "    @ VSCodeServer c:\\Users\\Szymon\\.vscode\\extensions\\julialang.language-julia-1.5.11\\scripts\\packages\\VSCodeServer\\src\\serve_notebook.jl:18\n",
      "  [7] withpath(f::VSCodeServer.var\"#150#151\"{VSCodeServer.NotebookRunCellArguments, String}, path::String)\n",
      "    @ VSCodeServer c:\\Users\\Szymon\\.vscode\\extensions\\julialang.language-julia-1.5.11\\scripts\\packages\\VSCodeServer\\src\\repl.jl:185\n",
      "  [8] notebook_runcell_request(conn::VSCodeServer.JSONRPC.JSONRPCEndpoint{Base.PipeEndpoint, Base.PipeEndpoint}, params::VSCodeServer.NotebookRunCellArguments)\n",
      "    @ VSCodeServer c:\\Users\\Szymon\\.vscode\\extensions\\julialang.language-julia-1.5.11\\scripts\\packages\\VSCodeServer\\src\\serve_notebook.jl:14\n",
      "  [9] dispatch_msg(x::VSCodeServer.JSONRPC.JSONRPCEndpoint{Base.PipeEndpoint, Base.PipeEndpoint}, dispatcher::VSCodeServer.JSONRPC.MsgDispatcher, msg::Dict{String, Any})\n",
      "    @ VSCodeServer.JSONRPC c:\\Users\\Szymon\\.vscode\\extensions\\julialang.language-julia-1.5.11\\scripts\\packages\\JSONRPC\\src\\typed.jl:67\n",
      " [10] serve_notebook(pipename::String; crashreporting_pipename::String)\n",
      "    @ VSCodeServer c:\\Users\\Szymon\\.vscode\\extensions\\julialang.language-julia-1.5.11\\scripts\\packages\\VSCodeServer\\src\\serve_notebook.jl:94\n",
      " [11] top-level scope\n",
      "    @ c:\\Users\\Szymon\\.vscode\\extensions\\julialang.language-julia-1.5.11\\scripts\\notebook\\notebook.jl:12\n",
      " [12] include(mod::Module, _path::String)\n",
      "    @ Base .\\Base.jl:418\n",
      " [13] exec_options(opts::Base.JLOptions)\n",
      "    @ Base .\\client.jl:292\n",
      " [14] _start()\n",
      "    @ Base .\\client.jl:495"
     ]
    }
   ],
   "source": [
    "scatter(1:1:5, [2,2,3,3,5])"
   ]
  },
  {
   "cell_type": "markdown",
   "metadata": {},
   "source": [
    "## Bonus"
   ]
  },
  {
   "cell_type": "markdown",
   "metadata": {},
   "source": [
    "Ciekawe zastosowanie znajomości IEEE-754 do obliczania odwrotności pierwiastka, wykorzystane w grze Quake 3: [filmik](https://youtu.be/p8u_k2LIZyo)"
   ]
  },
  {
   "cell_type": "markdown",
   "metadata": {},
   "source": [
    "# Zadania"
   ]
  },
  {
   "cell_type": "markdown",
   "metadata": {},
   "source": [
    "### Zadanie 1"
   ]
  },
  {
   "cell_type": "markdown",
   "metadata": {},
   "source": [
    "Porównać w języku Julia reprezentację bitową liczby 1/3 dla `Float16`, `Float32`, `Float64` oraz liczby, \n",
    "która jest inicjalizowana jako `Float16`, a potem rzutowana na `Float64`."
   ]
  },
  {
   "cell_type": "markdown",
   "metadata": {},
   "source": [
    "### Zadanie 2"
   ]
  },
  {
   "cell_type": "markdown",
   "metadata": {},
   "source": [
    "Zbadać, jak zmienia się odległość między kolejnymi liczbami zminnoprzecinkowymi \n",
    "reprezentowanymi w komputerze za pomocą języka Julia. \n",
    "Narysować wykres używając Plots zależności odległości od wartości liczby dla zakresu  od 1.0 do 1000000.0."
   ]
  },
  {
   "cell_type": "markdown",
   "metadata": {},
   "source": [
    "### Zadanie 3"
   ]
  },
  {
   "cell_type": "markdown",
   "metadata": {},
   "source": [
    "Jedną z bibliotek numerycznych, jaką będziemy używać na zajęciach jest <a href=\"http://home.agh.edu.pl/~kzajac/dydakt/mownit/lab1/gsl.html\">GSL</a> (język C). Korzystając ze <a href=\"https://www.gnu.org/software/gsl/doc/html/ieee754.html\"> wsparcia dla wyświetlania reprezentacji liczb zmiennoprzecinkowych</a> zobaczyć jak zmienia się cecha i mantysa dla coraz mniejszych liczb. Zaobserwować, kiedy matysa przestaje być znormalizowana i dlaczego?\n",
    "\n",
    "Kod załączyć jako komórka Markdown sformatowana jako C ([link](https://github.com/adam-p/markdown-here/wiki/Markdown-Cheatsheet#code)). Wynik także jako Markdown (kod albo fragment zrzutu ekranu)."
   ]
  },
  {
   "cell_type": "markdown",
   "metadata": {},
   "source": [
    "### Zadanie 4"
   ]
  },
  {
   "cell_type": "markdown",
   "metadata": {},
   "source": [
    "Na przykładzie wybranego algorytmu niestabilnego numerycznie: \n",
    "1. Pokazać, że działa źle.\n",
    "2. Pokazać które konkretnie działania powodują zwiększenie błędu (np. dzielenie przez małą liczbę, cancellation).\n",
    "3. Zademonstować wersję stabilną.\n",
    "\n",
    "Wszystkie punkty przedstawić w postaci notatnika Julii."
   ]
  }
 ],
 "metadata": {
  "kernelspec": {
   "display_name": "Julia 1.7.2",
   "language": "julia",
   "name": "julia-1.7"
  },
  "language_info": {
   "file_extension": ".jl",
   "mimetype": "application/julia",
   "name": "julia",
   "version": "1.7.2"
  }
 },
 "nbformat": 4,
 "nbformat_minor": 2
}
